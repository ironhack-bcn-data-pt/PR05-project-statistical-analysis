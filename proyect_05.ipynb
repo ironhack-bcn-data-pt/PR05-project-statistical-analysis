{
 "cells": [
  {
   "cell_type": "markdown",
   "id": "01d6145c",
   "metadata": {
    "toc": true
   },
   "source": [
    "<h1>Table of Contents<span class=\"tocSkip\"></span></h1>\n",
    "<div class=\"toc\"><ul class=\"toc-item\"><li><span><a href=\"#Fase-importación\" data-toc-modified-id=\"Fase-importación-1\"><span class=\"toc-item-num\">1&nbsp;&nbsp;</span>Fase importación</a></span></li><li><span><a href=\"#Fase-exploración-limpieza\" data-toc-modified-id=\"Fase-exploración-limpieza-2\"><span class=\"toc-item-num\">2&nbsp;&nbsp;</span>Fase exploración-limpieza</a></span><ul class=\"toc-item\"><li><span><a href=\"#Exploración-variable-categorias\" data-toc-modified-id=\"Exploración-variable-categorias-2.1\"><span class=\"toc-item-num\">2.1&nbsp;&nbsp;</span>Exploración variable categorias</a></span></li><li><span><a href=\"#exploración-variable-responsabilidad\" data-toc-modified-id=\"exploración-variable-responsabilidad-2.2\"><span class=\"toc-item-num\">2.2&nbsp;&nbsp;</span>exploración variable responsabilidad</a></span></li><li><span><a href=\"#Exploracion-variable-dificultad\" data-toc-modified-id=\"Exploracion-variable-dificultad-2.3\"><span class=\"toc-item-num\">2.3&nbsp;&nbsp;</span>Exploracion variable dificultad</a></span></li><li><span><a href=\"#Exploración-variable-absentismo\" data-toc-modified-id=\"Exploración-variable-absentismo-2.4\"><span class=\"toc-item-num\">2.4&nbsp;&nbsp;</span>Exploración variable absentismo</a></span></li><li><span><a href=\"#Exploración-variable-edad\" data-toc-modified-id=\"Exploración-variable-edad-2.5\"><span class=\"toc-item-num\">2.5&nbsp;&nbsp;</span>Exploración variable edad</a></span></li><li><span><a href=\"#Exploración-variable-sexo\" data-toc-modified-id=\"Exploración-variable-sexo-2.6\"><span class=\"toc-item-num\">2.6&nbsp;&nbsp;</span>Exploración variable sexo</a></span></li><li><span><a href=\"#Conclusiones-de-la-exploración\" data-toc-modified-id=\"Conclusiones-de-la-exploración-2.7\"><span class=\"toc-item-num\">2.7&nbsp;&nbsp;</span>Conclusiones de la exploración</a></span></li></ul></li><li><span><a href=\"#Anlisis-correlaciónes-plantilla-equivalente\" data-toc-modified-id=\"Anlisis-correlaciónes-plantilla-equivalente-3\"><span class=\"toc-item-num\">3&nbsp;&nbsp;</span>Anlisis correlaciónes plantilla equivalente</a></span><ul class=\"toc-item\"><li><span><a href=\"#Correlación-Absentismo-IT-&amp;-Contratación-de-cobertura-IT\" data-toc-modified-id=\"Correlación-Absentismo-IT-&amp;-Contratación-de-cobertura-IT-3.1\"><span class=\"toc-item-num\">3.1&nbsp;&nbsp;</span>Correlación Absentismo IT &amp; Contratación de cobertura IT</a></span><ul class=\"toc-item\"><li><span><a href=\"#¿La-edad-influye-en-el-absentismo?\" data-toc-modified-id=\"¿La-edad-influye-en-el-absentismo?-3.1.1\"><span class=\"toc-item-num\">3.1.1&nbsp;&nbsp;</span>¿La edad influye en el absentismo?</a></span></li><li><span><a href=\"#¿La-categoria-influye-en-el-absentismo?\" data-toc-modified-id=\"¿La-categoria-influye-en-el-absentismo?-3.1.2\"><span class=\"toc-item-num\">3.1.2&nbsp;&nbsp;</span>¿La categoria influye en el absentismo?</a></span></li><li><span><a href=\"#¿La-forma-de-ocupación-influye-en-el-absentismo?\" data-toc-modified-id=\"¿La-forma-de-ocupación-influye-en-el-absentismo?-3.1.3\"><span class=\"toc-item-num\">3.1.3&nbsp;&nbsp;</span>¿La forma de ocupación influye en el absentismo?</a></span></li></ul></li><li><span><a href=\"#Correlación-Absentismo-MAT-&amp;-Plantilla-Cobertura-MAT\" data-toc-modified-id=\"Correlación-Absentismo-MAT-&amp;-Plantilla-Cobertura-MAT-3.2\"><span class=\"toc-item-num\">3.2&nbsp;&nbsp;</span>Correlación Absentismo MAT &amp; Plantilla Cobertura MAT</a></span><ul class=\"toc-item\"><li><span><a href=\"#¿El-sexo-influye-en-los-permisos-matenidad?\" data-toc-modified-id=\"¿El-sexo-influye-en-los-permisos-matenidad?-3.2.1\"><span class=\"toc-item-num\">3.2.1&nbsp;&nbsp;</span>¿El sexo influye en los permisos matenidad?</a></span></li><li><span><a href=\"#En-qué-colectivo-se-concentran-las-maternidades?\" data-toc-modified-id=\"En-qué-colectivo-se-concentran-las-maternidades?-3.2.2\"><span class=\"toc-item-num\">3.2.2&nbsp;&nbsp;</span>En qué colectivo se concentran las maternidades?</a></span></li><li><span><a href=\"#¿Hay-correlación-entre-proporción-de-trabajadores-por-categoria-y-maternidades?\" data-toc-modified-id=\"¿Hay-correlación-entre-proporción-de-trabajadores-por-categoria-y-maternidades?-3.2.3\"><span class=\"toc-item-num\">3.2.3&nbsp;&nbsp;</span>¿Hay correlación entre proporción de trabajadores por categoria y maternidades?</a></span></li></ul></li></ul></li><li><span><a href=\"#Análisis-correlaciones-coste-medio\" data-toc-modified-id=\"Análisis-correlaciones-coste-medio-4\"><span class=\"toc-item-num\">4&nbsp;&nbsp;</span>Análisis correlaciones coste medio</a></span><ul class=\"toc-item\"><li><span><a href=\"#Analisis-sueldo-y-productividad-medio-según-categoria,-responsabilidad-y-forma-de-ocupación\" data-toc-modified-id=\"Analisis-sueldo-y-productividad-medio-según-categoria,-responsabilidad-y-forma-de-ocupación-4.1\"><span class=\"toc-item-num\">4.1&nbsp;&nbsp;</span>Analisis sueldo y productividad medio según categoria, responsabilidad y forma de ocupación</a></span><ul class=\"toc-item\"><li><span><a href=\"#¿A-mayor-proporción-de-ciertas-categorias-mayor-sueldo_dpo-medio?\" data-toc-modified-id=\"¿A-mayor-proporción-de-ciertas-categorias-mayor-sueldo_dpo-medio?-4.1.1\"><span class=\"toc-item-num\">4.1.1&nbsp;&nbsp;</span>¿A mayor proporción de ciertas categorias mayor sueldo_dpo medio?</a></span></li><li><span><a href=\"#¿A-mayor-proporción-de-profesionales-en-puesto-de-responsabilidad-mayor-sueldo_dpo-medio?\" data-toc-modified-id=\"¿A-mayor-proporción-de-profesionales-en-puesto-de-responsabilidad-mayor-sueldo_dpo-medio?-4.1.2\"><span class=\"toc-item-num\">4.1.2&nbsp;&nbsp;</span>¿A mayor proporción de profesionales en puesto de responsabilidad mayor sueldo_dpo medio?</a></span></li><li><span><a href=\"#¿El-tipo-de-ocupación-del-professional-influye-en-el-sueldo_dpo-medio?\" data-toc-modified-id=\"¿El-tipo-de-ocupación-del-professional-influye-en-el-sueldo_dpo-medio?-4.1.3\"><span class=\"toc-item-num\">4.1.3&nbsp;&nbsp;</span>¿El tipo de ocupación del professional influye en el sueldo_dpo medio?</a></span></li></ul></li><li><span><a href=\"#Analisis-coste-antiguedad-medio-según-edad\" data-toc-modified-id=\"Analisis-coste-antiguedad-medio-según-edad-4.2\"><span class=\"toc-item-num\">4.2&nbsp;&nbsp;</span>Analisis coste antiguedad medio según edad</a></span></li><li><span><a href=\"#Análisis-coste-guardias\" data-toc-modified-id=\"Análisis-coste-guardias-4.3\"><span class=\"toc-item-num\">4.3&nbsp;&nbsp;</span>Análisis coste guardias</a></span><ul class=\"toc-item\"><li><span><a href=\"#¿Cuanto-más-horas-más-coste-de-guardias?\" data-toc-modified-id=\"¿Cuanto-más-horas-más-coste-de-guardias?-4.3.1\"><span class=\"toc-item-num\">4.3.1&nbsp;&nbsp;</span>¿Cuanto más horas más coste de guardias?</a></span></li><li><span><a href=\"#¿Determinadas-especialidades-concentran-un-mayor-número-de-guardias?\" data-toc-modified-id=\"¿Determinadas-especialidades-concentran-un-mayor-número-de-guardias?-4.3.2\"><span class=\"toc-item-num\">4.3.2&nbsp;&nbsp;</span>¿Determinadas especialidades concentran un mayor número de guardias?</a></span></li><li><span><a href=\"#¿A-mayor-proporción-de-personal-médico-un-mayor-proporción-de-guardias?\" data-toc-modified-id=\"¿A-mayor-proporción-de-personal-médico-un-mayor-proporción-de-guardias?-4.3.3\"><span class=\"toc-item-num\">4.3.3&nbsp;&nbsp;</span>¿A mayor proporción de personal médico un mayor proporción de guardias?</a></span></li></ul></li><li><span><a href=\"#Conclusiones-análisis-correlaciones\" data-toc-modified-id=\"Conclusiones-análisis-correlaciones-4.4\"><span class=\"toc-item-num\">4.4&nbsp;&nbsp;</span>Conclusiones análisis correlaciones</a></span><ul class=\"toc-item\"><li><span><a href=\"#Correlación-Plantilla-Equivalente-&amp;-Absentismo-IT\" data-toc-modified-id=\"Correlación-Plantilla-Equivalente-&amp;-Absentismo-IT-4.4.1\"><span class=\"toc-item-num\">4.4.1&nbsp;&nbsp;</span>Correlación Plantilla Equivalente &amp; Absentismo IT</a></span></li><li><span><a href=\"#Correlación-Plantilla-Equivalente-&amp;-Maternidades\" data-toc-modified-id=\"Correlación-Plantilla-Equivalente-&amp;-Maternidades-4.4.2\"><span class=\"toc-item-num\">4.4.2&nbsp;&nbsp;</span>Correlación Plantilla Equivalente &amp; Maternidades</a></span></li><li><span><a href=\"#Correlaciones-Coste-Medio-&amp;-Sueldo-y-Productividad\" data-toc-modified-id=\"Correlaciones-Coste-Medio-&amp;-Sueldo-y-Productividad-4.4.3\"><span class=\"toc-item-num\">4.4.3&nbsp;&nbsp;</span>Correlaciones Coste Medio &amp; Sueldo y Productividad</a></span></li><li><span><a href=\"#Correlaciones-Coste-Medio-&amp;-Antigüedad\" data-toc-modified-id=\"Correlaciones-Coste-Medio-&amp;-Antigüedad-4.4.4\"><span class=\"toc-item-num\">4.4.4&nbsp;&nbsp;</span>Correlaciones Coste Medio &amp; Antigüedad</a></span></li><li><span><a href=\"#Correlaciones-Coste-Medio-&amp;-Guardias-Médicas\" data-toc-modified-id=\"Correlaciones-Coste-Medio-&amp;-Guardias-Médicas-4.4.5\"><span class=\"toc-item-num\">4.4.5&nbsp;&nbsp;</span>Correlaciones Coste Medio &amp; Guardias Médicas</a></span></li></ul></li></ul></li><li><span><a href=\"#Análisis-de-proporciones-de-H7-versus-media-global\" data-toc-modified-id=\"Análisis-de-proporciones-de-H7-versus-media-global-5\"><span class=\"toc-item-num\">5&nbsp;&nbsp;</span>Análisis de proporciones de H7 versus media global</a></span><ul class=\"toc-item\"><li><span><a href=\"#Absentismo-por-IT-de-H7-respecto-a-la-media-del-ICS\" data-toc-modified-id=\"Absentismo-por-IT-de-H7-respecto-a-la-media-del-ICS-5.1\"><span class=\"toc-item-num\">5.1&nbsp;&nbsp;</span>Absentismo por IT de H7 respecto a la media del ICS</a></span></li><li><span><a href=\"#Absentismo-por-maternidades-de-H7-respecto-a-la-media-del-ICS\" data-toc-modified-id=\"Absentismo-por-maternidades-de-H7-respecto-a-la-media-del-ICS-5.2\"><span class=\"toc-item-num\">5.2&nbsp;&nbsp;</span>Absentismo por maternidades de H7 respecto a la media del ICS</a></span><ul class=\"toc-item\"><li><span><a href=\"#Proporción-de-enfermeras-de-entre-26-y-45-años-en-H7-respecto-a-la-media-del-ICS\" data-toc-modified-id=\"Proporción-de-enfermeras-de-entre-26-y-45-años-en-H7-respecto-a-la-media-del-ICS-5.2.1\"><span class=\"toc-item-num\">5.2.1&nbsp;&nbsp;</span>Proporción de enfermeras de entre 26 y 45 años en H7 respecto a la media del ICS</a></span></li><li><span><a href=\"#Proporción-de-facultativas-de-entre-26-y-45-años-en-H7-respecto-a-la-media-del-ICS\" data-toc-modified-id=\"Proporción-de-facultativas-de-entre-26-y-45-años-en-H7-respecto-a-la-media-del-ICS-5.2.2\"><span class=\"toc-item-num\">5.2.2&nbsp;&nbsp;</span>Proporción de facultativas de entre 26 y 45 años en H7 respecto a la media del ICS</a></span></li></ul></li><li><span><a href=\"#Coste-medio-por-trabajador-de-H7-respecto-a-media-ICS\" data-toc-modified-id=\"Coste-medio-por-trabajador-de-H7-respecto-a-media-ICS-5.3\"><span class=\"toc-item-num\">5.3&nbsp;&nbsp;</span>Coste medio por trabajador de H7 respecto a media ICS</a></span><ul class=\"toc-item\"><li><span><a href=\"#Coste-medio-por-sueldo-y-productividad-H7-respecto-a-media-ICS\" data-toc-modified-id=\"Coste-medio-por-sueldo-y-productividad-H7-respecto-a-media-ICS-5.3.1\"><span class=\"toc-item-num\">5.3.1&nbsp;&nbsp;</span>Coste medio por sueldo y productividad H7 respecto a media ICS</a></span></li><li><span><a href=\"#Coste-medio-por-sueldo-y-productividad-de-trabajador-con-responsabilidad-de-H7-respecto-a-media-ICS\" data-toc-modified-id=\"Coste-medio-por-sueldo-y-productividad-de-trabajador-con-responsabilidad-de-H7-respecto-a-media-ICS-5.3.2\"><span class=\"toc-item-num\">5.3.2&nbsp;&nbsp;</span>Coste medio por sueldo y productividad de trabajador con responsabilidad de H7 respecto a media ICS</a></span></li><li><span><a href=\"#Coste-medio-por-antigüedad-H7-respecto-a-media-ICS\" data-toc-modified-id=\"Coste-medio-por-antigüedad-H7-respecto-a-media-ICS-5.3.3\"><span class=\"toc-item-num\">5.3.3&nbsp;&nbsp;</span>Coste medio por antigüedad H7 respecto a media ICS</a></span></li><li><span><a href=\"#Coste-medio-por-guardias-médicas-H7-respecto-a-media-ICS\" data-toc-modified-id=\"Coste-medio-por-guardias-médicas-H7-respecto-a-media-ICS-5.3.4\"><span class=\"toc-item-num\">5.3.4&nbsp;&nbsp;</span>Coste medio por guardias médicas H7 respecto a media ICS</a></span><ul class=\"toc-item\"><li><span><a href=\"#Proporción-de-médicos-residentes-H7-respecto-a-ICS\" data-toc-modified-id=\"Proporción-de-médicos-residentes-H7-respecto-a-ICS-5.3.4.1\"><span class=\"toc-item-num\">5.3.4.1&nbsp;&nbsp;</span>Proporción de médicos residentes H7 respecto a ICS</a></span></li><li><span><a href=\"#Proporción-de-médicos-facultativos-H7-respecto-a-ICS\" data-toc-modified-id=\"Proporción-de-médicos-facultativos-H7-respecto-a-ICS-5.3.4.2\"><span class=\"toc-item-num\">5.3.4.2&nbsp;&nbsp;</span>Proporción de médicos facultativos H7 respecto a ICS</a></span></li><li><span><a href=\"#Proporción-de-personal-en-especialidades-H7-respecto-a-ICS\" data-toc-modified-id=\"Proporción-de-personal-en-especialidades-H7-respecto-a-ICS-5.3.4.3\"><span class=\"toc-item-num\">5.3.4.3&nbsp;&nbsp;</span>Proporción de personal en especialidades H7 respecto a ICS</a></span></li></ul></li></ul></li><li><span><a href=\"#Conclusiones-análisis-proporciones\" data-toc-modified-id=\"Conclusiones-análisis-proporciones-5.4\"><span class=\"toc-item-num\">5.4&nbsp;&nbsp;</span>Conclusiones análisis proporciones</a></span><ul class=\"toc-item\"><li><span><a href=\"#Absentismo-por-IT-de-H7-respecto-a-la-media-del-ICS:\" data-toc-modified-id=\"Absentismo-por-IT-de-H7-respecto-a-la-media-del-ICS:-5.4.1\"><span class=\"toc-item-num\">5.4.1&nbsp;&nbsp;</span>Absentismo por IT de H7 respecto a la media del ICS:</a></span></li><li><span><a href=\"#Absentismo-por-maternidades-de-H7-respecto-a-la-media-del-ICS\" data-toc-modified-id=\"Absentismo-por-maternidades-de-H7-respecto-a-la-media-del-ICS-5.4.2\"><span class=\"toc-item-num\">5.4.2&nbsp;&nbsp;</span>Absentismo por maternidades de H7 respecto a la media del ICS</a></span></li><li><span><a href=\"#Coste-medio-de-H7-respecto-a-la-media-del-ICS\" data-toc-modified-id=\"Coste-medio-de-H7-respecto-a-la-media-del-ICS-5.4.3\"><span class=\"toc-item-num\">5.4.3&nbsp;&nbsp;</span>Coste medio de H7 respecto a la media del ICS</a></span></li></ul></li></ul></li><li><span><a href=\"#Conclusión-final\" data-toc-modified-id=\"Conclusión-final-6\"><span class=\"toc-item-num\">6&nbsp;&nbsp;</span>Conclusión final</a></span></li></ul></div>"
   ]
  },
  {
   "cell_type": "markdown",
   "id": "9856fba2",
   "metadata": {
    "slideshow": {
     "slide_type": "slide"
    }
   },
   "source": [
    "## Fase importación\n"
   ]
  },
  {
   "cell_type": "code",
   "execution_count": 1,
   "id": "f139dc2d",
   "metadata": {
    "slideshow": {
     "slide_type": "fragment"
    }
   },
   "outputs": [
    {
     "data": {
      "text/html": [
       "        <script type=\"text/javascript\">\n",
       "        window.PlotlyConfig = {MathJaxConfig: 'local'};\n",
       "        if (window.MathJax) {MathJax.Hub.Config({SVG: {font: \"STIX-Web\"}});}\n",
       "        if (typeof require !== 'undefined') {\n",
       "        require.undef(\"plotly\");\n",
       "        requirejs.config({\n",
       "            paths: {\n",
       "                'plotly': ['https://cdn.plot.ly/plotly-2.6.3.min']\n",
       "            }\n",
       "        });\n",
       "        require(['plotly'], function(Plotly) {\n",
       "            window._Plotly = Plotly;\n",
       "        });\n",
       "        }\n",
       "        </script>\n",
       "        "
      ]
     },
     "metadata": {},
     "output_type": "display_data"
    }
   ],
   "source": [
    "import numpy as np\n",
    "import pandas as pd\n",
    "import seaborn as sns\n",
    "import matplotlib.pyplot as plt\n",
    "from scipy import stats\n",
    "from statsmodels.stats.proportion import proportions_ztest\n",
    "plt.rcParams['figure.figsize']=(12,8)\n",
    "import cufflinks as cf\n",
    "from ipywidgets import interact\n",
    "import plotly.express as px\n",
    "import ipywidgets as widgets\n",
    "cf.go_offline()\n",
    "import statsmodels.api as sm\n",
    "from statsmodels.formula.api import ols"
   ]
  },
  {
   "cell_type": "code",
   "execution_count": 2,
   "id": "319d5269",
   "metadata": {
    "slideshow": {
     "slide_type": "fragment"
    }
   },
   "outputs": [],
   "source": [
    "ICS = pd.read_csv('Data/Personal_HOSP.csv', sep=';',encoding='latin1',decimal=\",\")"
   ]
  },
  {
   "cell_type": "markdown",
   "id": "13a05ecb",
   "metadata": {
    "slideshow": {
     "slide_type": "slide"
    }
   },
   "source": [
    "## Fase exploración-limpieza"
   ]
  },
  {
   "cell_type": "code",
   "execution_count": 3,
   "id": "7d632dce",
   "metadata": {
    "slideshow": {
     "slide_type": "fragment"
    }
   },
   "outputs": [
    {
     "name": "stdout",
     "output_type": "stream",
     "text": [
      "<class 'pandas.core.frame.DataFrame'>\n",
      "RangeIndex: 61335 entries, 0 to 61334\n",
      "Data columns (total 38 columns):\n",
      " #   Column             Non-Null Count  Dtype  \n",
      "---  ------             --------------  -----  \n",
      " 0   DNI                61335 non-null  object \n",
      " 1   FECHA_INICIO       61335 non-null  object \n",
      " 2   FECHA_FIN          44025 non-null  object \n",
      " 3   DIVISIÓ            61335 non-null  object \n",
      " 4   DESCR_DIVISIÓ      61335 non-null  object \n",
      " 5   CATEGORIA          61335 non-null  object \n",
      " 6   RESPONSABILIDAD    61335 non-null  int64  \n",
      " 7   GRADO_DIFICULTAD   61335 non-null  int64  \n",
      " 8   NIVEL_DIFICULTAT   26601 non-null  object \n",
      " 9   OCUPACION          61335 non-null  object \n",
      " 10  COBERTURA          14256 non-null  object \n",
      " 11  CONTRATO_COVID     61335 non-null  int64  \n",
      " 12  EDAD               61335 non-null  float64\n",
      " 13  RANGO_EDAD         61335 non-null  object \n",
      " 14  SEXO               61335 non-null  object \n",
      " 15  ESPECIALITAT       42874 non-null  object \n",
      " 16  DESC_ESPECIALITAT  42874 non-null  object \n",
      " 17  MOTIU_REFORÇ       32745 non-null  object \n",
      " 18  DESC_MOT_REFORÇ    32745 non-null  object \n",
      " 19  TIEMPO_PARCIAL     61335 non-null  int64  \n",
      " 20  PROPORCIO_JORNADA  61335 non-null  float64\n",
      " 21  DIES_CONTRACTATS   61335 non-null  float64\n",
      " 22  PEQ                61335 non-null  float64\n",
      " 23  TOTAL_BRUTO        61335 non-null  float64\n",
      " 24  SUELDO             60332 non-null  float64\n",
      " 25  ANTIGÜEDAD         24821 non-null  float64\n",
      " 26  OBJETIVOS          22916 non-null  float64\n",
      " 27  PLUSES             35665 non-null  float64\n",
      " 28  HORAS EXTRAS       21104 non-null  float64\n",
      " 29  GUARDIAS           9486 non-null   float64\n",
      " 30  LIQ VAC            17186 non-null  float64\n",
      " 31  TOTAL_HORAS        61335 non-null  float64\n",
      " 32  HORAS_GUA          9486 non-null   float64\n",
      " 33  HORAS_PLUS         35665 non-null  float64\n",
      " 34  HORAS_HE           21104 non-null  float64\n",
      " 35  PEQ_MAT            932 non-null    float64\n",
      " 36  PEQ_IT             17679 non-null  float64\n",
      " 37  PEQ_RJ             2131 non-null   float64\n",
      "dtypes: float64(19), int64(4), object(15)\n",
      "memory usage: 17.8+ MB\n"
     ]
    }
   ],
   "source": [
    "ICS.info()"
   ]
  },
  {
   "cell_type": "code",
   "execution_count": 4,
   "id": "5bbe82b6",
   "metadata": {
    "slideshow": {
     "slide_type": "fragment"
    }
   },
   "outputs": [],
   "source": [
    "#Limpiar los valores nulos de campos numéricos\n",
    "columnas_num=ICS.columns[24:]\n",
    "for i in columnas_num:\n",
    "    ICS[i] = ICS[i].fillna(0)"
   ]
  },
  {
   "cell_type": "code",
   "execution_count": 5,
   "id": "eb081a70",
   "metadata": {
    "slideshow": {
     "slide_type": "fragment"
    }
   },
   "outputs": [],
   "source": [
    "#Recalculamos la PEQ porque no se ha importado bien\n",
    "ICS['PEQ']=ICS['DIES_CONTRACTATS']/365*ICS['PROPORCIO_JORNADA']"
   ]
  },
  {
   "cell_type": "code",
   "execution_count": 6,
   "id": "c630345e",
   "metadata": {
    "slideshow": {
     "slide_type": "fragment"
    }
   },
   "outputs": [],
   "source": [
    "#Recalculamos GRADO_DIFICULTAD porque no se ha generado bien\n",
    "def isNaN(string):\n",
    "    return string != string\n",
    "\n",
    "for i in ICS.index:\n",
    "    if isNaN(ICS.at[i,'NIVEL_DIFICULTAT']):\n",
    "        ICS.at[i,'GRADO_DIFICULTAD']=0\n",
    "    else:\n",
    "        pass"
   ]
  },
  {
   "cell_type": "code",
   "execution_count": 7,
   "id": "0d9341fb",
   "metadata": {
    "slideshow": {
     "slide_type": "fragment"
    }
   },
   "outputs": [
    {
     "name": "stdout",
     "output_type": "stream",
     "text": [
      "          TOTAL_BRUTO          PEQ   COSTE_MEDIO\n",
      "DIVISIÓ                                         \n",
      "H1       9.520757e+07  2280.997397  41739.447022\n",
      "H2       8.242393e+07  1967.305342  41896.868392\n",
      "H4       9.258385e+07  2226.191945  41588.439007\n",
      "H5       2.064148e+08  5319.744301  38801.647919\n",
      "H6       3.088721e+07   764.137945  40420.988310\n",
      "H7       1.646657e+08  4084.977205  40310.064482\n",
      "H8       3.555804e+08  9089.254712  39120.968236\n"
     ]
    },
    {
     "name": "stderr",
     "output_type": "stream",
     "text": [
      "<ipython-input-7-84bee1205823>:2: FutureWarning:\n",
      "\n",
      "Indexing with multiple keys (implicitly converted to a tuple of keys) will be deprecated, use a list instead.\n",
      "\n"
     ]
    },
    {
     "data": {
      "text/plain": [
       "'Comprobamos que se cumple la ecuación PEQxCOSTE_MEDIO=TOTAL_BRUTO. Vemos que a mayor plantilla menor coste_medio'"
      ]
     },
     "execution_count": 7,
     "metadata": {},
     "output_type": "execute_result"
    }
   ],
   "source": [
    "#Añadimos coste medio y exploramos coste y plantilla equivalente anual de los hospitales\n",
    "df=ICS.groupby('DIVISIÓ')['TOTAL_BRUTO','PEQ'].sum()\n",
    "df['COSTE_MEDIO']=df['TOTAL_BRUTO']/df['PEQ']\n",
    "print(df)\n",
    "'''Comprobamos que se cumple la ecuación PEQxCOSTE_MEDIO=TOTAL_BRUTO. Vemos que a mayor plantilla menor coste_medio'''"
   ]
  },
  {
   "cell_type": "code",
   "execution_count": 8,
   "id": "c47cb740",
   "metadata": {
    "slideshow": {
     "slide_type": "fragment"
    }
   },
   "outputs": [],
   "source": [
    "#creamos otro campo con el total de PEQ para cada hospital\n",
    "PEQ_total_hosp = ICS.groupby('DIVISIÓ')['PEQ'].sum().reset_index()\n",
    "ICS=pd.merge(ICS,PEQ_total_hosp,on='DIVISIÓ')\n",
    "ICS=ICS.rename(columns={'PEQ_y':'PEQ_total','PEQ_x':'PEQ'})"
   ]
  },
  {
   "cell_type": "code",
   "execution_count": 9,
   "id": "0324a52e",
   "metadata": {
    "slideshow": {
     "slide_type": "fragment"
    }
   },
   "outputs": [],
   "source": [
    "#creamos nuestro indicador de comparación ('PEQ_PROP') para funciones de exploración\n",
    "ICS['PEQ_PROP']=(ICS['PEQ']/ICS['PEQ_total'])"
   ]
  },
  {
   "cell_type": "markdown",
   "id": "4299a6a1",
   "metadata": {
    "slideshow": {
     "slide_type": "slide"
    }
   },
   "source": [
    "### Exploración variable categorias"
   ]
  },
  {
   "cell_type": "code",
   "execution_count": 10,
   "id": "9c070ebb",
   "metadata": {
    "scrolled": true,
    "slideshow": {
     "slide_type": "fragment"
    }
   },
   "outputs": [
    {
     "data": {
      "application/vnd.jupyter.widget-view+json": {
       "model_id": "3eef52d9fa624e2c9e335eeff7ee79fa",
       "version_major": 2,
       "version_minor": 0
      },
      "text/plain": [
       "interactive(children=(Dropdown(description='Hospital', options=('H1', 'H2', 'H4', 'H8', 'H7', 'H6', 'H5'), val…"
      ]
     },
     "metadata": {},
     "output_type": "display_data"
    },
    {
     "data": {
      "text/plain": [
       "'Vemos que hay una menor proporción de trabajadores asistenciales (Médicos y Enfermeras) en los hospitales más grandes (H5 y H8) y en H7'"
      ]
     },
     "execution_count": 10,
     "metadata": {},
     "output_type": "execute_result"
    }
   ],
   "source": [
    "df=ICS.groupby(['CATEGORIA','DIVISIÓ']).apply(lambda x: (x['PEQ'].sum()/x['PEQ_total']).mean()).reset_index()\n",
    "df=df.rename(columns={0:'PEQ'})\n",
    "@interact(Hospital=ICS['DIVISIÓ'].unique().tolist())\n",
    "def barplot(Hospital):\n",
    "     display(px.bar(df[df['DIVISIÓ']==Hospital],x='CATEGORIA',y='PEQ'))\n",
    "         \n",
    "'''Vemos que hay una menor proporción de trabajadores asistenciales (Médicos y Enfermeras) en los hospitales más grandes (H5 y H8) y en H7'''"
   ]
  },
  {
   "cell_type": "code",
   "execution_count": 11,
   "id": "ea3803c8",
   "metadata": {
    "slideshow": {
     "slide_type": "fragment"
    }
   },
   "outputs": [],
   "source": [
    "#Eliminamos los hospitales no universitarios porque al no tener residentes distorsionan las medias de coste y edad\n",
    "ICS=ICS[(ICS.DIVISIÓ != \"H6\")&(ICS.DIVISIÓ != \"H3\")]\n"
   ]
  },
  {
   "cell_type": "markdown",
   "id": "83e78b27",
   "metadata": {
    "slideshow": {
     "slide_type": "slide"
    }
   },
   "source": [
    "### exploración variable responsabilidad"
   ]
  },
  {
   "cell_type": "code",
   "execution_count": 12,
   "id": "61f831c2",
   "metadata": {
    "slideshow": {
     "slide_type": "fragment"
    }
   },
   "outputs": [
    {
     "name": "stdout",
     "output_type": "stream",
     "text": [
      "RESPONSABILIDAD         0         1\n",
      "DIVISIÓ                            \n",
      "H1               0.954375  0.045625\n",
      "H2               0.953102  0.046898\n",
      "H4               0.949845  0.050155\n",
      "H5               0.953143  0.046857\n",
      "H7               0.950000  0.050000\n",
      "H8               0.951164  0.048836\n"
     ]
    },
    {
     "data": {
      "image/png": "[encoded data removed]",
      "text/plain": [
       "<Figure size 864x576 with 1 Axes>"
      ]
     },
     "metadata": {
      "needs_background": "light"
     },
     "output_type": "display_data"
    }
   ],
   "source": [
    "#Examinams proporción\n",
    "df=pd.crosstab(index=ICS['DIVISIÓ'], columns=ICS['RESPONSABILIDAD'], values=ICS['PEQ_PROP'],aggfunc='sum')\n",
    "ax = df.plot(kind='bar',title='Proporción de trabajador con responsabilidad (1) o sin (0)', stacked=True)\n",
    "print(df)\n"
   ]
  },
  {
   "cell_type": "code",
   "execution_count": 13,
   "id": "c7566f4b",
   "metadata": {
    "slideshow": {
     "slide_type": "fragment"
    }
   },
   "outputs": [
    {
     "name": "stdout",
     "output_type": "stream",
     "text": [
      "RESPONSABILIDAD             1\n",
      "DIVISIÓ                      \n",
      "H1               74511.009389\n",
      "H2               73756.283122\n",
      "H4               74149.139457\n",
      "H5               69531.765930\n",
      "H7               76829.300332\n",
      "H8               67327.328958\n"
     ]
    },
    {
     "name": "stderr",
     "output_type": "stream",
     "text": [
      "<ipython-input-13-dd6ac827f5c9>:2: FutureWarning:\n",
      "\n",
      "Indexing with multiple keys (implicitly converted to a tuple of keys) will be deprecated, use a list instead.\n",
      "\n"
     ]
    },
    {
     "data": {
      "text/plain": [
       "'El coste medio por trabajador de responsabilidad es más alto en H7 pero la proporción es similar (4,5-5%) en todos los hospitales. En H7 de media el trabajador con responsabilidad cobra más (76.829) que la media (72.684)'"
      ]
     },
     "execution_count": 13,
     "metadata": {},
     "output_type": "execute_result"
    },
    {
     "data": {
      "image/png": "[encoded data removed]",
      "text/plain": [
       "<Figure size 864x576 with 1 Axes>"
      ]
     },
     "metadata": {
      "needs_background": "light"
     },
     "output_type": "display_data"
    }
   ],
   "source": [
    "#examinamos coste medio\n",
    "df=ICS.groupby(['DIVISIÓ','RESPONSABILIDAD'])['TOTAL_BRUTO','PEQ'].sum().reset_index()\n",
    "df=pd.crosstab(index=df['DIVISIÓ'], columns=df['RESPONSABILIDAD'], values=df['TOTAL_BRUTO']/df['PEQ'],aggfunc='sum')\n",
    "ax = df.plot(kind='bar',title='Coste Medio Anual por trabajador con responsabilidad (1) o sin (0)')\n",
    "print(df[[1]])\n",
    "'''El coste medio por trabajador de responsabilidad es más alto en H7 pero la proporción es similar (4,5-5%) en todos los hospitales. En H7 de media el trabajador con responsabilidad cobra más (76.829) que la media (72.684)'''"
   ]
  },
  {
   "cell_type": "markdown",
   "id": "659d29c5",
   "metadata": {
    "slideshow": {
     "slide_type": "slide"
    }
   },
   "source": [
    "### Exploracion variable dificultad"
   ]
  },
  {
   "cell_type": "code",
   "execution_count": 14,
   "id": "44aca71b",
   "metadata": {
    "slideshow": {
     "slide_type": "fragment"
    }
   },
   "outputs": [
    {
     "name": "stdout",
     "output_type": "stream",
     "text": [
      "GRADO_DIFICULTAD         0         1\n",
      "DIVISIÓ                             \n",
      "H1                0.454377  0.545623\n",
      "H2                0.467774  0.532226\n",
      "H4                0.491588  0.508412\n",
      "H5                0.477812  0.522188\n",
      "H7                0.491407  0.508593\n",
      "H8                0.469798  0.530202\n"
     ]
    },
    {
     "data": {
      "image/png": "[encoded data removed]",
      "text/plain": [
       "<Figure size 864x576 with 1 Axes>"
      ]
     },
     "metadata": {
      "needs_background": "light"
     },
     "output_type": "display_data"
    }
   ],
   "source": [
    "\n",
    "#examinamos proporción\n",
    "df=pd.crosstab(index=ICS['DIVISIÓ'], columns=ICS['GRADO_DIFICULTAD'], values=ICS['PEQ_PROP'],aggfunc='sum')\n",
    "ax = df.plot(kind='bar',title='Proporción de trabajador con puesto de dificultad (1) o sin (0)', stacked=True)\n",
    "print(df)\n"
   ]
  },
  {
   "cell_type": "code",
   "execution_count": 15,
   "id": "1dc832e4",
   "metadata": {
    "slideshow": {
     "slide_type": "fragment"
    }
   },
   "outputs": [
    {
     "name": "stdout",
     "output_type": "stream",
     "text": [
      "GRADO_DIFICULTAD             0             1\n",
      "DIVISIÓ                                     \n",
      "H1                47691.522588  36782.749088\n",
      "H2                48421.592064  36162.288702\n",
      "H4                47039.272812  36317.986061\n",
      "H5                42956.705043  34999.693730\n",
      "H7                45599.365251  35199.502775\n",
      "H8                43341.383191  35381.366868\n"
     ]
    },
    {
     "name": "stderr",
     "output_type": "stream",
     "text": [
      "<ipython-input-15-579146343aa3>:2: FutureWarning:\n",
      "\n",
      "Indexing with multiple keys (implicitly converted to a tuple of keys) will be deprecated, use a list instead.\n",
      "\n"
     ]
    },
    {
     "data": {
      "text/plain": [
       "'El coste medio por trabajador en puesto de no dificultad es más alto en H1, H2 y H4 pero la proporción es la misma en todos los hospitales. Este se debe a que hay mayor proporción de trabajadores facultativos (categoria con retribuciones altas y sin complemento de dificultat) en estos hospitales que en el resto del ICS'"
      ]
     },
     "execution_count": 15,
     "metadata": {},
     "output_type": "execute_result"
    },
    {
     "data": {
      "image/png": "[encoded data removed]",
      "text/plain": [
       "<Figure size 864x576 with 1 Axes>"
      ]
     },
     "metadata": {
      "needs_background": "light"
     },
     "output_type": "display_data"
    }
   ],
   "source": [
    "#examinamos coste medio\n",
    "df=ICS.groupby(['DIVISIÓ','GRADO_DIFICULTAD'])['TOTAL_BRUTO','PEQ'].sum().reset_index()\n",
    "\n",
    "df=pd.crosstab(index=df['DIVISIÓ'], columns=df['GRADO_DIFICULTAD'], values=df['TOTAL_BRUTO']/df['PEQ'],aggfunc='sum')\n",
    "ax = df.plot(kind='bar',title='Coste Medio Anual por trabajador con puesto de dificultad (1) o sin (0)')\n",
    "print(df)\n",
    "'''El coste medio por trabajador en puesto de no dificultad es más alto en H1, H2 y H4 pero la proporción es la misma en todos los hospitales. Este se debe a que hay mayor proporción de trabajadores facultativos (categoria con retribuciones altas y sin complemento de dificultat) en estos hospitales que en el resto del ICS'''"
   ]
  },
  {
   "cell_type": "markdown",
   "id": "c1914d04",
   "metadata": {
    "slideshow": {
     "slide_type": "slide"
    }
   },
   "source": [
    "### Exploración variable absentismo"
   ]
  },
  {
   "cell_type": "code",
   "execution_count": 16,
   "id": "fb272fc9",
   "metadata": {
    "slideshow": {
     "slide_type": "fragment"
    }
   },
   "outputs": [
    {
     "data": {
      "text/plain": [
       "'El % de incidencias (IT,MT) es similar siendo H8 y H2 las que mayor % de IT y H8 el de menor % de MAT'"
      ]
     },
     "execution_count": 16,
     "metadata": {},
     "output_type": "execute_result"
    },
    {
     "data": {
      "image/png": "[encoded data removed]",
      "text/plain": [
       "<Figure size 288x432 with 2 Axes>"
      ]
     },
     "metadata": {
      "needs_background": "light"
     },
     "output_type": "display_data"
    }
   ],
   "source": [
    "#Incidencias de IT y MAT\n",
    "PROP_IT=ICS.groupby(['DIVISIÓ']).apply(lambda x: (x['PEQ_IT'].sum()/x['PEQ_total']).mean()*100).reset_index(name='IT')\n",
    "PROP_MAT=ICS.groupby(['DIVISIÓ']).apply(lambda x: (x['PEQ_MAT'].sum()/x['PEQ_total']).mean()*100).reset_index(name='MAT')\n",
    "\n",
    "df=PROP_IT.merge(PROP_MAT,on=\"DIVISIÓ\")\n",
    "df=df.set_index('DIVISIÓ')\n",
    "plt.rcParams['figure.figsize']=(4,6)\n",
    "sns.heatmap(df,annot=True)\n",
    "'''El % de incidencias (IT,MT) es similar siendo H8 y H2 las que mayor % de IT y H8 el de menor % de MAT'''"
   ]
  },
  {
   "cell_type": "code",
   "execution_count": 17,
   "id": "979fa43f",
   "metadata": {
    "slideshow": {
     "slide_type": "fragment"
    }
   },
   "outputs": [
    {
     "data": {
      "text/plain": [
       "'Mayor % de RJ en H2 y H7 y menor en H5 y H8'"
      ]
     },
     "execution_count": 17,
     "metadata": {},
     "output_type": "execute_result"
    },
    {
     "data": {
      "image/png": "[encoded data removed]",
      "text/plain": [
       "<Figure size 288x432 with 2 Axes>"
      ]
     },
     "metadata": {
      "needs_background": "light"
     },
     "output_type": "display_data"
    }
   ],
   "source": [
    "#Incidencias de RJ\n",
    "df=ICS.groupby(['DIVISIÓ']).apply(lambda x: (x['PEQ_RJ'].sum()/x['PEQ_total']).mean()*100).reset_index(name='RJ')\n",
    "df=df.set_index('DIVISIÓ')\n",
    "sns.heatmap(df,annot=True)\n",
    "'''Mayor % de RJ en H2 y H7 y menor en H5 y H8'''"
   ]
  },
  {
   "cell_type": "markdown",
   "id": "4106cd42",
   "metadata": {
    "slideshow": {
     "slide_type": "slide"
    }
   },
   "source": [
    "### Exploración variable edad"
   ]
  },
  {
   "cell_type": "code",
   "execution_count": 18,
   "id": "02adb951",
   "metadata": {
    "slideshow": {
     "slide_type": "fragment"
    }
   },
   "outputs": [
    {
     "data": {
      "application/vnd.jupyter.widget-view+json": {
       "model_id": "0a518c73a008430f94328c7c21b98f54",
       "version_major": 2,
       "version_minor": 0
      },
      "text/plain": [
       "interactive(children=(Dropdown(description='Hospital', options=('H1', 'H2', 'H4', 'H8', 'H7', 'H5'), value='H1…"
      ]
     },
     "metadata": {},
     "output_type": "display_data"
    }
   ],
   "source": [
    "#Distribución edad por hospital\n",
    "df=ICS.groupby(['EDAD','DIVISIÓ']).apply(lambda x: (x['PEQ'].sum()/x['PEQ_total']).mean()).reset_index()\n",
    "df=df.rename(columns={0:'PROPORCION_PEQ'})\n",
    "@interact(Hospital=ICS['DIVISIÓ'].unique().tolist())\n",
    "def barplot(Hospital):\n",
    "     display(px.bar(df[df['DIVISIÓ']==Hospital],x='EDAD',y='PROPORCION_PEQ'))"
   ]
  },
  {
   "cell_type": "code",
   "execution_count": 19,
   "id": "e150dd76",
   "metadata": {
    "slideshow": {
     "slide_type": "fragment"
    }
   },
   "outputs": [
    {
     "name": "stdout",
     "output_type": "stream",
     "text": [
      "DIVISIÓ\n",
      "H1    41.928814\n",
      "H2    40.979283\n",
      "H4    41.116706\n",
      "H5    39.805790\n",
      "H7    39.319974\n",
      "H8    41.283694\n",
      "dtype: float64\n"
     ]
    },
    {
     "data": {
      "text/plain": [
       "'Se comprueba que la proporción de trabajadores más jóvenes se encuentran en H5 y H7'"
      ]
     },
     "execution_count": 19,
     "metadata": {},
     "output_type": "execute_result"
    }
   ],
   "source": [
    "#Edad_media por hospital\n",
    "print(ICS.groupby(['DIVISIÓ']).apply(lambda x: (x['EDAD']*x['PEQ']).sum()/x['PEQ'].sum()))\n",
    "'''Se comprueba que la proporción de trabajadores más jóvenes se encuentran en H5 y H7'''"
   ]
  },
  {
   "cell_type": "markdown",
   "id": "171e63c6",
   "metadata": {
    "slideshow": {
     "slide_type": "slide"
    }
   },
   "source": [
    "### Exploración variable sexo"
   ]
  },
  {
   "cell_type": "code",
   "execution_count": 20,
   "id": "d335956d",
   "metadata": {
    "slideshow": {
     "slide_type": "fragment"
    }
   },
   "outputs": [
    {
     "data": {
      "text/plain": [
       "'Existe una mayor proporción de trabajadoras en H1, H2 y H4 (Dónde hay mayor proporción de trabajadores asistenciales)'"
      ]
     },
     "execution_count": 20,
     "metadata": {},
     "output_type": "execute_result"
    },
    {
     "data": {
      "image/png": "[encoded data removed]",
      "text/plain": [
       "<Figure size 576x576 with 1 Axes>"
      ]
     },
     "metadata": {
      "needs_background": "light"
     },
     "output_type": "display_data"
    }
   ],
   "source": [
    "plt.rcParams['figure.figsize']=(8,8)\n",
    "df=pd.crosstab(index=ICS['DIVISIÓ'], columns=ICS['SEXO'], values=ICS['PEQ']/ICS['PEQ_total'],aggfunc='sum')\n",
    "ax = df.plot(kind='bar',title='Proporción Plantilla Equivalente por sexo')\n",
    "\n",
    "'''Existe una mayor proporción de trabajadoras en H1, H2 y H4 (Dónde hay mayor proporción de trabajadores asistenciales)'''"
   ]
  },
  {
   "cell_type": "markdown",
   "id": "9d922695",
   "metadata": {
    "slideshow": {
     "slide_type": "slide"
    }
   },
   "source": [
    "### Conclusiones de la exploración\n",
    "* Categorias asistenciales, trabajadores con responsabilidad, trabajadores sin grado de dificultad, trabajadoras: hay más proporción en los hospitales pequeños (H1, H2 y H4) y en H7 que en los grandes (H5 y H8).\n",
    "* Absentismo por incapacidad temporal: mayor en H2 y H8\n",
    "* Absentismo por maternidad: menor en H8\n",
    "* Absentismo por reducción de jornada: mayor en H2 y H7\n",
    "* Edad media: menor en H5 y H7"
   ]
  },
  {
   "cell_type": "markdown",
   "id": "0401f327",
   "metadata": {
    "slideshow": {
     "slide_type": "slide"
    }
   },
   "source": [
    "## Anlisis correlaciónes plantilla equivalente"
   ]
  },
  {
   "cell_type": "markdown",
   "id": "b1ed87aa",
   "metadata": {
    "slideshow": {
     "slide_type": "slide"
    }
   },
   "source": [
    "### Correlación Absentismo IT & Contratación de cobertura IT"
   ]
  },
  {
   "cell_type": "code",
   "execution_count": 21,
   "id": "913dbb47",
   "metadata": {
    "slideshow": {
     "slide_type": "fragment"
    }
   },
   "outputs": [
    {
     "data": {
      "text/html": [
       "<div>\n",
       "<style scoped>\n",
       "    .dataframe tbody tr th:only-of-type {\n",
       "        vertical-align: middle;\n",
       "    }\n",
       "\n",
       "    .dataframe tbody tr th {\n",
       "        vertical-align: top;\n",
       "    }\n",
       "\n",
       "    .dataframe thead th {\n",
       "        text-align: right;\n",
       "    }\n",
       "</style>\n",
       "<table border=\"1\" class=\"dataframe\">\n",
       "  <thead>\n",
       "    <tr style=\"text-align: right;\">\n",
       "      <th></th>\n",
       "      <th>PROP_CO_IT</th>\n",
       "      <th>PROP_PEQ_IT</th>\n",
       "    </tr>\n",
       "  </thead>\n",
       "  <tbody>\n",
       "    <tr>\n",
       "      <th>PROP_CO_IT</th>\n",
       "      <td>1.000000</td>\n",
       "      <td>0.691638</td>\n",
       "    </tr>\n",
       "    <tr>\n",
       "      <th>PROP_PEQ_IT</th>\n",
       "      <td>0.691638</td>\n",
       "      <td>1.000000</td>\n",
       "    </tr>\n",
       "  </tbody>\n",
       "</table>\n",
       "</div>"
      ],
      "text/plain": [
       "             PROP_CO_IT  PROP_PEQ_IT\n",
       "PROP_CO_IT     1.000000     0.691638\n",
       "PROP_PEQ_IT    0.691638     1.000000"
      ]
     },
     "execution_count": 21,
     "metadata": {},
     "output_type": "execute_result"
    }
   ],
   "source": [
    "#Calculamos la proporción de personal contratado para cubrir una baja de IT por Hospital y Categoria\n",
    "PEQ_COBERTURA_IT=ICS[ICS['COBERTURA']=='IT'][['DIVISIÓ','CATEGORIA','PEQ']]\n",
    "COBERTURA_IT=PEQ_COBERTURA_IT.groupby(['DIVISIÓ','CATEGORIA'])['PEQ'].sum().reset_index()\n",
    "PROP_COBERT_IT=pd.merge(COBERTURA_IT,PEQ_total_hosp,on='DIVISIÓ')\n",
    "PROP_COBERT_IT['PROP_CO_IT']=PROP_COBERT_IT['PEQ_x']/PROP_COBERT_IT['PEQ_y']\n",
    "PROP_COBERT_IT=PROP_COBERT_IT[['DIVISIÓ','CATEGORIA','PROP_CO_IT']]\n",
    "\n",
    "#Calculamos la proporción de personal que está de baja por IT por Hospital y Categoria\n",
    "PEQ_IT=ICS.groupby(['DIVISIÓ','CATEGORIA'])['PEQ_IT'].sum().reset_index()\n",
    "PROP_PEQ_IT=pd.merge(PEQ_IT,PEQ_total_hosp,on='DIVISIÓ')\n",
    "PROP_PEQ_IT['PROP_PEQ_IT']=PROP_PEQ_IT['PEQ_IT']/PROP_PEQ_IT['PEQ']\n",
    "PROP_PEQ_IT=PROP_PEQ_IT[['DIVISIÓ','CATEGORIA','PROP_PEQ_IT']]\n",
    "\n",
    "#Examinamos la correlación entre las dos variables\n",
    "df_IT=PROP_COBERT_IT.merge(PROP_PEQ_IT, left_on=['DIVISIÓ','CATEGORIA'], right_on=['DIVISIÓ','CATEGORIA'])\n",
    "df_IT[['PROP_CO_IT','PROP_PEQ_IT']].corr(method='spearman')\n"
   ]
  },
  {
   "cell_type": "code",
   "execution_count": 22,
   "id": "2730d9a3",
   "metadata": {
    "slideshow": {
     "slide_type": "fragment"
    }
   },
   "outputs": [
    {
     "data": {
      "text/plain": [
       "'Hay una correlación positiva del 0,69. Por tanto, cuanto más % de plantilla esté de baja IT más % de los contratos serán de cobertura IT'"
      ]
     },
     "execution_count": 22,
     "metadata": {},
     "output_type": "execute_result"
    },
    {
     "data": {
      "image/png": "[encoded data removed]",
      "text/plain": [
       "<Figure size 720x432 with 1 Axes>"
      ]
     },
     "metadata": {
      "needs_background": "light"
     },
     "output_type": "display_data"
    }
   ],
   "source": [
    "plt.rcParams['figure.figsize']=(10,6)\n",
    "sns.scatterplot(data=df_IT, x='PROP_CO_IT',y='PROP_PEQ_IT')\n",
    "'''Hay una correlación positiva del 0,69. Por tanto, cuanto más % de plantilla esté de baja IT más % de los contratos serán de cobertura IT'''"
   ]
  },
  {
   "cell_type": "markdown",
   "id": "d7853abd",
   "metadata": {
    "slideshow": {
     "slide_type": "subslide"
    }
   },
   "source": [
    "#### ¿La edad influye en el absentismo?"
   ]
  },
  {
   "cell_type": "code",
   "execution_count": 23,
   "id": "53e48135",
   "metadata": {
    "slideshow": {
     "slide_type": "fragment"
    }
   },
   "outputs": [],
   "source": [
    "#Añadimos variable proporción a dataset\n",
    "ICS['PROP_IT']=ICS['PEQ_IT']/ICS['PEQ_total']"
   ]
  },
  {
   "cell_type": "code",
   "execution_count": 24,
   "id": "e8932a9d",
   "metadata": {
    "slideshow": {
     "slide_type": "fragment"
    }
   },
   "outputs": [
    {
     "name": "stdout",
     "output_type": "stream",
     "text": [
      "                      df    sum_sq   mean_sq          F        PR(>F)\n",
      "C(RANGO_EDAD, Sum)  11.0  0.000386  0.000035  27.316806  1.398194e-18\n",
      "Residual            56.0  0.000072  0.000001        NaN           NaN\n"
     ]
    },
    {
     "data": {
      "text/plain": [
       "'Se rechaza la hipotes nula de que los trabajadores de diferente rango de edad tienen la misma media'"
      ]
     },
     "execution_count": 24,
     "metadata": {},
     "output_type": "execute_result"
    }
   ],
   "source": [
    "#Test ANOVA inicial \n",
    "PROP_IT=ICS.groupby(['DIVISIÓ','RANGO_EDAD'])['PROP_IT'].sum().reset_index()\n",
    "y=PROP_IT['PROP_IT']\n",
    "X=PROP_IT['RANGO_EDAD']\n",
    "it_edad = ols('PROP_IT ~ C(RANGO_EDAD, Sum)',data=PROP_IT).fit()\n",
    "tanaova1 = sm.stats.anova_lm(it_edad, typ=1)\n",
    "print(tanaova1)\n",
    "'''Se rechaza la hipotes nula de que los trabajadores de diferente rango de edad tienen la misma media'''"
   ]
  },
  {
   "cell_type": "code",
   "execution_count": 25,
   "id": "a76d55d1",
   "metadata": {
    "code_folding": [],
    "slideshow": {
     "slide_type": "fragment"
    }
   },
   "outputs": [
    {
     "data": {
      "text/plain": [
       "'Conclusión1: la correlación más positiva se da en la franja de 46 a 55 años. Conclusión2: la correlación más negativa se da en la franja de 18 a 25 años. Conclusión3: El peso relativo de cada edad en el conjunto de plantilla también afecta a la correlación'"
      ]
     },
     "execution_count": 25,
     "metadata": {},
     "output_type": "execute_result"
    },
    {
     "data": {
      "image/png": "[encoded data removed]",
      "text/plain": [
       "<Figure size 144x360 with 2 Axes>"
      ]
     },
     "metadata": {
      "needs_background": "light"
     },
     "output_type": "display_data"
    }
   ],
   "source": [
    "#Calculamos la proporción de trabajadores por rango de edad y hospital\n",
    "PEQ_GEDAD=ICS.groupby(['DIVISIÓ','RANGO_EDAD'])['PEQ'].sum().reset_index()\n",
    "PROP_PEQ_EDAD=pd.merge(PEQ_GEDAD,PEQ_total_hosp,on='DIVISIÓ')\n",
    "PROP_PEQ_EDAD['PROP_PEQ_EDAD']=PROP_PEQ_EDAD['PEQ_x']/PROP_PEQ_EDAD['PEQ_y']\n",
    "PROP_PEQ_EDAD=PROP_PEQ_EDAD[['DIVISIÓ','RANGO_EDAD','PROP_PEQ_EDAD']]\n",
    "\n",
    "#Calculamos la proporción de trabajadores en IT por hospital\n",
    "PROP_IT=ICS.groupby('DIVISIÓ')['PEQ_IT'].sum().reset_index()\n",
    "PEQ_PROP_IT=pd.merge(PROP_IT,PEQ_total_hosp,on='DIVISIÓ')\n",
    "PEQ_PROP_IT['PEQ_PROP_IT']=PEQ_PROP_IT['PEQ_IT']/PEQ_PROP_IT['PEQ']\n",
    "PEQ_PROP_IT=PEQ_PROP_IT[['DIVISIÓ','PEQ_PROP_IT']]\n",
    "\n",
    "#juntamos los dos cálculo para sacar la correlación\n",
    "df_EDAD_IT1=PEQ_PROP_IT.merge(PROP_PEQ_EDAD, on='DIVISIÓ')\n",
    "df_EDAD_IT2=pd.crosstab(index=df_EDAD_IT1['DIVISIÓ'], columns=df_EDAD_IT1['RANGO_EDAD'], values=df_EDAD_IT1['PROP_PEQ_EDAD'],aggfunc='sum')\n",
    "df_EDAD_IT=PEQ_PROP_IT.merge(df_EDAD_IT2,on='DIVISIÓ')\n",
    "\n",
    "\n",
    "plt.rcParams['figure.figsize']=(2,5)\n",
    "df1 = pd.DataFrame({\"Correlación\": [df_EDAD_IT[i].corr(df_EDAD_IT['PEQ_PROP_IT']) for i in ['<18','18-20','21-25','26-30','31-35','36-40','41-45','46-50','51-55','56-60','61-65','> 65']]},\n",
    "                  index=['<18','18-20','21-25','26-30','31-35','36-40','41-45','46-50','51-55','56-60','61-65','> 65'])\n",
    "sns.heatmap(df1,annot=True,center=0)\n",
    "\n",
    "'''Conclusión1: la correlación más positiva se da en la franja de 46 a 55 años. Conclusión2: la correlación más negativa se da en la franja de 18 a 25 años. Conclusión3: El peso relativo de cada edad en el conjunto de plantilla también afecta a la correlación'''"
   ]
  },
  {
   "cell_type": "code",
   "execution_count": 26,
   "id": "35a0dc2a",
   "metadata": {
    "slideshow": {
     "slide_type": "fragment"
    }
   },
   "outputs": [
    {
     "name": "stdout",
     "output_type": "stream",
     "text": [
      "             PEQ_PROP_IT  EDAD_MEDIA\n",
      "PEQ_PROP_IT     1.000000    0.130668\n",
      "EDAD_MEDIA      0.130668    1.000000\n"
     ]
    },
    {
     "data": {
      "text/plain": [
       "'Vemos que hay una correlación lineal positiva (0.13) entre edad y proporción de trabajadores de baja en todos los hospitales salvo en el Hospital de Lleida y el Hospital de Girona que son outliers. Si los quitasemos tendríamos una correlación lineal perfecta (0.9998)'"
      ]
     },
     "execution_count": 26,
     "metadata": {},
     "output_type": "execute_result"
    },
    {
     "data": {
      "image/png": "[encoded data removed]",
      "text/plain": [
       "<Figure size 864x432 with 1 Axes>"
      ]
     },
     "metadata": {
      "needs_background": "light"
     },
     "output_type": "display_data"
    }
   ],
   "source": [
    "#Calculamos la edad media de cada hospital y la correlacionamos con la proporción de trabajadores en IT por hospital\n",
    "PEQ_EDAD=ICS.groupby(['DIVISIÓ','EDAD'])['PEQ'].sum().reset_index()\n",
    "PEQ_PROP_EDAD=pd.merge(PEQ_EDAD,PEQ_total_hosp,on='DIVISIÓ')\n",
    "PEQ_PROP_EDAD['PEQ_PROP_EDAD']=PEQ_PROP_EDAD['PEQ_x']/PEQ_PROP_EDAD['PEQ_y']\n",
    "PEQ_PROP_EDAD['EDAD_MEDIA']=PEQ_PROP_EDAD['PEQ_PROP_EDAD']*PEQ_PROP_EDAD['EDAD']\n",
    "PEQ_PROP_EDAD_MEDIA=PEQ_PROP_EDAD.groupby('DIVISIÓ')['EDAD_MEDIA'].sum().reset_index()\n",
    "df_EDADMEDIA_IT=PEQ_PROP_IT.merge(PEQ_PROP_EDAD_MEDIA, on='DIVISIÓ')\n",
    "#Quitamos outliers:\n",
    "#df_EDADMEDIA_IT=df_EDADMEDIA_IT[(df_EDADMEDIA_IT['DIVISIÓ']!=\"H1\")&(PROP_IT['DIVISIÓ']!=\"H4\")] \n",
    "\n",
    "plt.rcParams['figure.figsize']=(12,6)\n",
    "sns.scatterplot(data=df_EDADMEDIA_IT, x=\"EDAD_MEDIA\", y=\"PEQ_PROP_IT\",hue='DIVISIÓ')\n",
    "print(df_EDADMEDIA_IT[['PEQ_PROP_IT','EDAD_MEDIA']].corr())\n",
    "'''Vemos que hay una correlación lineal positiva (0.13) entre edad y proporción de trabajadores de baja en todos los hospitales salvo en el Hospital de Lleida y el Hospital de Girona que son outliers. Si los quitasemos tendríamos una correlación lineal perfecta (0.9998)'''\n",
    "\n"
   ]
  },
  {
   "cell_type": "code",
   "execution_count": 27,
   "id": "b7756f63",
   "metadata": {
    "slideshow": {
     "slide_type": "fragment"
    }
   },
   "outputs": [
    {
     "data": {
      "text/html": [
       "<table class=\"simpletable\">\n",
       "<caption>OLS Regression Results</caption>\n",
       "<tr>\n",
       "  <th>Dep. Variable:</th>         <td>PROP_IT</td>     <th>  R-squared:         </th> <td>   0.035</td>\n",
       "</tr>\n",
       "<tr>\n",
       "  <th>Model:</th>                   <td>OLS</td>       <th>  Adj. R-squared:    </th> <td>   0.032</td>\n",
       "</tr>\n",
       "<tr>\n",
       "  <th>Method:</th>             <td>Least Squares</td>  <th>  F-statistic:       </th> <td>   11.36</td>\n",
       "</tr>\n",
       "<tr>\n",
       "  <th>Date:</th>             <td>Sat, 29 Jan 2022</td> <th>  Prob (F-statistic):</th> <td>0.000846</td>\n",
       "</tr>\n",
       "<tr>\n",
       "  <th>Time:</th>                 <td>09:57:53</td>     <th>  Log-Likelihood:    </th> <td>  1902.2</td>\n",
       "</tr>\n",
       "<tr>\n",
       "  <th>No. Observations:</th>      <td>   316</td>      <th>  AIC:               </th> <td>  -3800.</td>\n",
       "</tr>\n",
       "<tr>\n",
       "  <th>Df Residuals:</th>          <td>   314</td>      <th>  BIC:               </th> <td>  -3793.</td>\n",
       "</tr>\n",
       "<tr>\n",
       "  <th>Df Model:</th>              <td>     1</td>      <th>                     </th>     <td> </td>   \n",
       "</tr>\n",
       "<tr>\n",
       "  <th>Covariance Type:</th>      <td>nonrobust</td>    <th>                     </th>     <td> </td>   \n",
       "</tr>\n",
       "</table>\n",
       "<table class=\"simpletable\">\n",
       "<tr>\n",
       "    <td></td>       <th>coef</th>     <th>std err</th>      <th>t</th>      <th>P>|t|</th>  <th>[0.025</th>    <th>0.975]</th>  \n",
       "</tr>\n",
       "<tr>\n",
       "  <th>const</th> <td>    0.0006</td> <td>    0.000</td> <td>    6.415</td> <td> 0.000</td> <td>    0.000</td> <td>    0.001</td>\n",
       "</tr>\n",
       "<tr>\n",
       "  <th>EDAD</th>  <td> 7.338e-06</td> <td> 2.18e-06</td> <td>    3.370</td> <td> 0.001</td> <td> 3.05e-06</td> <td> 1.16e-05</td>\n",
       "</tr>\n",
       "</table>\n",
       "<table class=\"simpletable\">\n",
       "<tr>\n",
       "  <th>Omnibus:</th>       <td>44.499</td> <th>  Durbin-Watson:     </th> <td>   0.843</td>\n",
       "</tr>\n",
       "<tr>\n",
       "  <th>Prob(Omnibus):</th> <td> 0.000</td> <th>  Jarque-Bera (JB):  </th> <td> 133.193</td>\n",
       "</tr>\n",
       "<tr>\n",
       "  <th>Skew:</th>          <td> 0.609</td> <th>  Prob(JB):          </th> <td>1.20e-29</td>\n",
       "</tr>\n",
       "<tr>\n",
       "  <th>Kurtosis:</th>      <td> 5.938</td> <th>  Cond. No.          </th> <td>    140.</td>\n",
       "</tr>\n",
       "</table><br/><br/>Notes:<br/>[1] Standard Errors assume that the covariance matrix of the errors is correctly specified."
      ],
      "text/plain": [
       "<class 'statsmodels.iolib.summary.Summary'>\n",
       "\"\"\"\n",
       "                            OLS Regression Results                            \n",
       "==============================================================================\n",
       "Dep. Variable:                PROP_IT   R-squared:                       0.035\n",
       "Model:                            OLS   Adj. R-squared:                  0.032\n",
       "Method:                 Least Squares   F-statistic:                     11.36\n",
       "Date:                Sat, 29 Jan 2022   Prob (F-statistic):           0.000846\n",
       "Time:                        09:57:53   Log-Likelihood:                 1902.2\n",
       "No. Observations:                 316   AIC:                            -3800.\n",
       "Df Residuals:                     314   BIC:                            -3793.\n",
       "Df Model:                           1                                         \n",
       "Covariance Type:            nonrobust                                         \n",
       "==============================================================================\n",
       "                 coef    std err          t      P>|t|      [0.025      0.975]\n",
       "------------------------------------------------------------------------------\n",
       "const          0.0006      0.000      6.415      0.000       0.000       0.001\n",
       "EDAD        7.338e-06   2.18e-06      3.370      0.001    3.05e-06    1.16e-05\n",
       "==============================================================================\n",
       "Omnibus:                       44.499   Durbin-Watson:                   0.843\n",
       "Prob(Omnibus):                  0.000   Jarque-Bera (JB):              133.193\n",
       "Skew:                           0.609   Prob(JB):                     1.20e-29\n",
       "Kurtosis:                       5.938   Cond. No.                         140.\n",
       "==============================================================================\n",
       "\n",
       "Notes:\n",
       "[1] Standard Errors assume that the covariance matrix of the errors is correctly specified.\n",
       "\"\"\""
      ]
     },
     "execution_count": 27,
     "metadata": {},
     "output_type": "execute_result"
    }
   ],
   "source": [
    "#Lo comprobamos haciendo una regresión lineal\n",
    "PROP_IT=ICS.groupby(['DIVISIÓ','EDAD'])['PROP_IT'].sum().reset_index()\n",
    "#Si eliminams outliers el resultado cambia:\n",
    "#PROP_IT=PROP_IT[(PROP_IT['DIVISIÓ']!=\"H1\")&(PROP_IT['DIVISIÓ']!=\"H4\")]\n",
    "y=PROP_IT['PROP_IT']\n",
    "X=PROP_IT['EDAD']\n",
    "X = sm.add_constant(X)\n",
    "model = sm.OLS(y, X).fit()\n",
    "model.summary()"
   ]
  },
  {
   "cell_type": "code",
   "execution_count": 28,
   "id": "446bdea5",
   "metadata": {
    "slideshow": {
     "slide_type": "fragment"
    }
   },
   "outputs": [
    {
     "data": {
      "text/plain": [
       "'Prob (F-statistic)=P_value<0.05 Por tanto rechazamos la Ho y podemos DECIR que hay una relación estadísticamente significativa entre la variable edad y la variable plantilla equivalente de IT. La R2=0,035 por tanto el 3,5% de la variación de y es predicha por el modelo. \"That means that your model doesn\\'t explain much of variation of the data but it is significant \\n(better than not having a model)\" '"
      ]
     },
     "execution_count": 28,
     "metadata": {},
     "output_type": "execute_result"
    }
   ],
   "source": [
    "'''Prob (F-statistic)=P_value<0.05 Por tanto rechazamos la Ho y podemos DECIR que hay una relación estadísticamente significativa entre la variable edad y la variable plantilla equivalente de IT. La R2=0,035 por tanto el 3,5% de la variación de y es predicha por el modelo. \"That means that your model doesn't explain much of variation of the data but it is significant \n",
    "(better than not having a model)\" '''"
   ]
  },
  {
   "cell_type": "markdown",
   "id": "8e677f02",
   "metadata": {
    "slideshow": {
     "slide_type": "subslide"
    }
   },
   "source": [
    "#### ¿La categoria influye en el absentismo?"
   ]
  },
  {
   "cell_type": "code",
   "execution_count": 29,
   "id": "36e707e1",
   "metadata": {
    "slideshow": {
     "slide_type": "fragment"
    }
   },
   "outputs": [
    {
     "name": "stdout",
     "output_type": "stream",
     "text": [
      "                     df    sum_sq   mean_sq           F        PR(>F)\n",
      "C(CATEGORIA, Sum)   8.0  0.002082  0.000260  141.332983  2.856882e-29\n",
      "Residual           45.0  0.000083  0.000002         NaN           NaN\n"
     ]
    },
    {
     "data": {
      "text/plain": [
       "'Por mucho se rechaza la hipotes nula de que los trabajadores de diferente categoria tienen la misma media'"
      ]
     },
     "execution_count": 29,
     "metadata": {},
     "output_type": "execute_result"
    }
   ],
   "source": [
    "#Test ANOVA inicial \n",
    "CAT_IT=ICS.groupby(['DIVISIÓ','CATEGORIA'])['PROP_IT'].sum().reset_index()\n",
    "y=CAT_IT['PROP_IT']\n",
    "X=CAT_IT['CATEGORIA']\n",
    "it_categ = ols('PROP_IT ~ C(CATEGORIA, Sum)',data=CAT_IT).fit()\n",
    "tanaova = sm.stats.anova_lm(it_categ, typ=1)\n",
    "print(tanaova)\n",
    "'''Por mucho se rechaza la hipotes nula de que los trabajadores de diferente categoria tienen la misma media'''"
   ]
  },
  {
   "cell_type": "code",
   "execution_count": 30,
   "id": "546d288c",
   "metadata": {
    "slideshow": {
     "slide_type": "fragment"
    }
   },
   "outputs": [
    {
     "data": {
      "text/plain": [
       "'Conclusión1 la correlación más positiva se da en la categoria Administrativo/a (0.83). Conclusión2 la correlación más negativa se da en la categoria Enfermeras/os (-0.77). Conclusión3: en hospitales grandes con mayor proporción de trabajadores administrativos el absentismo debería será mayor'"
      ]
     },
     "execution_count": 30,
     "metadata": {},
     "output_type": "execute_result"
    },
    {
     "data": {
      "image/png": "[encoded data removed]",
      "text/plain": [
       "<Figure size 144x360 with 2 Axes>"
      ]
     },
     "metadata": {
      "needs_background": "light"
     },
     "output_type": "display_data"
    }
   ],
   "source": [
    "PEQ_CATEG=ICS.groupby(['DIVISIÓ','CATEGORIA'])['PEQ'].sum().reset_index()\n",
    "PROP_PEQ_CATEG=pd.merge(PEQ_CATEG,PEQ_total_hosp,on='DIVISIÓ')\n",
    "PROP_PEQ_CATEG['PROP_PEQ_CATEG']=PROP_PEQ_CATEG['PEQ_x']/PROP_PEQ_CATEG['PEQ_y']\n",
    "PROP_PEQ_CATEG=PROP_PEQ_CATEG[['DIVISIÓ','CATEGORIA','PROP_PEQ_CATEG']]\n",
    "PROP_PEQ_CATEG=pd.crosstab(index=PROP_PEQ_CATEG['DIVISIÓ'], columns=PROP_PEQ_CATEG['CATEGORIA'], values=PROP_PEQ_CATEG['PROP_PEQ_CATEG'],aggfunc='sum')\n",
    "df_CATEGORIA_IT=PEQ_PROP_IT.merge(PROP_PEQ_CATEG, on='DIVISIÓ')\n",
    "List_categorias=df_CATEGORIA_IT.columns.tolist()[2:]\n",
    "#for i in List_categorias:\n",
    " #   print(df_CATEGORIA_IT[[i,'PEQ_PROP_IT']].corr())\n",
    "    \n",
    "plt.rcParams['figure.figsize']=(2,5)\n",
    "df = pd.DataFrame({\"Correlación_Spearman\": [df_CATEGORIA_IT[i].corr(df_CATEGORIA_IT['PEQ_PROP_IT'],method='spearman') for i in List_categorias]},\n",
    "                  index=List_categorias)\n",
    "sns.heatmap(df,annot=True,center=0)\n",
    "    \n",
    "'''Conclusión1 la correlación más positiva se da en la categoria Administrativo/a (0.83). Conclusión2 la correlación más negativa se da en la categoria Enfermeras/os (-0.77). Conclusión3: en hospitales grandes con mayor proporción de trabajadores administrativos el absentismo debería será mayor'''"
   ]
  },
  {
   "cell_type": "markdown",
   "id": "1e9ed288",
   "metadata": {
    "slideshow": {
     "slide_type": "subslide"
    }
   },
   "source": [
    "#### ¿La forma de ocupación influye en el absentismo?"
   ]
  },
  {
   "cell_type": "code",
   "execution_count": 31,
   "id": "b89f145c",
   "metadata": {
    "slideshow": {
     "slide_type": "fragment"
    }
   },
   "outputs": [
    {
     "name": "stdout",
     "output_type": "stream",
     "text": [
      "                     df    sum_sq   mean_sq          F    PR(>F)\n",
      "C(OCUPACION, Sum)   1.0  0.000861  0.000861  57.264571  0.000019\n",
      "Residual           10.0  0.000150  0.000015        NaN       NaN\n"
     ]
    },
    {
     "data": {
      "text/plain": [
       "'Se rechaza la hipotes nula de que los trabajadores de diferente forma de ocupación tienen la misma media.\\n'"
      ]
     },
     "execution_count": 31,
     "metadata": {},
     "output_type": "execute_result"
    }
   ],
   "source": [
    "#Test ANOVA inicial \n",
    "PEQ_IT_FO=ICS.replace('SUBSTITUCION', 'TEMPORAL').groupby(['DIVISIÓ','OCUPACION'])['PROP_IT'].sum().reset_index()\n",
    "y=PEQ_IT_FO['PROP_IT']\n",
    "X=PEQ_IT_FO['OCUPACION']\n",
    "it_FO = ols('PROP_IT ~ C(OCUPACION, Sum)',data=PEQ_IT_FO).fit()\n",
    "tanaova = sm.stats.anova_lm(it_FO, typ=1)\n",
    "print(tanaova)\n",
    "'''Se rechaza la hipotes nula de que los trabajadores de diferente forma de ocupación tienen la misma media.\n",
    "'''"
   ]
  },
  {
   "cell_type": "code",
   "execution_count": 32,
   "id": "1b903daa",
   "metadata": {
    "slideshow": {
     "slide_type": "fragment"
    }
   },
   "outputs": [
    {
     "data": {
      "text/plain": [
       "'Se observa una corelación positiva de 0.54 entre proporción de trabajadores temporales y absentismo por IT'"
      ]
     },
     "execution_count": 32,
     "metadata": {},
     "output_type": "execute_result"
    },
    {
     "data": {
      "image/png": "[encoded data removed]",
      "text/plain": [
       "<Figure size 144x360 with 2 Axes>"
      ]
     },
     "metadata": {
      "needs_background": "light"
     },
     "output_type": "display_data"
    }
   ],
   "source": [
    "PEQ_FO=ICS.replace('SUBSTITUCION', 'TEMPORAL').groupby(['DIVISIÓ','OCUPACION'])['PEQ'].sum().reset_index()\n",
    "PROP_PEQ_FO=pd.merge(PEQ_FO,PEQ_total_hosp,on='DIVISIÓ')\n",
    "PROP_PEQ_FO['PROP_PEQ_FO']=PROP_PEQ_FO['PEQ_x']/PROP_PEQ_FO['PEQ_y']\n",
    "PROP_PEQ_FO=PROP_PEQ_FO[['DIVISIÓ','OCUPACION','PROP_PEQ_FO']]\n",
    "PROP_PEQ_FO=pd.crosstab(index=PROP_PEQ_FO['DIVISIÓ'], columns=PROP_PEQ_FO['OCUPACION'], values=PROP_PEQ_FO['PROP_PEQ_FO'],aggfunc='sum')\n",
    "df_FO_IT=PEQ_PROP_IT.merge(PROP_PEQ_FO, on='DIVISIÓ')\n",
    "df = pd.DataFrame({\"Correlación_Spearman\": [df_FO_IT[i].corr(df_FO_IT['PEQ_PROP_IT'],method='spearman') for i in ['FIJO','TEMPORAL']]},\n",
    "                  index=['FIJO','TEMPORAL'])\n",
    "sns.heatmap(df,annot=True,center=0)\n",
    "\n",
    "'''Se observa una corelación positiva de 0.54 entre proporción de trabajadores temporales y absentismo por IT'''"
   ]
  },
  {
   "cell_type": "code",
   "execution_count": 33,
   "id": "461f8dfb",
   "metadata": {
    "slideshow": {
     "slide_type": "fragment"
    }
   },
   "outputs": [
    {
     "data": {
      "text/html": [
       "<table class=\"simpletable\">\n",
       "<caption>OLS Regression Results</caption>\n",
       "<tr>\n",
       "  <th>Dep. Variable:</th>         <td>PROP_IT</td>     <th>  R-squared:         </th>  <td>   0.082</td> \n",
       "</tr>\n",
       "<tr>\n",
       "  <th>Model:</th>                   <td>OLS</td>       <th>  Adj. R-squared:    </th>  <td>   0.082</td> \n",
       "</tr>\n",
       "<tr>\n",
       "  <th>Method:</th>             <td>Least Squares</td>  <th>  F-statistic:       </th>  <td>   1773.</td> \n",
       "</tr>\n",
       "<tr>\n",
       "  <th>Date:</th>             <td>Sat, 29 Jan 2022</td> <th>  Prob (F-statistic):</th>   <td>  0.00</td>  \n",
       "</tr>\n",
       "<tr>\n",
       "  <th>Time:</th>                 <td>09:57:56</td>     <th>  Log-Likelihood:    </th> <td>5.5379e+05</td>\n",
       "</tr>\n",
       "<tr>\n",
       "  <th>No. Observations:</th>      <td> 59338</td>      <th>  AIC:               </th> <td>-1.108e+06</td>\n",
       "</tr>\n",
       "<tr>\n",
       "  <th>Df Residuals:</th>          <td> 59334</td>      <th>  BIC:               </th> <td>-1.108e+06</td>\n",
       "</tr>\n",
       "<tr>\n",
       "  <th>Df Model:</th>              <td>     3</td>      <th>                     </th>      <td> </td>    \n",
       "</tr>\n",
       "<tr>\n",
       "  <th>Covariance Type:</th>      <td>nonrobust</td>    <th>                     </th>      <td> </td>    \n",
       "</tr>\n",
       "</table>\n",
       "<table class=\"simpletable\">\n",
       "<tr>\n",
       "      <td></td>         <th>coef</th>     <th>std err</th>      <th>t</th>      <th>P>|t|</th>  <th>[0.025</th>    <th>0.975]</th>  \n",
       "</tr>\n",
       "<tr>\n",
       "  <th>const</th>     <td>-9.511e-06</td> <td> 2.76e-07</td> <td>  -34.432</td> <td> 0.000</td> <td>-1.01e-05</td> <td>-8.97e-06</td>\n",
       "</tr>\n",
       "<tr>\n",
       "  <th>PROP_TEMP</th> <td>    0.0474</td> <td>    0.001</td> <td>   56.650</td> <td> 0.000</td> <td>    0.046</td> <td>    0.049</td>\n",
       "</tr>\n",
       "<tr>\n",
       "  <th>EDAD</th>      <td> 3.131e-07</td> <td> 7.18e-09</td> <td>   43.586</td> <td> 0.000</td> <td> 2.99e-07</td> <td> 3.27e-07</td>\n",
       "</tr>\n",
       "<tr>\n",
       "  <th>PROP_ADM</th>  <td>    0.0092</td> <td>    0.002</td> <td>    4.437</td> <td> 0.000</td> <td>    0.005</td> <td>    0.013</td>\n",
       "</tr>\n",
       "</table>\n",
       "<table class=\"simpletable\">\n",
       "<tr>\n",
       "  <th>Omnibus:</th>       <td>84762.468</td> <th>  Durbin-Watson:     </th>   <td>   1.945</td>  \n",
       "</tr>\n",
       "<tr>\n",
       "  <th>Prob(Omnibus):</th>  <td> 0.000</td>   <th>  Jarque-Bera (JB):  </th> <td>28723190.542</td>\n",
       "</tr>\n",
       "<tr>\n",
       "  <th>Skew:</th>           <td> 8.600</td>   <th>  Prob(JB):          </th>   <td>    0.00</td>  \n",
       "</tr>\n",
       "<tr>\n",
       "  <th>Kurtosis:</th>       <td>109.403</td>  <th>  Cond. No.          </th>   <td>8.92e+05</td>  \n",
       "</tr>\n",
       "</table><br/><br/>Notes:<br/>[1] Standard Errors assume that the covariance matrix of the errors is correctly specified.<br/>[2] The condition number is large, 8.92e+05. This might indicate that there are<br/>strong multicollinearity or other numerical problems."
      ],
      "text/plain": [
       "<class 'statsmodels.iolib.summary.Summary'>\n",
       "\"\"\"\n",
       "                            OLS Regression Results                            \n",
       "==============================================================================\n",
       "Dep. Variable:                PROP_IT   R-squared:                       0.082\n",
       "Model:                            OLS   Adj. R-squared:                  0.082\n",
       "Method:                 Least Squares   F-statistic:                     1773.\n",
       "Date:                Sat, 29 Jan 2022   Prob (F-statistic):               0.00\n",
       "Time:                        09:57:56   Log-Likelihood:             5.5379e+05\n",
       "No. Observations:               59338   AIC:                        -1.108e+06\n",
       "Df Residuals:                   59334   BIC:                        -1.108e+06\n",
       "Df Model:                           3                                         \n",
       "Covariance Type:            nonrobust                                         \n",
       "==============================================================================\n",
       "                 coef    std err          t      P>|t|      [0.025      0.975]\n",
       "------------------------------------------------------------------------------\n",
       "const      -9.511e-06   2.76e-07    -34.432      0.000   -1.01e-05   -8.97e-06\n",
       "PROP_TEMP      0.0474      0.001     56.650      0.000       0.046       0.049\n",
       "EDAD        3.131e-07   7.18e-09     43.586      0.000    2.99e-07    3.27e-07\n",
       "PROP_ADM       0.0092      0.002      4.437      0.000       0.005       0.013\n",
       "==============================================================================\n",
       "Omnibus:                    84762.468   Durbin-Watson:                   1.945\n",
       "Prob(Omnibus):                  0.000   Jarque-Bera (JB):         28723190.542\n",
       "Skew:                           8.600   Prob(JB):                         0.00\n",
       "Kurtosis:                     109.403   Cond. No.                     8.92e+05\n",
       "==============================================================================\n",
       "\n",
       "Notes:\n",
       "[1] Standard Errors assume that the covariance matrix of the errors is correctly specified.\n",
       "[2] The condition number is large, 8.92e+05. This might indicate that there are\n",
       "strong multicollinearity or other numerical problems.\n",
       "\"\"\""
      ]
     },
     "execution_count": 33,
     "metadata": {},
     "output_type": "execute_result"
    }
   ],
   "source": [
    "#Lo comprobamos haciendo una regresión lineal multiple\n",
    "\n",
    "#Añadimos las variables que hemos visto pueden influenciar:\n",
    "ICS['OCUPACION2']=ICS['OCUPACION'].replace('SUBSTITUCION', 'TEMPORAL')\n",
    "ICS['PROP_TEMP']=ICS[ICS['OCUPACION2']=='TEMPORAL']['PEQ']/ICS['PEQ_total']\n",
    "for i in ICS.index:\n",
    "    if isNaN(ICS.at[i,'PROP_TEMP']):\n",
    "        ICS.at[i,'PROP_TEMP']=0\n",
    "    else:\n",
    "        pass\n",
    "ICS['PROP_ADM']=ICS[ICS['CATEGORIA']=='Administrativo/a']['PEQ']/ICS['PEQ_total']\n",
    "for i in ICS.index:\n",
    "    if isNaN(ICS.at[i,'PROP_ADM']):\n",
    "        ICS.at[i,'PROP_ADM']=0\n",
    "    else:\n",
    "        pass\n",
    "\n",
    "#Usamos el model de RL OLS:\n",
    "y=ICS['PROP_IT']\n",
    "X=ICS[['PROP_TEMP','EDAD','PROP_ADM']]\n",
    "X = sm.add_constant(X)\n",
    "model = sm.OLS(y, X).fit()\n",
    "model.summary()"
   ]
  },
  {
   "cell_type": "code",
   "execution_count": 34,
   "id": "8a5f1284",
   "metadata": {
    "slideshow": {
     "slide_type": "fragment"
    }
   },
   "outputs": [
    {
     "data": {
      "text/plain": [
       "'Prob (F-statistic)=P_value<0.05 Por tanto rechazamos la Ho y podemos DECIR que hay una relación estadísticamente significativa entre la variables X y la variable y. La R2=0,082 por tanto el 8,2% de la variación de y es predicha por el modelo. \"That means that your model doesn\\'t explain much of variation of the data but it is significant (better than not having a model)\" '"
      ]
     },
     "execution_count": 34,
     "metadata": {},
     "output_type": "execute_result"
    }
   ],
   "source": [
    "'''Prob (F-statistic)=P_value<0.05 Por tanto rechazamos la Ho y podemos DECIR que hay una relación estadísticamente significativa entre la variables X y la variable y. La R2=0,082 por tanto el 8,2% de la variación de y es predicha por el modelo. \"That means that your model doesn't explain much of variation of the data but it is significant (better than not having a model)\" '''"
   ]
  },
  {
   "cell_type": "markdown",
   "id": "33855f80",
   "metadata": {
    "slideshow": {
     "slide_type": "slide"
    }
   },
   "source": [
    "### Correlación Absentismo MAT & Plantilla Cobertura MAT"
   ]
  },
  {
   "cell_type": "code",
   "execution_count": 35,
   "id": "fa86d450",
   "metadata": {
    "slideshow": {
     "slide_type": "fragment"
    }
   },
   "outputs": [
    {
     "data": {
      "text/html": [
       "<div>\n",
       "<style scoped>\n",
       "    .dataframe tbody tr th:only-of-type {\n",
       "        vertical-align: middle;\n",
       "    }\n",
       "\n",
       "    .dataframe tbody tr th {\n",
       "        vertical-align: top;\n",
       "    }\n",
       "\n",
       "    .dataframe thead th {\n",
       "        text-align: right;\n",
       "    }\n",
       "</style>\n",
       "<table border=\"1\" class=\"dataframe\">\n",
       "  <thead>\n",
       "    <tr style=\"text-align: right;\">\n",
       "      <th></th>\n",
       "      <th>PROP_CO_MAT</th>\n",
       "      <th>PROP_PEQ_MAT</th>\n",
       "    </tr>\n",
       "  </thead>\n",
       "  <tbody>\n",
       "    <tr>\n",
       "      <th>PROP_CO_MAT</th>\n",
       "      <td>1.000000</td>\n",
       "      <td>0.865184</td>\n",
       "    </tr>\n",
       "    <tr>\n",
       "      <th>PROP_PEQ_MAT</th>\n",
       "      <td>0.865184</td>\n",
       "      <td>1.000000</td>\n",
       "    </tr>\n",
       "  </tbody>\n",
       "</table>\n",
       "</div>"
      ],
      "text/plain": [
       "              PROP_CO_MAT  PROP_PEQ_MAT\n",
       "PROP_CO_MAT      1.000000      0.865184\n",
       "PROP_PEQ_MAT     0.865184      1.000000"
      ]
     },
     "execution_count": 35,
     "metadata": {},
     "output_type": "execute_result"
    }
   ],
   "source": [
    "#Calculamos la proporción de personal contratado para cubrir una baja de MAT por Hospital y Categoria\n",
    "PEQ_COBERTURA_MAT=ICS[ICS['COBERTURA']=='MAT'][['DIVISIÓ','CATEGORIA','PEQ']]\n",
    "COBERTURA_MAT=PEQ_COBERTURA_MAT.groupby(['DIVISIÓ','CATEGORIA'])['PEQ'].sum().reset_index()\n",
    "PROP_COBERT_MAT=pd.merge(COBERTURA_MAT,PEQ_total_hosp,on='DIVISIÓ')\n",
    "PROP_COBERT_MAT['PROP_CO_MAT']=PROP_COBERT_MAT['PEQ_x']/PROP_COBERT_MAT['PEQ_y']\n",
    "PROP_COBERT_MAT=PROP_COBERT_MAT[['DIVISIÓ','CATEGORIA','PROP_CO_MAT']]\n",
    "\n",
    "#Calculamos la proporción de personal que está de baja por MAT por Hospital y Categoria\n",
    "PEQ_MAT=ICS.groupby(['DIVISIÓ','CATEGORIA'])['PEQ_MAT'].sum().reset_index()\n",
    "PROP_PEQ_MAT=pd.merge(PEQ_MAT,PEQ_total_hosp,on='DIVISIÓ')\n",
    "PROP_PEQ_MAT['PROP_PEQ_MAT']=PROP_PEQ_MAT['PEQ_MAT']/PROP_PEQ_MAT['PEQ']\n",
    "PROP_PEQ_MAT=PROP_PEQ_MAT[['DIVISIÓ','CATEGORIA','PROP_PEQ_MAT']]\n",
    "\n",
    "#Examinamos la correlación entre las dos variables\n",
    "df_MAT=PROP_COBERT_MAT.merge(PROP_PEQ_MAT, left_on=['DIVISIÓ','CATEGORIA'], right_on=['DIVISIÓ','CATEGORIA'])\n",
    "df_MAT[['PROP_CO_MAT','PROP_PEQ_MAT']].corr(method='spearman')\n"
   ]
  },
  {
   "cell_type": "code",
   "execution_count": 36,
   "id": "bee7a315",
   "metadata": {
    "slideshow": {
     "slide_type": "fragment"
    }
   },
   "outputs": [
    {
     "data": {
      "text/plain": [
       "'Hay una correlación positiva del 0,86. Por tanto, cuanto más % de plantilla esté de baja por maternidad más % de los contratos serán de cobertura maternidad'"
      ]
     },
     "execution_count": 36,
     "metadata": {},
     "output_type": "execute_result"
    }
   ],
   "source": [
    "'''Hay una correlación positiva del 0,86. Por tanto, cuanto más % de plantilla esté de baja por maternidad más % de los contratos serán de cobertura maternidad'''"
   ]
  },
  {
   "cell_type": "markdown",
   "id": "8aa6c14c",
   "metadata": {
    "slideshow": {
     "slide_type": "subslide"
    }
   },
   "source": [
    "#### ¿El sexo influye en los permisos matenidad?"
   ]
  },
  {
   "cell_type": "code",
   "execution_count": 37,
   "id": "4384044d",
   "metadata": {
    "slideshow": {
     "slide_type": "fragment"
    }
   },
   "outputs": [
    {
     "name": "stdout",
     "output_type": "stream",
     "text": [
      "                df    sum_sq   mean_sq           F        PR(>F)\n",
      "C(SEXO, Sum)   1.0  0.000430  0.000430  287.948701  1.063058e-08\n",
      "Residual      10.0  0.000015  0.000001         NaN           NaN\n"
     ]
    },
    {
     "data": {
      "text/plain": [
       "'Se rechaza la hipotes nula de que los trabajadores de diferente sexo tienen la misma media.\\n'"
      ]
     },
     "execution_count": 37,
     "metadata": {},
     "output_type": "execute_result"
    }
   ],
   "source": [
    "#Test ANOVA inicial\n",
    "ICS['PROP_MAT']=ICS['PEQ_MAT']/ICS['PEQ_total']\n",
    "PEQ_MAT_SEX=ICS.groupby(['DIVISIÓ','SEXO'])['PROP_MAT'].sum().reset_index()\n",
    "y=PEQ_MAT_SEX['PROP_MAT']\n",
    "X=PEQ_MAT_SEX['SEXO']\n",
    "MAT_SEX = ols('PROP_MAT ~ C(SEXO, Sum)',data=PEQ_MAT_SEX).fit()\n",
    "tanaova = sm.stats.anova_lm(MAT_SEX, typ=1)\n",
    "print(tanaova)\n",
    "'''Se rechaza la hipotes nula de que los trabajadores de diferente sexo tienen la misma media.\n",
    "'''"
   ]
  },
  {
   "cell_type": "code",
   "execution_count": 38,
   "id": "2d819a24",
   "metadata": {
    "slideshow": {
     "slide_type": "fragment"
    }
   },
   "outputs": [
    {
     "data": {
      "text/plain": [
       "'La gran mayoria de maternidades pertenecen a trabajadoras'"
      ]
     },
     "execution_count": 38,
     "metadata": {},
     "output_type": "execute_result"
    },
    {
     "data": {
      "image/png": "[encoded data removed]",
      "text/plain": [
       "<Figure size 880.25x360 with 2 Axes>"
      ]
     },
     "metadata": {
      "needs_background": "light"
     },
     "output_type": "display_data"
    }
   ],
   "source": [
    "sns.displot(data=ICS[ICS.PEQ_MAT > 0], x='EDAD', kind='kde',hue='CATEGORIA',col='SEXO')\n",
    "'''La gran mayoria de maternidades pertenecen a trabajadoras'''"
   ]
  },
  {
   "cell_type": "markdown",
   "id": "d18e0c06",
   "metadata": {
    "slideshow": {
     "slide_type": "subslide"
    }
   },
   "source": [
    "#### En qué colectivo se concentran las maternidades?"
   ]
  },
  {
   "cell_type": "code",
   "execution_count": 39,
   "id": "f5b7fdfc",
   "metadata": {
    "slideshow": {
     "slide_type": "fragment"
    }
   },
   "outputs": [
    {
     "data": {
      "text/html": [
       "<div>\n",
       "<style scoped>\n",
       "    .dataframe tbody tr th:only-of-type {\n",
       "        vertical-align: middle;\n",
       "    }\n",
       "\n",
       "    .dataframe tbody tr th {\n",
       "        vertical-align: top;\n",
       "    }\n",
       "\n",
       "    .dataframe thead th {\n",
       "        text-align: right;\n",
       "    }\n",
       "</style>\n",
       "<table border=\"1\" class=\"dataframe\">\n",
       "  <thead>\n",
       "    <tr style=\"text-align: right;\">\n",
       "      <th></th>\n",
       "      <th>CATEGORIA</th>\n",
       "      <th>RANGO_EDAD</th>\n",
       "      <th>PROP_PEQ_MAT</th>\n",
       "    </tr>\n",
       "  </thead>\n",
       "  <tbody>\n",
       "    <tr>\n",
       "      <th>34</th>\n",
       "      <td>Directivos/as</td>\n",
       "      <td>31-35</td>\n",
       "      <td>0.400000</td>\n",
       "    </tr>\n",
       "    <tr>\n",
       "      <th>76</th>\n",
       "      <td>Residentes/as</td>\n",
       "      <td>36-40</td>\n",
       "      <td>0.093419</td>\n",
       "    </tr>\n",
       "    <tr>\n",
       "      <th>55</th>\n",
       "      <td>Facultativos/as</td>\n",
       "      <td>36-40</td>\n",
       "      <td>0.076367</td>\n",
       "    </tr>\n",
       "    <tr>\n",
       "      <th>44</th>\n",
       "      <td>Enfermeras/os</td>\n",
       "      <td>31-35</td>\n",
       "      <td>0.060813</td>\n",
       "    </tr>\n",
       "    <tr>\n",
       "      <th>83</th>\n",
       "      <td>Técnicos/as especialistas</td>\n",
       "      <td>31-35</td>\n",
       "      <td>0.050115</td>\n",
       "    </tr>\n",
       "  </tbody>\n",
       "</table>\n",
       "</div>"
      ],
      "text/plain": [
       "                    CATEGORIA RANGO_EDAD  PROP_PEQ_MAT\n",
       "34              Directivos/as      31-35      0.400000\n",
       "76              Residentes/as      36-40      0.093419\n",
       "55            Facultativos/as      36-40      0.076367\n",
       "44              Enfermeras/os      31-35      0.060813\n",
       "83  Técnicos/as especialistas      31-35      0.050115"
      ]
     },
     "execution_count": 39,
     "metadata": {},
     "output_type": "execute_result"
    }
   ],
   "source": [
    "PEQ_MAT=ICS[ICS['SEXO']=='D'].groupby(['CATEGORIA','RANGO_EDAD'])['PEQ_MAT'].sum().reset_index()\n",
    "PEQ_HOSP=ICS[ICS['SEXO']=='D'].groupby(['CATEGORIA','RANGO_EDAD'])['PEQ'].sum().reset_index()\n",
    "PROP_PEQ_MAT=pd.merge(PEQ_MAT,PEQ_HOSP,on=(['CATEGORIA','RANGO_EDAD']))\n",
    "PROP_PEQ_MAT['PROP_PEQ_MAT']=PROP_PEQ_MAT['PEQ_MAT']/PROP_PEQ_MAT['PEQ']\n",
    "PROP_PEQ_MAT=PROP_PEQ_MAT[['CATEGORIA','RANGO_EDAD','PROP_PEQ_MAT']]\n",
    "PROP_PEQ_MAT=PROP_PEQ_MAT.groupby(['CATEGORIA','RANGO_EDAD'])['PROP_PEQ_MAT'].mean().reset_index()\n",
    "\n",
    "PROP_PEQ_MAT.nlargest(5,'PROP_PEQ_MAT')"
   ]
  },
  {
   "cell_type": "code",
   "execution_count": 40,
   "id": "1b4d0f12",
   "metadata": {
    "slideshow": {
     "slide_type": "fragment"
    }
   },
   "outputs": [
    {
     "data": {
      "text/plain": [
       "'conclusión1: las maternidades se suelen concentrar en los profesionales de 31 a 40 años. Conclusión2: hay más proporción de maternidades entre directivas y residentas pero son más representadas las enfermeras y las facultativas por ser estos colectivos más numerosos'"
      ]
     },
     "execution_count": 40,
     "metadata": {},
     "output_type": "execute_result"
    }
   ],
   "source": [
    "'''conclusión1: las maternidades se suelen concentrar en los profesionales de 31 a 40 años. Conclusión2: hay más proporción de maternidades entre directivas y residentas pero son más representadas las enfermeras y las facultativas por ser estos colectivos más numerosos'''"
   ]
  },
  {
   "cell_type": "markdown",
   "id": "3a07eec6",
   "metadata": {
    "slideshow": {
     "slide_type": "subslide"
    }
   },
   "source": [
    "#### ¿Hay correlación entre proporción de trabajadores por categoria y maternidades?"
   ]
  },
  {
   "cell_type": "code",
   "execution_count": 41,
   "id": "d90f18d0",
   "metadata": {
    "slideshow": {
     "slide_type": "fragment"
    }
   },
   "outputs": [
    {
     "data": {
      "text/plain": [
       "'No hay correlación positiva en el personal Directivo porque la proporción de directivas en estado fertil es insignificante. Si que hay correlación positiva (0.66) en la proporción de personal Residente fertil y absentismo por maternidad. También hay una correlación positiva (0.89) entre la propoción de facultativas fértiles y maternidades y apenas hay entre la poporción de enfermeras fértiles y maternidades (0.09)'"
      ]
     },
     "execution_count": 41,
     "metadata": {},
     "output_type": "execute_result"
    },
    {
     "data": {
      "image/png": "[encoded data removed]",
      "text/plain": [
       "<Figure size 144x360 with 2 Axes>"
      ]
     },
     "metadata": {
      "needs_background": "light"
     },
     "output_type": "display_data"
    }
   ],
   "source": [
    "#Calculamos proporción maternidades medias por trabajadora por cada hospital\n",
    "PEQ_MAT=ICS.groupby('DIVISIÓ')['PEQ_MAT'].sum().reset_index()\n",
    "PEQ_HOSP=ICS.groupby('DIVISIÓ')['PEQ'].sum().reset_index()\n",
    "PROP_PEQ_MAT=pd.merge(PEQ_MAT,PEQ_HOSP,on=('DIVISIÓ'))\n",
    "PROP_PEQ_MAT['PROP_PEQ_MAT']=PROP_PEQ_MAT['PEQ_MAT']/PROP_PEQ_MAT['PEQ']\n",
    "\n",
    "\n",
    "#Calculamos proporción de trabajadoras fertiles por cada hospital\n",
    "PEQ_FERTIL=ICS[(ICS['SEXO']=='D')&(ICS['EDAD']<46)&(ICS['EDAD']>25)].groupby(['DIVISIÓ','CATEGORIA'])['PEQ'].sum().reset_index()\n",
    "PROP_PEQ_FERTIL=pd.merge(PEQ_FERTIL,PEQ_total_hosp,on='DIVISIÓ')\n",
    "PROP_PEQ_FERTIL['PROP_PEQ_FERTIL']=PROP_PEQ_FERTIL['PEQ_x']/PROP_PEQ_FERTIL['PEQ_y']\n",
    "PROP_PEQ_FERTIL=PROP_PEQ_FERTIL[['DIVISIÓ','CATEGORIA','PROP_PEQ_FERTIL']]\n",
    "PROP_PEQ_FERTIL=pd.crosstab(index=PROP_PEQ_FERTIL['DIVISIÓ'], columns=PROP_PEQ_FERTIL['CATEGORIA'], values=PROP_PEQ_FERTIL['PROP_PEQ_FERTIL'],aggfunc='sum')\n",
    "df_FERTIL=PROP_PEQ_MAT.merge(PROP_PEQ_FERTIL, on='DIVISIÓ')\n",
    "df_FERTIL=df_FERTIL.fillna(0)\n",
    "List_categorias=df_FERTIL.columns.tolist()[4:]\n",
    "#for i in List_categorias:\n",
    "#    print(df_FERTIL[[i,'PROP_PEQ_MAT']].corr(method='spearman'))\n",
    "\n",
    "plt.rcParams['figure.figsize']=(2,5)\n",
    "df = pd.DataFrame({\"Correlación_Spearman\": [df_FERTIL[i].corr(df_FERTIL['PROP_PEQ_MAT'],method='spearman') for i in List_categorias]},\n",
    "                  index=List_categorias)\n",
    "sns.heatmap(df,annot=True,center=0)\n",
    "\n",
    "'''No hay correlación positiva en el personal Directivo porque la proporción de directivas en estado fertil es insignificante. Si que hay correlación positiva (0.66) en la proporción de personal Residente fertil y absentismo por maternidad. También hay una correlación positiva (0.89) entre la propoción de facultativas fértiles y maternidades y apenas hay entre la poporción de enfermeras fértiles y maternidades (0.09)'''"
   ]
  },
  {
   "cell_type": "code",
   "execution_count": 42,
   "id": "c8eee7d3",
   "metadata": {
    "slideshow": {
     "slide_type": "fragment"
    }
   },
   "outputs": [
    {
     "data": {
      "text/html": [
       "<table class=\"simpletable\">\n",
       "<caption>OLS Regression Results</caption>\n",
       "<tr>\n",
       "  <th>Dep. Variable:</th>      <td>PROP_PEQ_MAT</td>   <th>  R-squared:         </th>  <td>   0.023</td> \n",
       "</tr>\n",
       "<tr>\n",
       "  <th>Model:</th>                   <td>OLS</td>       <th>  Adj. R-squared:    </th>  <td>   0.023</td> \n",
       "</tr>\n",
       "<tr>\n",
       "  <th>Method:</th>             <td>Least Squares</td>  <th>  F-statistic:       </th>  <td>   241.9</td> \n",
       "</tr>\n",
       "<tr>\n",
       "  <th>Date:</th>             <td>Sat, 29 Jan 2022</td> <th>  Prob (F-statistic):</th>  <td>1.49e-104</td>\n",
       "</tr>\n",
       "<tr>\n",
       "  <th>Time:</th>                 <td>09:57:59</td>     <th>  Log-Likelihood:    </th> <td>1.8657e+05</td>\n",
       "</tr>\n",
       "<tr>\n",
       "  <th>No. Observations:</th>      <td> 20122</td>      <th>  AIC:               </th> <td>-3.731e+05</td>\n",
       "</tr>\n",
       "<tr>\n",
       "  <th>Df Residuals:</th>          <td> 20119</td>      <th>  BIC:               </th> <td>-3.731e+05</td>\n",
       "</tr>\n",
       "<tr>\n",
       "  <th>Df Model:</th>              <td>     2</td>      <th>                     </th>      <td> </td>    \n",
       "</tr>\n",
       "<tr>\n",
       "  <th>Covariance Type:</th>      <td>nonrobust</td>    <th>                     </th>      <td> </td>    \n",
       "</tr>\n",
       "</table>\n",
       "<table class=\"simpletable\">\n",
       "<tr>\n",
       "      <td></td>        <th>coef</th>     <th>std err</th>      <th>t</th>      <th>P>|t|</th>  <th>[0.025</th>    <th>0.975]</th>  \n",
       "</tr>\n",
       "<tr>\n",
       "  <th>const</th>    <td> 2.612e-06</td> <td> 1.72e-07</td> <td>   15.219</td> <td> 0.000</td> <td> 2.28e-06</td> <td> 2.95e-06</td>\n",
       "</tr>\n",
       "<tr>\n",
       "  <th>PROP_FAC</th> <td>    0.0484</td> <td>    0.002</td> <td>   21.996</td> <td> 0.000</td> <td>    0.044</td> <td>    0.053</td>\n",
       "</tr>\n",
       "<tr>\n",
       "  <th>PROP_MIR</th> <td>    0.0045</td> <td>    0.004</td> <td>    1.238</td> <td> 0.216</td> <td>   -0.003</td> <td>    0.012</td>\n",
       "</tr>\n",
       "</table>\n",
       "<table class=\"simpletable\">\n",
       "<tr>\n",
       "  <th>Omnibus:</th>       <td>27154.202</td> <th>  Durbin-Watson:     </th>  <td>   1.989</td>  \n",
       "</tr>\n",
       "<tr>\n",
       "  <th>Prob(Omnibus):</th>  <td> 0.000</td>   <th>  Jarque-Bera (JB):  </th> <td>4885385.257</td>\n",
       "</tr>\n",
       "<tr>\n",
       "  <th>Skew:</th>           <td> 7.952</td>   <th>  Prob(JB):          </th>  <td>    0.00</td>  \n",
       "</tr>\n",
       "<tr>\n",
       "  <th>Kurtosis:</th>       <td>77.659</td>   <th>  Cond. No.          </th>  <td>2.28e+04</td>  \n",
       "</tr>\n",
       "</table><br/><br/>Notes:<br/>[1] Standard Errors assume that the covariance matrix of the errors is correctly specified.<br/>[2] The condition number is large, 2.28e+04. This might indicate that there are<br/>strong multicollinearity or other numerical problems."
      ],
      "text/plain": [
       "<class 'statsmodels.iolib.summary.Summary'>\n",
       "\"\"\"\n",
       "                            OLS Regression Results                            \n",
       "==============================================================================\n",
       "Dep. Variable:           PROP_PEQ_MAT   R-squared:                       0.023\n",
       "Model:                            OLS   Adj. R-squared:                  0.023\n",
       "Method:                 Least Squares   F-statistic:                     241.9\n",
       "Date:                Sat, 29 Jan 2022   Prob (F-statistic):          1.49e-104\n",
       "Time:                        09:57:59   Log-Likelihood:             1.8657e+05\n",
       "No. Observations:               20122   AIC:                        -3.731e+05\n",
       "Df Residuals:                   20119   BIC:                        -3.731e+05\n",
       "Df Model:                           2                                         \n",
       "Covariance Type:            nonrobust                                         \n",
       "==============================================================================\n",
       "                 coef    std err          t      P>|t|      [0.025      0.975]\n",
       "------------------------------------------------------------------------------\n",
       "const       2.612e-06   1.72e-07     15.219      0.000    2.28e-06    2.95e-06\n",
       "PROP_FAC       0.0484      0.002     21.996      0.000       0.044       0.053\n",
       "PROP_MIR       0.0045      0.004      1.238      0.216      -0.003       0.012\n",
       "==============================================================================\n",
       "Omnibus:                    27154.202   Durbin-Watson:                   1.989\n",
       "Prob(Omnibus):                  0.000   Jarque-Bera (JB):          4885385.257\n",
       "Skew:                           7.952   Prob(JB):                         0.00\n",
       "Kurtosis:                      77.659   Cond. No.                     2.28e+04\n",
       "==============================================================================\n",
       "\n",
       "Notes:\n",
       "[1] Standard Errors assume that the covariance matrix of the errors is correctly specified.\n",
       "[2] The condition number is large, 2.28e+04. This might indicate that there are\n",
       "strong multicollinearity or other numerical problems.\n",
       "\"\"\""
      ]
     },
     "execution_count": 42,
     "metadata": {},
     "output_type": "execute_result"
    }
   ],
   "source": [
    "#Lo comprobamos haciendo una regresión lineal multiple creando un nuevo dataset\n",
    "ICS2=ICS[(ICS['SEXO']=='D')&(ICS['EDAD']<46)&(ICS['EDAD']>25)]\n",
    "\n",
    "#PEQ_total_hosp2 = ICS2.groupby('DIVISIÓ')['PEQ'].sum().reset_index()\n",
    "#ICS2=pd.merge(ICS2,PEQ_total_hosp2,on='DIVISIÓ')\n",
    "#ICS2=ICS2.rename(columns={'PEQ_y':'PEQ_total2','PEQ_x':'PEQ'})\n",
    "\n",
    "#Añadimos las variables que hemos visto pueden influenciar:\n",
    "ICS2['PROP_PEQ_MAT']=ICS2['PEQ_MAT']/ICS2['PEQ_total']\n",
    "for i in ICS2.index:\n",
    "    if isNaN(ICS2.at[i,'PROP_PEQ_MAT']):\n",
    "        ICS2.at[i,'PROP_PEQ_MAT']=0\n",
    "    else:\n",
    "        pass\n",
    "ICS2['PROP_FAC']=ICS2[ICS2['CATEGORIA']=='Facultativos/as']['PEQ']/ICS2['PEQ_total']\n",
    "for i in ICS2.index:\n",
    "    if isNaN(ICS2.at[i,'PROP_FAC']):\n",
    "        ICS2.at[i,'PROP_FAC']=0\n",
    "    else:\n",
    "        pass\n",
    "\n",
    "ICS2['PROP_MIR']=ICS2[(ICS2['CATEGORIA']=='Residentes/as')]['PEQ']/ICS2['PEQ_total']\n",
    "for i in ICS2.index:\n",
    "    if isNaN(ICS2.at[i,'PROP_MIR']):\n",
    "        ICS2.at[i,'PROP_MIR']=0\n",
    "    else:\n",
    "        pass\n",
    "\n",
    "#Usamos el model de RL OLS:\n",
    "y=ICS2['PROP_PEQ_MAT']\n",
    "X=ICS2[['PROP_FAC','PROP_MIR']]\n",
    "X = sm.add_constant(X)\n",
    "model = sm.OLS(y, X).fit()\n",
    "model.summary()"
   ]
  },
  {
   "cell_type": "code",
   "execution_count": 43,
   "id": "daf4b7dd",
   "metadata": {
    "slideshow": {
     "slide_type": "fragment"
    }
   },
   "outputs": [
    {
     "data": {
      "text/plain": [
       "'Prob (F-statistic)=P_value<0.05 Por tanto rechazamos la Ho y podemos DECIR que hay una relación estadísticamente significativa entre las variables X y la variable y. La R2=0,023 por tanto el 2,3% de la variación de y es predicha por el modelo. '"
      ]
     },
     "execution_count": 43,
     "metadata": {},
     "output_type": "execute_result"
    }
   ],
   "source": [
    "'''Prob (F-statistic)=P_value<0.05 Por tanto rechazamos la Ho y podemos DECIR que hay una relación estadísticamente significativa entre las variables X y la variable y. La R2=0,023 por tanto el 2,3% de la variación de y es predicha por el modelo. '''"
   ]
  },
  {
   "cell_type": "markdown",
   "id": "10cb8070",
   "metadata": {
    "slideshow": {
     "slide_type": "slide"
    }
   },
   "source": [
    "## Análisis correlaciones coste medio"
   ]
  },
  {
   "cell_type": "code",
   "execution_count": 44,
   "id": "be3718ad",
   "metadata": {
    "slideshow": {
     "slide_type": "fragment"
    }
   },
   "outputs": [
    {
     "data": {
      "text/plain": [
       "'Hay coliniaridad (0,8 entre las variables \"Objetivos y Sueldo\"). Por tanto, las pondriamos fusionar en una.'"
      ]
     },
     "execution_count": 44,
     "metadata": {},
     "output_type": "execute_result"
    },
    {
     "data": {
      "image/png": "[encoded data removed]",
      "text/plain": [
       "<Figure size 720x576 with 2 Axes>"
      ]
     },
     "metadata": {
      "needs_background": "light"
     },
     "output_type": "display_data"
    }
   ],
   "source": [
    "#Buscamos colinearidad entre partidas de los salarios\n",
    "plt.rcParams['figure.figsize']=(10,8)\n",
    "sns.heatmap(ICS[['TOTAL_BRUTO','SUELDO','ANTIGÜEDAD','OBJETIVOS','PLUSES', 'HORAS EXTRAS', 'GUARDIAS', 'LIQ VAC']].corr(),annot=True,center=0)\n",
    "\n",
    "\n",
    "'''Hay coliniaridad (0,8 entre las variables \"Objetivos y Sueldo\"). Por tanto, las pondriamos fusionar en una.'''"
   ]
  },
  {
   "cell_type": "code",
   "execution_count": 45,
   "id": "6b2c5d24",
   "metadata": {
    "slideshow": {
     "slide_type": "fragment"
    }
   },
   "outputs": [
    {
     "data": {
      "text/plain": [
       "<AxesSubplot:>"
      ]
     },
     "execution_count": 45,
     "metadata": {},
     "output_type": "execute_result"
    },
    {
     "data": {
      "image/png": "[encoded data removed]",
      "text/plain": [
       "<Figure size 720x576 with 2 Axes>"
      ]
     },
     "metadata": {
      "needs_background": "light"
     },
     "output_type": "display_data"
    }
   ],
   "source": [
    "#Volvemos a mirar coliniaridades\n",
    "ICS['SUELDO_I_DPO']=ICS['SUELDO']+ICS['OBJETIVOS']\n",
    "sns.heatmap(ICS[['TOTAL_BRUTO','SUELDO_I_DPO','ANTIGÜEDAD','PLUSES', 'HORAS EXTRAS', 'GUARDIAS', 'LIQ VAC']].corr(),annot=True,center=0)"
   ]
  },
  {
   "cell_type": "code",
   "execution_count": 46,
   "id": "1a26be60",
   "metadata": {
    "slideshow": {
     "slide_type": "fragment"
    }
   },
   "outputs": [
    {
     "data": {
      "text/plain": [
       "'El componente con mayor correlacion es el sueldo y objetivos (0.97) seguido de antigüedad (0.74) y guardias (0.56).'"
      ]
     },
     "execution_count": 46,
     "metadata": {},
     "output_type": "execute_result"
    }
   ],
   "source": [
    "'''El componente con mayor correlacion es el sueldo y objetivos (0.97) seguido de antigüedad (0.74) y guardias (0.56).'''"
   ]
  },
  {
   "cell_type": "code",
   "execution_count": 47,
   "id": "40157841",
   "metadata": {
    "slideshow": {
     "slide_type": "fragment"
    }
   },
   "outputs": [
    {
     "name": "stderr",
     "output_type": "stream",
     "text": [
      "<ipython-input-47-b40d2213021e>:1: FutureWarning:\n",
      "\n",
      "Indexing with multiple keys (implicitly converted to a tuple of keys) will be deprecated, use a list instead.\n",
      "\n"
     ]
    },
    {
     "data": {
      "image/png": "[encoded data removed]",
      "text/plain": [
       "<Figure size 720x576 with 1 Axes>"
      ]
     },
     "metadata": {
      "needs_background": "light"
     },
     "output_type": "display_data"
    }
   ],
   "source": [
    "bruto_total_hosp = ICS.groupby('DIVISIÓ')['TOTAL_BRUTO','SUELDO_I_DPO','ANTIGÜEDAD','PLUSES', 'HORAS EXTRAS', 'GUARDIAS', 'LIQ VAC'].sum().reset_index()\n",
    "\n",
    "partidas=bruto_total_hosp.columns.tolist()[2:]\n",
    "for i in partidas:\n",
    "    bruto_total_hosp[i]=bruto_total_hosp[i]/bruto_total_hosp['TOTAL_BRUTO']\n",
    "\n",
    "df=bruto_total_hosp[['DIVISIÓ','SUELDO_I_DPO','ANTIGÜEDAD','PLUSES', 'HORAS EXTRAS', 'GUARDIAS', 'LIQ VAC']].plot(x='DIVISIÓ', kind='bar', stacked=True,\n",
    "        title='Stacked Bar Chart Bruto Total')\n",
    "ax = df.plot()"
   ]
  },
  {
   "cell_type": "markdown",
   "id": "e74b2b7d",
   "metadata": {
    "slideshow": {
     "slide_type": "slide"
    }
   },
   "source": [
    "### Analisis sueldo y productividad medio según categoria, responsabilidad y forma de ocupación\n"
   ]
  },
  {
   "cell_type": "markdown",
   "id": "7c31a348",
   "metadata": {
    "slideshow": {
     "slide_type": "subslide"
    }
   },
   "source": [
    "#### ¿A mayor proporción de ciertas categorias mayor sueldo_dpo medio?"
   ]
  },
  {
   "cell_type": "code",
   "execution_count": 48,
   "id": "9a74ba69",
   "metadata": {
    "slideshow": {
     "slide_type": "fragment"
    }
   },
   "outputs": [
    {
     "name": "stdout",
     "output_type": "stream",
     "text": [
      "                     df        sum_sq       mean_sq           F        PR(>F)\n",
      "C(CATEGORIA, Sum)   8.0  1.157065e+10  1.446331e+09  468.443685  1.109342e-40\n",
      "Residual           45.0  1.389385e+08  3.087523e+06         NaN           NaN\n"
     ]
    },
    {
     "data": {
      "text/plain": [
       "'Se rechaza la hipotes nula de que los trabajadores de diferente categoria tienen el mismo sueldo y DPO medio.'"
      ]
     },
     "execution_count": 48,
     "metadata": {},
     "output_type": "execute_result"
    }
   ],
   "source": [
    "#Test ANOVA inicial \n",
    "df_SMC=ICS.groupby(['DIVISIÓ','CATEGORIA']).apply(lambda x: (x['SUELDO_I_DPO'].sum()/x['PEQ'].sum()).mean()).reset_index()\n",
    "df_SMC=df_SMC.rename(columns={0:'SUELDO'})\n",
    "#df=ICS.groupby(['DIVISIÓ','CATEGORIA'])['SUELDO_I_DPO'].mean().reset_index()\n",
    "y=df_SMC['SUELDO']\n",
    "X=df_SMC['CATEGORIA']\n",
    "sueldo_cat = ols('SUELDO ~ C(CATEGORIA, Sum)',data=df_SMC).fit()\n",
    "tanaova1 = sm.stats.anova_lm(sueldo_cat, typ=1)\n",
    "print(tanaova1)\n",
    "'''Se rechaza la hipotes nula de que los trabajadores de diferente categoria tienen el mismo sueldo y DPO medio.'''"
   ]
  },
  {
   "cell_type": "code",
   "execution_count": 49,
   "id": "5b260edc",
   "metadata": {
    "slideshow": {
     "slide_type": "fragment"
    }
   },
   "outputs": [
    {
     "data": {
      "text/plain": [
       "'Visualmente vemos que las categorias con sueldo medio más alto son la de Directivos/as y Facultativos/as'"
      ]
     },
     "execution_count": 49,
     "metadata": {},
     "output_type": "execute_result"
    },
    {
     "data": {
      "image/png": "[encoded data removed]",
      "text/plain": [
       "<Figure size 720x576 with 1 Axes>"
      ]
     },
     "metadata": {
      "needs_background": "light"
     },
     "output_type": "display_data"
    }
   ],
   "source": [
    "#Exploración por categoria\n",
    "df_SMC=ICS.groupby(['CATEGORIA']).apply(lambda x: (x['SUELDO_I_DPO'].sum()/x['PEQ'].sum()).mean()).reset_index()\n",
    "df_SMC=df_SMC.rename(columns={0:'SUELDO-DPO_MEDIO'})\n",
    "sns.barplot(x='CATEGORIA',y='SUELDO-DPO_MEDIO',data=df_SMC)\n",
    "plt.xticks(rotation=45)\n",
    "'''Visualmente vemos que las categorias con sueldo medio más alto son la de Directivos/as y Facultativos/as'''"
   ]
  },
  {
   "cell_type": "code",
   "execution_count": 50,
   "id": "b21f8db4",
   "metadata": {
    "slideshow": {
     "slide_type": "fragment"
    }
   },
   "outputs": [
    {
     "data": {
      "text/plain": [
       "'La correlación mayor se da en el colectivo de enfermeria y facultativos (0.89 y 0.77) porque tienen un mayor peso en el total de la plantilla. La correlación del colectivo directivo es positiva pero muy baja porque su peso en el total es muy pequeño.'"
      ]
     },
     "execution_count": 50,
     "metadata": {},
     "output_type": "execute_result"
    },
    {
     "data": {
      "image/png": "[encoded data removed]",
      "text/plain": [
       "<Figure size 144x360 with 2 Axes>"
      ]
     },
     "metadata": {
      "needs_background": "light"
     },
     "output_type": "display_data"
    }
   ],
   "source": [
    "#Calculamos el sueldo-dpo medio por hospital\n",
    "SUELDO_MEDIO_HOSP=ICS.groupby(['DIVISIÓ']).apply(lambda x: (x['SUELDO_I_DPO'].sum()/x['PEQ'].sum()).mean()).reset_index()\n",
    "SUELDO_MEDIO_HOSP=SUELDO_MEDIO_HOSP.rename(columns={0:'SUELDO-DPO_MEDIO'})\n",
    "#Hacemos la correlación\n",
    "PEQ_CATEG=ICS.groupby(['DIVISIÓ','CATEGORIA'])['PEQ'].sum().reset_index()\n",
    "PROP_PEQ_CATEG=pd.merge(PEQ_CATEG,PEQ_total_hosp,on='DIVISIÓ')\n",
    "PROP_PEQ_CATEG['PROP_PEQ_CATEG']=PROP_PEQ_CATEG['PEQ_x']/PROP_PEQ_CATEG['PEQ_y']\n",
    "PROP_PEQ_CATEG=PROP_PEQ_CATEG[['DIVISIÓ','CATEGORIA','PROP_PEQ_CATEG']]\n",
    "PROP_PEQ_CATEG=pd.crosstab(index=PROP_PEQ_CATEG['DIVISIÓ'], columns=PROP_PEQ_CATEG['CATEGORIA'], values=PROP_PEQ_CATEG['PROP_PEQ_CATEG'],aggfunc='sum')\n",
    "df=SUELDO_MEDIO_HOSP.merge(PROP_PEQ_CATEG, on='DIVISIÓ')\n",
    "List_categorias=df.columns.tolist()[2:]\n",
    "#List_categorias.append('SUELDO-DPO_MEDIO')\n",
    "#ns.heatmap(df[List_categorias].corr(method='spearman'),annot=True,center=0)\n",
    "plt.rcParams['figure.figsize']=(2,5)\n",
    "df1 = pd.DataFrame({\"Correlación_Spearman\": [df[i].corr(df['SUELDO-DPO_MEDIO'],method='spearman') for i in List_categorias]},\n",
    "                  index=List_categorias)\n",
    "sns.heatmap(df1,annot=True,fmt=\"g\",center=0)\n",
    "\n",
    "#for i in List_categorias:\n",
    "#    print(df[[i,'SUELDO-DPO_MEDIO']].corr(method='spearman'))\n",
    "'''La correlación mayor se da en el colectivo de enfermeria y facultativos (0.89 y 0.77) porque tienen un mayor peso en el total de la plantilla. La correlación del colectivo directivo es positiva pero muy baja porque su peso en el total es muy pequeño.'''"
   ]
  },
  {
   "cell_type": "markdown",
   "id": "29333e40",
   "metadata": {
    "slideshow": {
     "slide_type": "subslide"
    }
   },
   "source": [
    "#### ¿A mayor proporción de profesionales en puesto de responsabilidad mayor sueldo_dpo medio?"
   ]
  },
  {
   "cell_type": "code",
   "execution_count": 51,
   "id": "b080622d",
   "metadata": {
    "slideshow": {
     "slide_type": "fragment"
    }
   },
   "outputs": [
    {
     "name": "stdout",
     "output_type": "stream",
     "text": [
      "                           df        sum_sq       mean_sq           F  \\\n",
      "C(RESPONSABILIDAD, Sum)   1.0  2.157502e+09  2.157502e+09  652.663574   \n",
      "Residual                 10.0  3.305687e+07  3.305687e+06         NaN   \n",
      "\n",
      "                               PR(>F)  \n",
      "C(RESPONSABILIDAD, Sum)  1.938134e-10  \n",
      "Residual                          NaN  \n"
     ]
    },
    {
     "data": {
      "text/plain": [
       "'Se rechaza la hipotes nula de que los trabajadores independientemente de la responsabilidad tienen la el mismo sueldo y DPO medio.'"
      ]
     },
     "execution_count": 51,
     "metadata": {},
     "output_type": "execute_result"
    }
   ],
   "source": [
    "#Test ANOVA inicial \n",
    "df=ICS.groupby(['DIVISIÓ','RESPONSABILIDAD']).apply(lambda x: (x['SUELDO_I_DPO'].sum()/x['PEQ'].sum()).mean()).reset_index()\n",
    "df=df.rename(columns={0:'SUELDO_I_DPO'})\n",
    "y=df['SUELDO_I_DPO']\n",
    "X=df['RESPONSABILIDAD']\n",
    "sueldo_resp = ols('SUELDO_I_DPO ~ C(RESPONSABILIDAD, Sum)',data=df).fit()\n",
    "tanaova1 = sm.stats.anova_lm(sueldo_resp, typ=1)\n",
    "print(tanaova1)\n",
    "'''Se rechaza la hipotes nula de que los trabajadores independientemente de la responsabilidad tienen la el mismo sueldo y DPO medio.'''"
   ]
  },
  {
   "cell_type": "code",
   "execution_count": 52,
   "id": "8444dd42",
   "metadata": {
    "slideshow": {
     "slide_type": "fragment"
    }
   },
   "outputs": [
    {
     "data": {
      "text/plain": [
       "'Hay correlación positiva de 0.26 entre proporción de trabajadores con responsabilidad y SUELDO MEDIO-DPO'"
      ]
     },
     "execution_count": 52,
     "metadata": {},
     "output_type": "execute_result"
    },
    {
     "data": {
      "image/png": "[encoded data removed]",
      "text/plain": [
       "<Figure size 144x360 with 2 Axes>"
      ]
     },
     "metadata": {
      "needs_background": "light"
     },
     "output_type": "display_data"
    }
   ],
   "source": [
    "df=ICS.groupby(['DIVISIÓ','RESPONSABILIDAD'])['PEQ'].sum().reset_index()\n",
    "df1=pd.merge(df,PEQ_total_hosp,on='DIVISIÓ')\n",
    "df1['PROP_PEQ']=df1['PEQ_x']/df1['PEQ_y']\n",
    "df1=df1[['DIVISIÓ','RESPONSABILIDAD','PROP_PEQ']]\n",
    "df1=pd.crosstab(index=df1['DIVISIÓ'], columns=df1['RESPONSABILIDAD'], values=df1['PROP_PEQ'],aggfunc='sum')\n",
    "df2=SUELDO_MEDIO_HOSP.merge(df1, on='DIVISIÓ')\n",
    "df2=df2.rename(columns={0:'Sin_responsabilidad',1:'Con_responsabilidad'})\n",
    "#sns.heatmap(df2[['Con_responsabilidad','Sin_responsabilidad','SUELDO-DPO_MEDIO']].corr(method='spearman'),annot=True,center=0)\n",
    "\n",
    "df3 = pd.DataFrame({\"Correlación_Spearman\": [df2[i].corr(df2['SUELDO-DPO_MEDIO'],method='spearman') for i in ['Sin_responsabilidad','Con_responsabilidad']]},\n",
    "                  index=['Sin_responsabilidad','Con_responsabilidad'])\n",
    "sns.heatmap(df3,annot=True,center=0)\n",
    "#for i in [0,1]:\n",
    "#    print(df2[[i,'SUELDO_MEDIO']].corr(method='spearman'))\n",
    "'''Hay correlación positiva de 0.26 entre proporción de trabajadores con responsabilidad y SUELDO MEDIO-DPO'''"
   ]
  },
  {
   "cell_type": "markdown",
   "id": "e5700155",
   "metadata": {
    "slideshow": {
     "slide_type": "subslide"
    }
   },
   "source": [
    "#### ¿El tipo de ocupación del professional influye en el sueldo_dpo medio?"
   ]
  },
  {
   "cell_type": "code",
   "execution_count": 53,
   "id": "62ea0b81",
   "metadata": {
    "slideshow": {
     "slide_type": "fragment"
    }
   },
   "outputs": [
    {
     "name": "stdout",
     "output_type": "stream",
     "text": [
      "                     df        sum_sq       mean_sq           F        PR(>F)\n",
      "C(OCUPACION, Sum)   1.0  4.185052e+08  4.185052e+08  618.961106  2.516974e-10\n",
      "Residual           10.0  6.761413e+06  6.761413e+05         NaN           NaN\n"
     ]
    },
    {
     "data": {
      "text/plain": [
       "'Se rechaza la hipotes nula de que los trabajadores independientemente de la forma de ocupación tienen la el mismo sueldo y DPO medio.'"
      ]
     },
     "execution_count": 53,
     "metadata": {},
     "output_type": "execute_result"
    }
   ],
   "source": [
    "df=ICS.replace('SUBSTITUCION', 'TEMPORAL').groupby(['DIVISIÓ','OCUPACION']).apply(lambda x: (x['SUELDO_I_DPO'].sum()/x['PEQ'].sum()).mean()).reset_index()\n",
    "df=df.rename(columns={0:'SUELDO_I_DPO'})\n",
    "#df=ICS.groupby(['DIVISIÓ','RESPONSABILIDAD'])['SUELDO_I_DPO'].sum().reset_index()\n",
    "y=df['SUELDO_I_DPO']\n",
    "X=df['OCUPACION']\n",
    "sueldo_fo = ols('SUELDO_I_DPO ~ C(OCUPACION, Sum)',data=df).fit()\n",
    "tanaova1 = sm.stats.anova_lm(sueldo_fo, typ=1)\n",
    "print(tanaova1)\n",
    "'''Se rechaza la hipotes nula de que los trabajadores independientemente de la forma de ocupación tienen la el mismo sueldo y DPO medio.'''"
   ]
  },
  {
   "cell_type": "code",
   "execution_count": 54,
   "id": "0be8a394",
   "metadata": {
    "slideshow": {
     "slide_type": "fragment"
    }
   },
   "outputs": [
    {
     "data": {
      "text/plain": [
       "'Hay correlación positiva de 0.71 entre proporción de trabajadores fijos y SUELDO MEDIO-DPO'"
      ]
     },
     "execution_count": 54,
     "metadata": {},
     "output_type": "execute_result"
    },
    {
     "data": {
      "image/png": "[encoded data removed]",
      "text/plain": [
       "<Figure size 144x360 with 2 Axes>"
      ]
     },
     "metadata": {
      "needs_background": "light"
     },
     "output_type": "display_data"
    }
   ],
   "source": [
    "PEQ_FO=ICS.groupby(['DIVISIÓ','OCUPACION'])['PEQ'].sum().reset_index()\n",
    "PROP_PEQ_FO=pd.merge(PEQ_FO,PEQ_total_hosp,on='DIVISIÓ')\n",
    "PROP_PEQ_FO['PROP_PEQ_FO']=PROP_PEQ_FO['PEQ_x']/PROP_PEQ_FO['PEQ_y']\n",
    "PROP_PEQ_FO=PROP_PEQ_FO[['DIVISIÓ','OCUPACION','PROP_PEQ_FO']]\n",
    "PROP_PEQ_FO=pd.crosstab(index=PROP_PEQ_FO['DIVISIÓ'], columns=PROP_PEQ_FO['OCUPACION'], values=PROP_PEQ_FO['PROP_PEQ_FO'],aggfunc='sum')\n",
    "df2=SUELDO_MEDIO_HOSP.merge(PROP_PEQ_FO, on='DIVISIÓ')\n",
    "df2['TOTAL_TEMPORAL']=df2['SUBSTITUCION']+df2['TEMPORAL']\n",
    "\n",
    "df3 = pd.DataFrame({\"Correlación_Spearman\": [df2[i].corr(df2['SUELDO-DPO_MEDIO'],method='spearman') for i in ['FIJO','TOTAL_TEMPORAL']]},\n",
    "                  index=['FIJO','TOTAL_TEMPORAL'])\n",
    "sns.heatmap(df3,annot=True)\n",
    "\n",
    "#sns.heatmap(df2[['FIJO','TOTAL_TEMPORAL','SUELDO-DPO_MEDIO']].corr(method='spearman'),annot=True,center=0)\n",
    "#for i in ['FIJO','TOTAL_TEMPORAL']:\n",
    "#    print(df2[[i,'DPO_MEDIO']].corr(method='spearman'))\n",
    "'''Hay correlación positiva de 0.71 entre proporción de trabajadores fijos y SUELDO MEDIO-DPO'''"
   ]
  },
  {
   "cell_type": "code",
   "execution_count": 55,
   "id": "10e88b0d",
   "metadata": {
    "slideshow": {
     "slide_type": "fragment"
    }
   },
   "outputs": [
    {
     "data": {
      "text/plain": [
       "'Conclusión: a mayor proporción de trabajadores con responsabilidad, mayor proporcion de enfermeras y facultativos y mayor proporción de trabajadores fijos el coste medio por sueldo y productividad total sera mayor.'"
      ]
     },
     "execution_count": 55,
     "metadata": {},
     "output_type": "execute_result"
    }
   ],
   "source": [
    "'''Conclusión: a mayor proporción de trabajadores con responsabilidad, mayor proporcion de enfermeras y facultativos y mayor proporción de trabajadores fijos el coste medio por sueldo y productividad total sera mayor.'''"
   ]
  },
  {
   "cell_type": "code",
   "execution_count": 56,
   "id": "b8451e9f",
   "metadata": {
    "slideshow": {
     "slide_type": "fragment"
    }
   },
   "outputs": [
    {
     "data": {
      "text/html": [
       "<table class=\"simpletable\">\n",
       "<caption>OLS Regression Results</caption>\n",
       "<tr>\n",
       "  <th>Dep. Variable:</th>      <td>SUELDO_I_DPO</td>   <th>  R-squared:         </th>  <td>   0.517</td>  \n",
       "</tr>\n",
       "<tr>\n",
       "  <th>Model:</th>                   <td>OLS</td>       <th>  Adj. R-squared:    </th>  <td>   0.517</td>  \n",
       "</tr>\n",
       "<tr>\n",
       "  <th>Method:</th>             <td>Least Squares</td>  <th>  F-statistic:       </th>  <td>2.113e+04</td> \n",
       "</tr>\n",
       "<tr>\n",
       "  <th>Date:</th>             <td>Sat, 29 Jan 2022</td> <th>  Prob (F-statistic):</th>   <td>  0.00</td>   \n",
       "</tr>\n",
       "<tr>\n",
       "  <th>Time:</th>                 <td>09:58:07</td>     <th>  Log-Likelihood:    </th> <td>-6.3306e+05</td>\n",
       "</tr>\n",
       "<tr>\n",
       "  <th>No. Observations:</th>      <td> 59338</td>      <th>  AIC:               </th>  <td>1.266e+06</td> \n",
       "</tr>\n",
       "<tr>\n",
       "  <th>Df Residuals:</th>          <td> 59334</td>      <th>  BIC:               </th>  <td>1.266e+06</td> \n",
       "</tr>\n",
       "<tr>\n",
       "  <th>Df Model:</th>              <td>     3</td>      <th>                     </th>      <td> </td>     \n",
       "</tr>\n",
       "<tr>\n",
       "  <th>Covariance Type:</th>      <td>nonrobust</td>    <th>                     </th>      <td> </td>     \n",
       "</tr>\n",
       "</table>\n",
       "<table class=\"simpletable\">\n",
       "<tr>\n",
       "      <td></td>         <th>coef</th>     <th>std err</th>      <th>t</th>      <th>P>|t|</th>  <th>[0.025</th>    <th>0.975]</th>  \n",
       "</tr>\n",
       "<tr>\n",
       "  <th>const</th>     <td> 7706.0985</td> <td>   47.508</td> <td>  162.208</td> <td> 0.000</td> <td> 7612.983</td> <td> 7799.214</td>\n",
       "</tr>\n",
       "<tr>\n",
       "  <th>PROP_RESP</th> <td> 6.371e+07</td> <td>  1.2e+06</td> <td>   53.022</td> <td> 0.000</td> <td> 6.14e+07</td> <td> 6.61e+07</td>\n",
       "</tr>\n",
       "<tr>\n",
       "  <th>PROP_FIJO</th> <td> 3.816e+07</td> <td> 5.43e+05</td> <td>   70.277</td> <td> 0.000</td> <td> 3.71e+07</td> <td> 3.92e+07</td>\n",
       "</tr>\n",
       "<tr>\n",
       "  <th>PROP_ASS</th>  <td> 7.189e+07</td> <td> 4.44e+05</td> <td>  161.856</td> <td> 0.000</td> <td>  7.1e+07</td> <td> 7.28e+07</td>\n",
       "</tr>\n",
       "</table>\n",
       "<table class=\"simpletable\">\n",
       "<tr>\n",
       "  <th>Omnibus:</th>       <td>13840.772</td> <th>  Durbin-Watson:     </th> <td>   1.032</td> \n",
       "</tr>\n",
       "<tr>\n",
       "  <th>Prob(Omnibus):</th>  <td> 0.000</td>   <th>  Jarque-Bera (JB):  </th> <td>40821.466</td>\n",
       "</tr>\n",
       "<tr>\n",
       "  <th>Skew:</th>           <td> 1.216</td>   <th>  Prob(JB):          </th> <td>    0.00</td> \n",
       "</tr>\n",
       "<tr>\n",
       "  <th>Kurtosis:</th>       <td> 6.254</td>   <th>  Cond. No.          </th> <td>2.84e+04</td> \n",
       "</tr>\n",
       "</table><br/><br/>Notes:<br/>[1] Standard Errors assume that the covariance matrix of the errors is correctly specified.<br/>[2] The condition number is large, 2.84e+04. This might indicate that there are<br/>strong multicollinearity or other numerical problems."
      ],
      "text/plain": [
       "<class 'statsmodels.iolib.summary.Summary'>\n",
       "\"\"\"\n",
       "                            OLS Regression Results                            \n",
       "==============================================================================\n",
       "Dep. Variable:           SUELDO_I_DPO   R-squared:                       0.517\n",
       "Model:                            OLS   Adj. R-squared:                  0.517\n",
       "Method:                 Least Squares   F-statistic:                 2.113e+04\n",
       "Date:                Sat, 29 Jan 2022   Prob (F-statistic):               0.00\n",
       "Time:                        09:58:07   Log-Likelihood:            -6.3306e+05\n",
       "No. Observations:               59338   AIC:                         1.266e+06\n",
       "Df Residuals:                   59334   BIC:                         1.266e+06\n",
       "Df Model:                           3                                         \n",
       "Covariance Type:            nonrobust                                         \n",
       "==============================================================================\n",
       "                 coef    std err          t      P>|t|      [0.025      0.975]\n",
       "------------------------------------------------------------------------------\n",
       "const       7706.0985     47.508    162.208      0.000    7612.983    7799.214\n",
       "PROP_RESP   6.371e+07    1.2e+06     53.022      0.000    6.14e+07    6.61e+07\n",
       "PROP_FIJO   3.816e+07   5.43e+05     70.277      0.000    3.71e+07    3.92e+07\n",
       "PROP_ASS    7.189e+07   4.44e+05    161.856      0.000     7.1e+07    7.28e+07\n",
       "==============================================================================\n",
       "Omnibus:                    13840.772   Durbin-Watson:                   1.032\n",
       "Prob(Omnibus):                  0.000   Jarque-Bera (JB):            40821.466\n",
       "Skew:                           1.216   Prob(JB):                         0.00\n",
       "Kurtosis:                       6.254   Cond. No.                     2.84e+04\n",
       "==============================================================================\n",
       "\n",
       "Notes:\n",
       "[1] Standard Errors assume that the covariance matrix of the errors is correctly specified.\n",
       "[2] The condition number is large, 2.84e+04. This might indicate that there are\n",
       "strong multicollinearity or other numerical problems.\n",
       "\"\"\""
      ]
     },
     "execution_count": 56,
     "metadata": {},
     "output_type": "execute_result"
    }
   ],
   "source": [
    "#Lo comprobamos haciendo una regresión lineal multiple\n",
    "\n",
    "#Añadimos las variables que hemos visto pueden influenciar:\n",
    "ICS['PROP_RESP']=ICS[ICS['RESPONSABILIDAD']==1]['PEQ']/ICS['PEQ_total']\n",
    "for i in ICS.index:\n",
    "    if isNaN(ICS.at[i,'PROP_RESP']):\n",
    "        ICS.at[i,'PROP_RESP']=0\n",
    "    else:\n",
    "        pass\n",
    "ICS['PROP_FIJO']=ICS[ICS['OCUPACION']=='FIJO']['PEQ']/ICS['PEQ_total']\n",
    "for i in ICS.index:\n",
    "    if isNaN(ICS.at[i,'PROP_FIJO']):\n",
    "        ICS.at[i,'PROP_FIJO']=0\n",
    "    else:\n",
    "        pass\n",
    "ICS['PROP_ASS']=ICS[(ICS['CATEGORIA']=='Facultativos/as')|(ICS['CATEGORIA']=='Enfermeras/os')]['PEQ']/ICS['PEQ_total']\n",
    "for i in ICS.index:\n",
    "    if isNaN(ICS.at[i,'PROP_ASS']):\n",
    "        ICS.at[i,'PROP_ASS']=0\n",
    "    else:\n",
    "        pass\n",
    "                                                        \n",
    "\n",
    "#Usamos el model de RL OLS:\n",
    "y=ICS['SUELDO_I_DPO']\n",
    "X=ICS[['PROP_RESP','PROP_FIJO','PROP_ASS']]\n",
    "X = sm.add_constant(X)\n",
    "model = sm.OLS(y, X).fit()\n",
    "model.summary()\n"
   ]
  },
  {
   "cell_type": "code",
   "execution_count": 57,
   "id": "5ff0bf30",
   "metadata": {
    "slideshow": {
     "slide_type": "fragment"
    }
   },
   "outputs": [
    {
     "data": {
      "text/plain": [
       "'Prob (F-statistic)=P_value<0.05 Por tanto rechazamos la Ho y podemos DECIR que hay una relación estadísticamente significativa entre la variables X y la variable y. La R2=0,517 por tanto el 51,7% de la variación de y es predicha por el modelo. '"
      ]
     },
     "execution_count": 57,
     "metadata": {},
     "output_type": "execute_result"
    }
   ],
   "source": [
    "'''Prob (F-statistic)=P_value<0.05 Por tanto rechazamos la Ho y podemos DECIR que hay una relación estadísticamente significativa entre la variables X y la variable y. La R2=0,517 por tanto el 51,7% de la variación de y es predicha por el modelo. '''"
   ]
  },
  {
   "cell_type": "markdown",
   "id": "7282f268",
   "metadata": {
    "slideshow": {
     "slide_type": "slide"
    }
   },
   "source": [
    "### Analisis coste antiguedad medio según edad"
   ]
  },
  {
   "cell_type": "code",
   "execution_count": 58,
   "id": "b98f43c9",
   "metadata": {
    "slideshow": {
     "slide_type": "fragment"
    }
   },
   "outputs": [
    {
     "name": "stdout",
     "output_type": "stream",
     "text": [
      "                         df        sum_sq       mean_sq            F  PR(>F)\n",
      "C(RANGO_EDAD, Sum)     11.0  2.532493e+11  2.302266e+10  3289.402759     0.0\n",
      "Residual            59326.0  4.152250e+11  6.999040e+06          NaN     NaN\n"
     ]
    },
    {
     "data": {
      "text/plain": [
       "'Se rechaza la hipotesis nula de que los trabajadores de diferente rango de edad tienen la misma antiguedad'"
      ]
     },
     "execution_count": 58,
     "metadata": {},
     "output_type": "execute_result"
    }
   ],
   "source": [
    "#Análisis anova\n",
    "ICS['Antiguedad_media_anual']=(ICS['ANTIGÜEDAD']/ICS['PEQ'])\n",
    "ANTIGUEDAD_MEDIA=ICS.groupby(['DIVISIÓ','RANGO_EDAD'])['Antiguedad_media_anual'].mean().reset_index()\n",
    "y=ICS['Antiguedad_media_anual']\n",
    "X=ICS['RANGO_EDAD']\n",
    "antiguedad = ols('Antiguedad_media_anual ~ C(RANGO_EDAD, Sum)',data=ICS).fit()\n",
    "tanaova1 = sm.stats.anova_lm(antiguedad, typ=1)\n",
    "print(tanaova1)\n",
    "'''Se rechaza la hipotesis nula de que los trabajadores de diferente rango de edad tienen la misma antiguedad'''"
   ]
  },
  {
   "cell_type": "code",
   "execution_count": 59,
   "id": "38f939bd",
   "metadata": {
    "slideshow": {
     "slide_type": "fragment"
    }
   },
   "outputs": [
    {
     "data": {
      "text/html": [
       "<table class=\"simpletable\">\n",
       "<caption>OLS Regression Results</caption>\n",
       "<tr>\n",
       "  <th>Dep. Variable:</th>    <td>Antiguedad_media_anual</td> <th>  R-squared:         </th> <td>   0.616</td>\n",
       "</tr>\n",
       "<tr>\n",
       "  <th>Model:</th>                      <td>OLS</td>          <th>  Adj. R-squared:    </th> <td>   0.615</td>\n",
       "</tr>\n",
       "<tr>\n",
       "  <th>Method:</th>                <td>Least Squares</td>     <th>  F-statistic:       </th> <td>   503.9</td>\n",
       "</tr>\n",
       "<tr>\n",
       "  <th>Date:</th>                <td>Sat, 29 Jan 2022</td>    <th>  Prob (F-statistic):</th> <td>3.03e-67</td>\n",
       "</tr>\n",
       "<tr>\n",
       "  <th>Time:</th>                    <td>09:58:07</td>        <th>  Log-Likelihood:    </th> <td> -2989.5</td>\n",
       "</tr>\n",
       "<tr>\n",
       "  <th>No. Observations:</th>         <td>   316</td>         <th>  AIC:               </th> <td>   5983.</td>\n",
       "</tr>\n",
       "<tr>\n",
       "  <th>Df Residuals:</th>             <td>   314</td>         <th>  BIC:               </th> <td>   5990.</td>\n",
       "</tr>\n",
       "<tr>\n",
       "  <th>Df Model:</th>                 <td>     1</td>         <th>                     </th>     <td> </td>   \n",
       "</tr>\n",
       "<tr>\n",
       "  <th>Covariance Type:</th>         <td>nonrobust</td>       <th>                     </th>     <td> </td>   \n",
       "</tr>\n",
       "</table>\n",
       "<table class=\"simpletable\">\n",
       "<tr>\n",
       "    <td></td>       <th>coef</th>     <th>std err</th>      <th>t</th>      <th>P>|t|</th>  <th>[0.025</th>    <th>0.975]</th>  \n",
       "</tr>\n",
       "<tr>\n",
       "  <th>const</th> <td>-7556.3722</td> <td>  530.530</td> <td>  -14.243</td> <td> 0.000</td> <td>-8600.216</td> <td>-6512.528</td>\n",
       "</tr>\n",
       "<tr>\n",
       "  <th>EDAD</th>  <td>  258.2776</td> <td>   11.506</td> <td>   22.448</td> <td> 0.000</td> <td>  235.640</td> <td>  280.916</td>\n",
       "</tr>\n",
       "</table>\n",
       "<table class=\"simpletable\">\n",
       "<tr>\n",
       "  <th>Omnibus:</th>       <td>173.519</td> <th>  Durbin-Watson:     </th> <td>   0.774</td> \n",
       "</tr>\n",
       "<tr>\n",
       "  <th>Prob(Omnibus):</th> <td> 0.000</td>  <th>  Jarque-Bera (JB):  </th> <td>1044.226</td> \n",
       "</tr>\n",
       "<tr>\n",
       "  <th>Skew:</th>          <td> 2.278</td>  <th>  Prob(JB):          </th> <td>1.78e-227</td>\n",
       "</tr>\n",
       "<tr>\n",
       "  <th>Kurtosis:</th>      <td>10.651</td>  <th>  Cond. No.          </th> <td>    140.</td> \n",
       "</tr>\n",
       "</table><br/><br/>Notes:<br/>[1] Standard Errors assume that the covariance matrix of the errors is correctly specified."
      ],
      "text/plain": [
       "<class 'statsmodels.iolib.summary.Summary'>\n",
       "\"\"\"\n",
       "                              OLS Regression Results                              \n",
       "==================================================================================\n",
       "Dep. Variable:     Antiguedad_media_anual   R-squared:                       0.616\n",
       "Model:                                OLS   Adj. R-squared:                  0.615\n",
       "Method:                     Least Squares   F-statistic:                     503.9\n",
       "Date:                    Sat, 29 Jan 2022   Prob (F-statistic):           3.03e-67\n",
       "Time:                            09:58:07   Log-Likelihood:                -2989.5\n",
       "No. Observations:                     316   AIC:                             5983.\n",
       "Df Residuals:                         314   BIC:                             5990.\n",
       "Df Model:                               1                                         \n",
       "Covariance Type:                nonrobust                                         \n",
       "==============================================================================\n",
       "                 coef    std err          t      P>|t|      [0.025      0.975]\n",
       "------------------------------------------------------------------------------\n",
       "const      -7556.3722    530.530    -14.243      0.000   -8600.216   -6512.528\n",
       "EDAD         258.2776     11.506     22.448      0.000     235.640     280.916\n",
       "==============================================================================\n",
       "Omnibus:                      173.519   Durbin-Watson:                   0.774\n",
       "Prob(Omnibus):                  0.000   Jarque-Bera (JB):             1044.226\n",
       "Skew:                           2.278   Prob(JB):                    1.78e-227\n",
       "Kurtosis:                      10.651   Cond. No.                         140.\n",
       "==============================================================================\n",
       "\n",
       "Notes:\n",
       "[1] Standard Errors assume that the covariance matrix of the errors is correctly specified.\n",
       "\"\"\""
      ]
     },
     "execution_count": 59,
     "metadata": {},
     "output_type": "execute_result"
    }
   ],
   "source": [
    "#Lo comprobamos haciendo una regresión lineal\n",
    "ANTIGUEDAD=ICS.groupby(['DIVISIÓ','EDAD'])['Antiguedad_media_anual'].mean().reset_index()\n",
    "#Si eliminams outliers el resultado cambia:\n",
    "#PROP_IT=PROP_IT[(PROP_IT['DIVISIÓ']!=\"H1\")&(PROP_IT['DIVISIÓ']!=\"H4\")]\n",
    "y=ANTIGUEDAD['Antiguedad_media_anual']\n",
    "X=ANTIGUEDAD['EDAD']\n",
    "X = sm.add_constant(X)\n",
    "model = sm.OLS(y, X).fit()\n",
    "model.summary()\n"
   ]
  },
  {
   "cell_type": "code",
   "execution_count": 60,
   "id": "1e40fe79",
   "metadata": {
    "slideshow": {
     "slide_type": "fragment"
    }
   },
   "outputs": [
    {
     "data": {
      "text/plain": [
       "'Prob (F-statistic)=P_value<0.05 Por tanto rechazamos la Ho y podemos decir que hay una relación estadísticamente significativa entre las variables edad y la variable antiguedad_media_anual. La R2=0,616 por tanto el 61,6% de la variación de y es predicha por el modelo.'"
      ]
     },
     "execution_count": 60,
     "metadata": {},
     "output_type": "execute_result"
    }
   ],
   "source": [
    "'''Prob (F-statistic)=P_value<0.05 Por tanto rechazamos la Ho y podemos decir que hay una relación estadísticamente significativa entre las variables edad y la variable antiguedad_media_anual. La R2=0,616 por tanto el 61,6% de la variación de y es predicha por el modelo.'''"
   ]
  },
  {
   "cell_type": "markdown",
   "id": "1da09729",
   "metadata": {
    "slideshow": {
     "slide_type": "slide"
    }
   },
   "source": [
    "### Análisis coste guardias"
   ]
  },
  {
   "cell_type": "markdown",
   "id": "0f2f122f",
   "metadata": {
    "slideshow": {
     "slide_type": "subslide"
    }
   },
   "source": [
    "#### ¿Cuanto más horas más coste de guardias?"
   ]
  },
  {
   "cell_type": "code",
   "execution_count": 61,
   "id": "c1c116a4",
   "metadata": {
    "slideshow": {
     "slide_type": "fragment"
    }
   },
   "outputs": [
    {
     "data": {
      "text/plain": [
       "'Vemos que existe una correlación positiva muy elevada entre las guardias promedio por trabajador y la retribución de guardias promedio por trabajador (0.94)'"
      ]
     },
     "execution_count": 61,
     "metadata": {},
     "output_type": "execute_result"
    },
    {
     "data": {
      "image/png": "[encoded data removed]",
      "text/plain": [
       "<Figure size 720x576 with 1 Axes>"
      ]
     },
     "metadata": {
      "needs_background": "light"
     },
     "output_type": "display_data"
    }
   ],
   "source": [
    "plt.rcParams['figure.figsize']=(10,8)\n",
    "GUARDIAS_HOSP=ICS.groupby(['DIVISIÓ']).apply(lambda x: (x['GUARDIAS'].sum()/x['PEQ_total']).mean()).reset_index()\n",
    "GUARDIAS_HOSP=GUARDIAS_HOSP.rename(columns={0:'COSTE_GUARDIAS_MEDIO'})\n",
    "\n",
    "N_GUA_MEDIO=ICS.groupby(['DIVISIÓ']).apply(lambda x: (x['HORAS_GUA'].sum()/x['PEQ_total']).mean()).reset_index()\n",
    "N_GUA_MEDIO=N_GUA_MEDIO.rename(columns={0:'N_GUA_MEDIO'})\n",
    "\n",
    "df_GUARDIAS=GUARDIAS_HOSP.merge(N_GUA_MEDIO, on='DIVISIÓ')\n",
    "\n",
    "sns.scatterplot(data=df_GUARDIAS, x=\"N_GUA_MEDIO\", y=\"COSTE_GUARDIAS_MEDIO\",hue='DIVISIÓ')\n",
    "df_GUARDIAS[['N_GUA_MEDIO','COSTE_GUARDIAS_MEDIO']].corr(method='spearman')\n",
    "'''Vemos que existe una correlación positiva muy elevada entre las guardias promedio por trabajador y la retribución de guardias promedio por trabajador (0.94)'''"
   ]
  },
  {
   "cell_type": "markdown",
   "id": "a0aff38b",
   "metadata": {
    "slideshow": {
     "slide_type": "subslide"
    }
   },
   "source": [
    "#### ¿Determinadas especialidades concentran un mayor número de guardias?"
   ]
  },
  {
   "cell_type": "code",
   "execution_count": 62,
   "id": "d9edfb21",
   "metadata": {
    "slideshow": {
     "slide_type": "fragment"
    }
   },
   "outputs": [
    {
     "name": "stdout",
     "output_type": "stream",
     "text": [
      "                              df       sum_sq    mean_sq          F  \\\n",
      "C(DESC_ESPECIALITAT, Sum)   53.0  4320.455604  81.518030  21.581682   \n",
      "Residual                   211.0   796.986291   3.777186        NaN   \n",
      "\n",
      "                                 PR(>F)  \n",
      "C(DESC_ESPECIALITAT, Sum)  8.482112e-61  \n",
      "Residual                            NaN  \n"
     ]
    },
    {
     "data": {
      "text/plain": [
       "'Se rechaza la hipotesis nula de que las especialidades tienen el mismo promedio de guardias'"
      ]
     },
     "execution_count": 62,
     "metadata": {},
     "output_type": "execute_result"
    }
   ],
   "source": [
    "#Análisis anova\n",
    "N_GUA_MEDIO=ICS.groupby(['DIVISIÓ','DESC_ESPECIALITAT']).apply(lambda x: (x['HORAS_GUA'].sum()/x['PEQ_total']).mean()).reset_index()\n",
    "N_GUA_MEDIO=N_GUA_MEDIO.rename(columns={0:'N_GUA_MEDIO'})\n",
    "N_GUA_MEDIO=N_GUA_MEDIO.loc[~(N_GUA_MEDIO==0).any(axis=1)]\n",
    "y=N_GUA_MEDIO['N_GUA_MEDIO']\n",
    "X=N_GUA_MEDIO['DESC_ESPECIALITAT']\n",
    "guardias_espec = ols('N_GUA_MEDIO ~ C(DESC_ESPECIALITAT, Sum)',data=N_GUA_MEDIO).fit()\n",
    "tanaova1 = sm.stats.anova_lm(guardias_espec, typ=1)\n",
    "print(tanaova1)\n",
    "'''Se rechaza la hipotesis nula de que las especialidades tienen el mismo promedio de guardias'''"
   ]
  },
  {
   "cell_type": "code",
   "execution_count": 63,
   "id": "a0604a27",
   "metadata": {
    "slideshow": {
     "slide_type": "fragment"
    }
   },
   "outputs": [
    {
     "data": {
      "text/html": [
       "<div>\n",
       "<style scoped>\n",
       "    .dataframe tbody tr th:only-of-type {\n",
       "        vertical-align: middle;\n",
       "    }\n",
       "\n",
       "    .dataframe tbody tr th {\n",
       "        vertical-align: top;\n",
       "    }\n",
       "\n",
       "    .dataframe thead th {\n",
       "        text-align: right;\n",
       "    }\n",
       "</style>\n",
       "<table border=\"1\" class=\"dataframe\">\n",
       "  <thead>\n",
       "    <tr style=\"text-align: right;\">\n",
       "      <th></th>\n",
       "      <th>DESC_ESPECIALITAT</th>\n",
       "      <th>N_GUA_MEDIO</th>\n",
       "    </tr>\n",
       "  </thead>\n",
       "  <tbody>\n",
       "    <tr>\n",
       "      <th>4</th>\n",
       "      <td>ANESTESIOLOGIA/REANIMACIO</td>\n",
       "      <td>133.420499</td>\n",
       "    </tr>\n",
       "    <tr>\n",
       "      <th>60</th>\n",
       "      <td>MEDICINA INTENSIVA</td>\n",
       "      <td>74.825908</td>\n",
       "    </tr>\n",
       "    <tr>\n",
       "      <th>19</th>\n",
       "      <td>CIRURGIA GRAL.I AP DIGEST.</td>\n",
       "      <td>63.784392</td>\n",
       "    </tr>\n",
       "    <tr>\n",
       "      <th>14</th>\n",
       "      <td>CARDIOLOGIA</td>\n",
       "      <td>62.030361</td>\n",
       "    </tr>\n",
       "    <tr>\n",
       "      <th>79</th>\n",
       "      <td>PEDIATR. I LES SEVES AREES</td>\n",
       "      <td>59.501981</td>\n",
       "    </tr>\n",
       "    <tr>\n",
       "      <th>61</th>\n",
       "      <td>MEDICINA INTERNA</td>\n",
       "      <td>54.141238</td>\n",
       "    </tr>\n",
       "    <tr>\n",
       "      <th>20</th>\n",
       "      <td>CIRURGIA ORTOP. I TRAUMAT</td>\n",
       "      <td>44.320813</td>\n",
       "    </tr>\n",
       "    <tr>\n",
       "      <th>94</th>\n",
       "      <td>UROLOGIA</td>\n",
       "      <td>41.192331</td>\n",
       "    </tr>\n",
       "    <tr>\n",
       "      <th>71</th>\n",
       "      <td>OBSTETRICIA I GINECOLOGIA</td>\n",
       "      <td>35.355035</td>\n",
       "    </tr>\n",
       "    <tr>\n",
       "      <th>85</th>\n",
       "      <td>RADIODIAGNOSTIC</td>\n",
       "      <td>31.613621</td>\n",
       "    </tr>\n",
       "  </tbody>\n",
       "</table>\n",
       "</div>"
      ],
      "text/plain": [
       "             DESC_ESPECIALITAT  N_GUA_MEDIO\n",
       "4    ANESTESIOLOGIA/REANIMACIO   133.420499\n",
       "60          MEDICINA INTENSIVA    74.825908\n",
       "19  CIRURGIA GRAL.I AP DIGEST.    63.784392\n",
       "14                 CARDIOLOGIA    62.030361\n",
       "79  PEDIATR. I LES SEVES AREES    59.501981\n",
       "61            MEDICINA INTERNA    54.141238\n",
       "20   CIRURGIA ORTOP. I TRAUMAT    44.320813\n",
       "94                    UROLOGIA    41.192331\n",
       "71   OBSTETRICIA I GINECOLOGIA    35.355035\n",
       "85             RADIODIAGNOSTIC    31.613621"
      ]
     },
     "execution_count": 63,
     "metadata": {},
     "output_type": "execute_result"
    }
   ],
   "source": [
    "#Busco las 10 especialidades con mayor media de guardias anuales\n",
    "N_GUA_MEDIO=ICS.groupby(['DESC_ESPECIALITAT']).apply(lambda x: (x['HORAS_GUA'].sum()/x['PEQ_total']).mean()).reset_index()\n",
    "N_GUA_MEDIO=N_GUA_MEDIO.rename(columns={0:'N_GUA_MEDIO'})\n",
    "N_GUA_MEDIO.loc[~(N_GUA_MEDIO==0).any(axis=1)]\n",
    "TOP_ESP=N_GUA_MEDIO.nlargest(10,'N_GUA_MEDIO')['DESC_ESPECIALITAT'].tolist()\n",
    "N_GUA_MEDIO.nlargest(10,'N_GUA_MEDIO')"
   ]
  },
  {
   "cell_type": "code",
   "execution_count": 64,
   "id": "f51eb85f",
   "metadata": {
    "scrolled": true,
    "slideshow": {
     "slide_type": "fragment"
    }
   },
   "outputs": [
    {
     "data": {
      "text/plain": [
       "'Vemos que hay una correlacion positiva perfecta en la especialidad de Med_intensiva (1) y hay fuerte correlación en las especialidades de Cardiologia y Cirugia Ortopédica i Trauma'"
      ]
     },
     "execution_count": 64,
     "metadata": {},
     "output_type": "execute_result"
    },
    {
     "data": {
      "image/png": "[encoded data removed]",
      "text/plain": [
       "<Figure size 144x360 with 2 Axes>"
      ]
     },
     "metadata": {
      "needs_background": "light"
     },
     "output_type": "display_data"
    }
   ],
   "source": [
    "plt.rcParams['figure.figsize']=(2,5)\n",
    "\n",
    "PEQ_ESPEC=ICS.groupby(['DIVISIÓ','DESC_ESPECIALITAT'])['PEQ'].sum().reset_index()\n",
    "PROP_PEQ_ESPEC=pd.merge(PEQ_ESPEC,PEQ_total_hosp,on='DIVISIÓ')\n",
    "PROP_PEQ_ESPEC['PROP_PEQ_ESPEC']=PROP_PEQ_ESPEC['PEQ_x']/PROP_PEQ_ESPEC['PEQ_y']\n",
    "PROP_PEQ_ESPEC=PROP_PEQ_ESPEC[['DIVISIÓ','DESC_ESPECIALITAT','PROP_PEQ_ESPEC']]\n",
    "PROP_PEQ_ESPEC=pd.crosstab(index=PROP_PEQ_ESPEC['DIVISIÓ'], columns=PROP_PEQ_ESPEC['DESC_ESPECIALITAT'], values=PROP_PEQ_ESPEC['PROP_PEQ_ESPEC'],aggfunc='sum')\n",
    "\n",
    "#PROP_PEQ_GUA=PEQ_GUA.merge(PEQ_GUA_hosp, on='DIVISIÓ')\n",
    "\n",
    "#PROP_PEQ_GUA['PROP_PEQ_GUA']=PROP_PEQ_GUA['PEQ_x']/PROP_PEQ_GUA['PEQ_y']\n",
    "#PROP_PEQ_GUA=PROP_PEQ_GUA[['DIVISIÓ','DESC_ESPECIALITAT','PROP_PEQ_GUA']]\n",
    "#PROP_PEQ_GUA=pd.crosstab(index=PROP_PEQ_GUA['DIVISIÓ'], columns=PROP_PEQ_GUA['DESC_ESPECIALITAT'], values=PROP_PEQ_GUA['PROP_PEQ_GUA'],aggfunc='sum')\n",
    "N_GUA_MEDIO=ICS.groupby(['DIVISIÓ']).apply(lambda x: (x['HORAS_GUA'].sum()/x['PEQ_total']).mean()).reset_index()\n",
    "N_GUA_MEDIO=N_GUA_MEDIO.rename(columns={0:'N_GUA_MEDIO'})\n",
    "\n",
    "df2=N_GUA_MEDIO.merge(PROP_PEQ_ESPEC, on='DIVISIÓ').fillna(0)\n",
    "#TOP_ESP.append('N_GUA_MEDIO')\n",
    "#sns.heatmap(df2[TOP_ESP].corr(method='spearman'),annot=True,center=0)\n",
    "\n",
    "df1 = pd.DataFrame({\"Correlación_Spearman\": [df2[i].corr(df2['N_GUA_MEDIO'],method='spearman') for i in TOP_ESP]},\n",
    "                  index=TOP_ESP)\n",
    "sns.heatmap(df1,annot=True,fmt=\"g\",center=0)\n",
    "#for i in TOP_ESP:\n",
    "#    print(df2[[i,'N_GUA_MEDIO']].corr(method='spearman'))\n",
    "\n",
    "'''Vemos que hay una correlacion positiva perfecta en la especialidad de Med_intensiva (1) y hay fuerte correlación en las especialidades de Cardiologia y Cirugia Ortopédica i Trauma'''"
   ]
  },
  {
   "cell_type": "markdown",
   "id": "36da736d",
   "metadata": {
    "slideshow": {
     "slide_type": "subslide"
    }
   },
   "source": [
    "#### ¿A mayor proporción de personal médico un mayor proporción de guardias?"
   ]
  },
  {
   "cell_type": "code",
   "execution_count": 65,
   "id": "5429664d",
   "metadata": {
    "slideshow": {
     "slide_type": "fragment"
    }
   },
   "outputs": [
    {
     "data": {
      "text/plain": [
       "'Hay correlación positiva fuerte entre la proporción de la pantilla de Residentes y Facultativos y el coste de guardias medio'"
      ]
     },
     "execution_count": 65,
     "metadata": {},
     "output_type": "execute_result"
    },
    {
     "data": {
      "image/png": "[encoded data removed]",
      "text/plain": [
       "<Figure size 144x360 with 2 Axes>"
      ]
     },
     "metadata": {
      "needs_background": "light"
     },
     "output_type": "display_data"
    }
   ],
   "source": [
    "PEQ_CATEG=ICS.groupby(['DIVISIÓ','CATEGORIA'])['PEQ'].sum().reset_index()\n",
    "PROP_PEQ_CATEG=pd.merge(PEQ_CATEG,PEQ_total_hosp,on='DIVISIÓ')\n",
    "PROP_PEQ_CATEG['PROP_PEQ_CATEG']=PROP_PEQ_CATEG['PEQ_x']/PROP_PEQ_CATEG['PEQ_y']\n",
    "PROP_PEQ_CATEG=PROP_PEQ_CATEG[['DIVISIÓ','CATEGORIA','PROP_PEQ_CATEG']]\n",
    "PROP_PEQ_CATEG=pd.crosstab(index=PROP_PEQ_CATEG['DIVISIÓ'], columns=PROP_PEQ_CATEG['CATEGORIA'], values=PROP_PEQ_CATEG['PROP_PEQ_CATEG'],aggfunc='sum')\n",
    "df=GUARDIAS_HOSP.merge(PROP_PEQ_CATEG, on='DIVISIÓ')\n",
    "\n",
    "plt.rcParams['figure.figsize']=(2,5)\n",
    "List_categorias=df.columns.tolist()[2:]\n",
    "\n",
    "df1 = pd.DataFrame({\"Correlación_Spearman\": [df[i].corr(df['COSTE_GUARDIAS_MEDIO'],method='spearman') for i in List_categorias]},\n",
    "                  index=List_categorias)\n",
    "sns.heatmap(df1,annot=True,fmt=\"g\",center=0)\n",
    "'''Hay correlación positiva fuerte entre la proporción de la pantilla de Residentes y Facultativos y el coste de guardias medio'''"
   ]
  },
  {
   "cell_type": "code",
   "execution_count": 66,
   "id": "890f99de",
   "metadata": {
    "scrolled": true,
    "slideshow": {
     "slide_type": "fragment"
    }
   },
   "outputs": [
    {
     "name": "stdout",
     "output_type": "stream",
     "text": [
      "  DIVISIÓ  COSTE_GUARDIAS_MEDIO  N_GUA_MEDIO\n",
      "0      H1           3655.224868   171.267609\n",
      "1      H2           4201.848052   193.221343\n",
      "2      H4           3903.156953   182.593959\n",
      "3      H5           3097.237064   146.960086\n",
      "4      H7           3920.564807   176.469026\n",
      "5      H8           2938.663941   136.504164\n"
     ]
    },
    {
     "data": {
      "image/png": "[encoded data removed]",
      "text/plain": [
       "<Figure size 720x360 with 1 Axes>"
      ]
     },
     "metadata": {
      "needs_background": "light"
     },
     "output_type": "display_data"
    }
   ],
   "source": [
    "plt.rcParams['figure.figsize']=(10,5)\n",
    "N_GUA_MEDIO=ICS.groupby(['DESC_ESPECIALITAT']).apply(lambda x: (x['HORAS_GUA'].sum()/x['PEQ_total']).mean()).reset_index()\n",
    "N_GUA_MEDIO=N_GUA_MEDIO.rename(columns={0:'N_GUA_MEDIO'})\n",
    "N_GUA_MEDIO.loc[~(N_GUA_MEDIO==0).any(axis=1)]\n",
    "TOP_ESP=N_GUA_MEDIO.nlargest(10,'N_GUA_MEDIO')['DESC_ESPECIALITAT'].tolist()\n",
    "\n",
    "TOP_ESP.append('DIVISIÓ')\n",
    "df3=df2[TOP_ESP]\n",
    "df3=df3[['DIVISIÓ','MEDICINA INTENSIVA','CIRURGIA ORTOP. I TRAUMAT','CARDIOLOGIA']]\n",
    "\n",
    "df=df3.plot(x='DIVISIÓ', kind='bar', stacked=True,\n",
    "        title='Stacked Bar Chart Bruto Total')\n",
    "ax = df.plot()\n",
    "print(df_GUARDIAS)\n"
   ]
  },
  {
   "cell_type": "code",
   "execution_count": 67,
   "id": "6889caba",
   "metadata": {
    "slideshow": {
     "slide_type": "fragment"
    }
   },
   "outputs": [
    {
     "data": {
      "text/html": [
       "<table class=\"simpletable\">\n",
       "<caption>OLS Regression Results</caption>\n",
       "<tr>\n",
       "  <th>Dep. Variable:</th>        <td>HORAS_GUA</td>    <th>  R-squared:         </th>  <td>   0.356</td>  \n",
       "</tr>\n",
       "<tr>\n",
       "  <th>Model:</th>                   <td>OLS</td>       <th>  Adj. R-squared:    </th>  <td>   0.356</td>  \n",
       "</tr>\n",
       "<tr>\n",
       "  <th>Method:</th>             <td>Least Squares</td>  <th>  F-statistic:       </th>  <td>1.639e+04</td> \n",
       "</tr>\n",
       "<tr>\n",
       "  <th>Date:</th>             <td>Sat, 29 Jan 2022</td> <th>  Prob (F-statistic):</th>   <td>  0.00</td>   \n",
       "</tr>\n",
       "<tr>\n",
       "  <th>Time:</th>                 <td>09:58:12</td>     <th>  Log-Likelihood:    </th> <td>-3.9862e+05</td>\n",
       "</tr>\n",
       "<tr>\n",
       "  <th>No. Observations:</th>      <td> 59338</td>      <th>  AIC:               </th>  <td>7.972e+05</td> \n",
       "</tr>\n",
       "<tr>\n",
       "  <th>Df Residuals:</th>          <td> 59335</td>      <th>  BIC:               </th>  <td>7.973e+05</td> \n",
       "</tr>\n",
       "<tr>\n",
       "  <th>Df Model:</th>              <td>     2</td>      <th>                     </th>      <td> </td>     \n",
       "</tr>\n",
       "<tr>\n",
       "  <th>Covariance Type:</th>      <td>nonrobust</td>    <th>                     </th>      <td> </td>     \n",
       "</tr>\n",
       "</table>\n",
       "<table class=\"simpletable\">\n",
       "<tr>\n",
       "      <td></td>        <th>coef</th>     <th>std err</th>      <th>t</th>      <th>P>|t|</th>  <th>[0.025</th>    <th>0.975]</th>  \n",
       "</tr>\n",
       "<tr>\n",
       "  <th>const</th>    <td>   19.1778</td> <td>    0.862</td> <td>   22.258</td> <td> 0.000</td> <td>   17.489</td> <td>   20.867</td>\n",
       "</tr>\n",
       "<tr>\n",
       "  <th>PROP_ESP</th> <td> 3.612e+05</td> <td> 2.93e+04</td> <td>   12.340</td> <td> 0.000</td> <td> 3.04e+05</td> <td> 4.19e+05</td>\n",
       "</tr>\n",
       "<tr>\n",
       "  <th>PROP_MED</th> <td> 1.932e+06</td> <td> 1.19e+04</td> <td>  162.824</td> <td> 0.000</td> <td> 1.91e+06</td> <td> 1.96e+06</td>\n",
       "</tr>\n",
       "</table>\n",
       "<table class=\"simpletable\">\n",
       "<tr>\n",
       "  <th>Omnibus:</th>       <td>78628.918</td> <th>  Durbin-Watson:     </th>   <td>   1.694</td>  \n",
       "</tr>\n",
       "<tr>\n",
       "  <th>Prob(Omnibus):</th>  <td> 0.000</td>   <th>  Jarque-Bera (JB):  </th> <td>36496546.556</td>\n",
       "</tr>\n",
       "<tr>\n",
       "  <th>Skew:</th>           <td> 7.237</td>   <th>  Prob(JB):          </th>   <td>    0.00</td>  \n",
       "</tr>\n",
       "<tr>\n",
       "  <th>Kurtosis:</th>       <td>123.632</td>  <th>  Cond. No.          </th>   <td>3.61e+04</td>  \n",
       "</tr>\n",
       "</table><br/><br/>Notes:<br/>[1] Standard Errors assume that the covariance matrix of the errors is correctly specified.<br/>[2] The condition number is large, 3.61e+04. This might indicate that there are<br/>strong multicollinearity or other numerical problems."
      ],
      "text/plain": [
       "<class 'statsmodels.iolib.summary.Summary'>\n",
       "\"\"\"\n",
       "                            OLS Regression Results                            \n",
       "==============================================================================\n",
       "Dep. Variable:              HORAS_GUA   R-squared:                       0.356\n",
       "Model:                            OLS   Adj. R-squared:                  0.356\n",
       "Method:                 Least Squares   F-statistic:                 1.639e+04\n",
       "Date:                Sat, 29 Jan 2022   Prob (F-statistic):               0.00\n",
       "Time:                        09:58:12   Log-Likelihood:            -3.9862e+05\n",
       "No. Observations:               59338   AIC:                         7.972e+05\n",
       "Df Residuals:                   59335   BIC:                         7.973e+05\n",
       "Df Model:                           2                                         \n",
       "Covariance Type:            nonrobust                                         \n",
       "==============================================================================\n",
       "                 coef    std err          t      P>|t|      [0.025      0.975]\n",
       "------------------------------------------------------------------------------\n",
       "const         19.1778      0.862     22.258      0.000      17.489      20.867\n",
       "PROP_ESP    3.612e+05   2.93e+04     12.340      0.000    3.04e+05    4.19e+05\n",
       "PROP_MED    1.932e+06   1.19e+04    162.824      0.000    1.91e+06    1.96e+06\n",
       "==============================================================================\n",
       "Omnibus:                    78628.918   Durbin-Watson:                   1.694\n",
       "Prob(Omnibus):                  0.000   Jarque-Bera (JB):         36496546.556\n",
       "Skew:                           7.237   Prob(JB):                         0.00\n",
       "Kurtosis:                     123.632   Cond. No.                     3.61e+04\n",
       "==============================================================================\n",
       "\n",
       "Notes:\n",
       "[1] Standard Errors assume that the covariance matrix of the errors is correctly specified.\n",
       "[2] The condition number is large, 3.61e+04. This might indicate that there are\n",
       "strong multicollinearity or other numerical problems.\n",
       "\"\"\""
      ]
     },
     "execution_count": 67,
     "metadata": {},
     "output_type": "execute_result"
    }
   ],
   "source": [
    "#Lo comprobamos haciendo una regresión lineal multiple\n",
    "\n",
    "#Añadimos las variables que hemos visto pueden influenciar:\n",
    "ICS['PROP_ESP']=ICS[(ICS['DESC_ESPECIALITAT']=='MEDICINA INTENSIVA')|(ICS['DESC_ESPECIALITAT']=='CIRURGIA ORTOP. I TRAUMAT')|(ICS['DESC_ESPECIALITAT']=='CARDIOLOGIA')]['PEQ']/ICS['PEQ_total']\n",
    "for i in ICS.index:\n",
    "    if isNaN(ICS.at[i,'PROP_ESP']):\n",
    "        ICS.at[i,'PROP_ESP']=0\n",
    "    else:\n",
    "        pass\n",
    "ICS['PROP_MED']=ICS[(ICS['CATEGORIA']=='Facultativos/as')|(ICS['CATEGORIA']=='Residentes/as')]['PEQ']/ICS['PEQ_total']\n",
    "for i in ICS.index:\n",
    "    if isNaN(ICS.at[i,'PROP_MED']):\n",
    "        ICS.at[i,'PROP_MED']=0\n",
    "    else:\n",
    "        pass\n",
    "                                                        \n",
    "\n",
    "#Usamos el model de RL OLS:\n",
    "y=ICS['HORAS_GUA']\n",
    "X=ICS[['PROP_ESP','PROP_MED']]\n",
    "X = sm.add_constant(X)\n",
    "model = sm.OLS(y, X).fit()\n",
    "model.summary()"
   ]
  },
  {
   "cell_type": "code",
   "execution_count": 68,
   "id": "609e11d2",
   "metadata": {
    "slideshow": {
     "slide_type": "fragment"
    }
   },
   "outputs": [
    {
     "data": {
      "text/plain": [
       "'Prob (F-statistic)=P_value<0.05 Por tanto rechazamos la Ho y podemos DECIR que hay una relación estadísticamente significativa entre la variables X y la variable y. La R2=0,356 por tanto el 35,6% de la variación de y es predicha por el modelo. '"
      ]
     },
     "execution_count": 68,
     "metadata": {},
     "output_type": "execute_result"
    }
   ],
   "source": [
    "'''Prob (F-statistic)=P_value<0.05 Por tanto rechazamos la Ho y podemos DECIR que hay una relación estadísticamente significativa entre la variables X y la variable y. La R2=0,356 por tanto el 35,6% de la variación de y es predicha por el modelo. '''"
   ]
  },
  {
   "cell_type": "markdown",
   "id": "c264fc08",
   "metadata": {
    "slideshow": {
     "slide_type": "slide"
    }
   },
   "source": [
    "### Conclusiones análisis correlaciones"
   ]
  },
  {
   "cell_type": "markdown",
   "id": "840c0ea7",
   "metadata": {
    "slideshow": {
     "slide_type": "subslide"
    }
   },
   "source": [
    "#### Correlación Plantilla Equivalente & Absentismo IT\n",
    "* A trabajadores con mayor edad mayor absentismo y mayor plantilla por causa de cobertura IT\n",
    "* Cuanta mayor proporción de administrativos mayor absentismo y mayor plantilla por causa de cobertura IT.\n",
    "* Cuanta mayor proporción de trabajores eventuales mayor absentismo y mayor plantilla por causa de cobertura IT.\n",
    "* Estas variables explican un 8,2% de la variación de la plantilla de IT.\n",
    "\n",
    "#### Correlación Plantilla Equivalente & Maternidades\n",
    "* A mayor proporción de enfermeras y facultativas de 26 a 45 años más permisos por maternidad y mayor plantilla por causa de cobertura materal.\n",
    "\n",
    "#### Correlaciones Coste Medio & Sueldo y Productividad\n",
    "* A mayor proporción de enfermeros/as y facultativos/as mayor coste medio en sueldo base y en complemento productividad y, por tanto, mayor coste medio total.\n",
    "* A mayor proporción de trabajadores con funciones de responsabilidad mayor coste medio en sueldo base y en complemento productividad y, por tanto, mayor coste medio total.\n",
    "* A mayor proporción de trabajadores fijos mayor coste medio en sueldo base y en complemento productividad y, por tanto, mayor coste medio total.\n",
    "* Estas variables explican un 51,7% de la variación del Coste Medio de sueldo y productividad\n",
    "\n",
    "#### Correlaciones Coste Medio & Antigüedad\n",
    "* A trabajadores con mayor edad mayor coste medio en complementos de antigüedad y, por tanto, mayor coste medio total.\n",
    "* Esta variable explica un 61,6% de la variación del Coste Medio de Antigüedad\n",
    "\n",
    "#### Correlaciones Coste Medio & Guardias Médicas\n",
    "* A mayor proporción de médicos residentes y facultativos/as mayor coste medio por guardias y, por tanto, mayor coste medio total.\n",
    "* A mayor proporción de médicos especialistas en medicina intensiva, cardiologia y cirugia ortopédica mayor número y coste medio de guardia y, por tanto, mayor coste medio total.\n",
    "* Estas variables explican un 35,6% de la variación de la media de guardias médicas que está muy correlacionada con el coste medio de guardias"
   ]
  },
  {
   "cell_type": "markdown",
   "id": "850520d6",
   "metadata": {
    "slideshow": {
     "slide_type": "slide"
    }
   },
   "source": [
    "## Análisis de proporciones de H7 versus media global"
   ]
  },
  {
   "cell_type": "markdown",
   "id": "0f65f2fd",
   "metadata": {
    "slideshow": {
     "slide_type": "slide"
    }
   },
   "source": [
    "### Absentismo por IT de H7 respecto a la media del ICS"
   ]
  },
  {
   "cell_type": "code",
   "execution_count": 69,
   "id": "2458cfc2",
   "metadata": {
    "slideshow": {
     "slide_type": "fragment"
    }
   },
   "outputs": [
    {
     "data": {
      "image/png": "[encoded data removed]",
      "text/plain": [
       "<Figure size 720x360 with 1 Axes>"
      ]
     },
     "metadata": {
      "needs_background": "light"
     },
     "output_type": "display_data"
    }
   ],
   "source": [
    "#Proporción de trabajadores en IT sobre total de plantilla equivalente\n",
    "plt.rcParams['figure.figsize']=(10,5)\n",
    "df=ICS.groupby('DIVISIÓ').apply(lambda x: (x['PEQ_IT'].sum()/x['PEQ_total']).mean())\n",
    "ax = df.plot.bar(rot=0)\n",
    "ax.get_children()[4].set_color('r')\n",
    "df = pd.DataFrame(df, columns = ['PROP_PEQ_IT']).reset_index()\n",
    "mean = df[\"PROP_PEQ_IT\"].mean()\n",
    "ax.axhline(mean).set_color('k')\n"
   ]
  },
  {
   "cell_type": "code",
   "execution_count": 70,
   "id": "e1b126c3",
   "metadata": {
    "slideshow": {
     "slide_type": "fragment"
    }
   },
   "outputs": [
    {
     "data": {
      "text/plain": [
       "(3.345078134594282, 0.0008225939320151759)"
      ]
     },
     "execution_count": 70,
     "metadata": {},
     "output_type": "execute_result"
    }
   ],
   "source": [
    "#analisis de proporciones\n",
    "n_peq_ics=ICS['PEQ'].sum()\n",
    "n_peq_it_ics=ICS['PEQ_IT'].sum()\n",
    "prop_it_h7=df[df['DIVISIÓ']=='H7']['PROP_PEQ_IT'].sum()\n",
    "proportions_ztest(count=n_peq_it_ics, nobs=n_peq_ics, value=prop_it_h7) "
   ]
  },
  {
   "cell_type": "code",
   "execution_count": 71,
   "id": "c4574303",
   "metadata": {
    "slideshow": {
     "slide_type": "fragment"
    }
   },
   "outputs": [
    {
     "data": {
      "text/plain": [
       "'Vemos que el pvalues es < 0.05 y, por tanto, rechazamos la Hipotesis Nula y podemos decir que la proporción de trabajadores de baja de IT en H7 (4,77%) es significamente menor que la media de los hospitales universitarios del ICS (5,24%).'"
      ]
     },
     "execution_count": 71,
     "metadata": {},
     "output_type": "execute_result"
    }
   ],
   "source": [
    "'''Vemos que el pvalues es < 0.05 y, por tanto, rechazamos la Hipotesis Nula y podemos decir que la proporción de trabajadores de baja de IT en H7 (4,77%) es significamente menor que la media de los hospitales universitarios del ICS (5,24%).'''"
   ]
  },
  {
   "cell_type": "markdown",
   "id": "b41cc9ad",
   "metadata": {
    "slideshow": {
     "slide_type": "slide"
    }
   },
   "source": [
    "### Absentismo por maternidades de H7 respecto a la media del ICS"
   ]
  },
  {
   "cell_type": "code",
   "execution_count": 72,
   "id": "0a70e727",
   "metadata": {
    "slideshow": {
     "slide_type": "fragment"
    }
   },
   "outputs": [
    {
     "data": {
      "image/png": "[encoded data removed]",
      "text/plain": [
       "<Figure size 720x360 with 1 Axes>"
      ]
     },
     "metadata": {
      "needs_background": "light"
     },
     "output_type": "display_data"
    }
   ],
   "source": [
    "#Proporción de trabajadores en maternidad sobre total de plantilla equivalente\n",
    "df=ICS.groupby('DIVISIÓ').apply(lambda x: (x['PEQ_MAT'].sum()/x['PEQ_total']).mean())\n",
    "ax = df.plot.bar(rot=0)\n",
    "ax.get_children()[4].set_color('r')\n",
    "df = pd.DataFrame(df, columns = ['PROP_PEQ_MAT']).reset_index()\n",
    "mean = df[\"PROP_PEQ_MAT\"].mean()\n",
    "ax.axhline(mean).set_color('k')"
   ]
  },
  {
   "cell_type": "code",
   "execution_count": 73,
   "id": "8c10e7e5",
   "metadata": {
    "slideshow": {
     "slide_type": "fragment"
    }
   },
   "outputs": [
    {
     "data": {
      "text/plain": [
       "(-2.204593495801296, 0.027482632591179414)"
      ]
     },
     "execution_count": 73,
     "metadata": {},
     "output_type": "execute_result"
    }
   ],
   "source": [
    "#analisis de proporciones\n",
    "n_peq_ics=ICS['PEQ'].sum()\n",
    "n_peq_mat_ics=ICS['PEQ_MAT'].sum()\n",
    "prop_mat_h7=df[df['DIVISIÓ']=='H7']['PROP_PEQ_MAT'].sum()\n",
    "proportions_ztest(count=n_peq_mat_ics, nobs=n_peq_ics, value=prop_mat_h7) "
   ]
  },
  {
   "cell_type": "code",
   "execution_count": 74,
   "id": "76297b7c",
   "metadata": {
    "slideshow": {
     "slide_type": "fragment"
    }
   },
   "outputs": [
    {
     "data": {
      "text/plain": [
       "'Vemos que el pvalues es < 0.05 y, por tanto, rechazamos la Hipotesis Nula y podemos decir que la proporción de trabajadores de baja por maternidad en H7 (1,32%) es significamente mayor que la media de los hospitales universitarios del ICS (1,17%).'"
      ]
     },
     "execution_count": 74,
     "metadata": {},
     "output_type": "execute_result"
    }
   ],
   "source": [
    "'''Vemos que el pvalues es < 0.05 y, por tanto, rechazamos la Hipotesis Nula y podemos decir que la proporción de trabajadores de baja por maternidad en H7 (1,32%) es significamente mayor que la media de los hospitales universitarios del ICS (1,17%).'''"
   ]
  },
  {
   "cell_type": "markdown",
   "id": "5776f844",
   "metadata": {
    "slideshow": {
     "slide_type": "subslide"
    }
   },
   "source": [
    "#### Proporción de enfermeras de entre 26 y 45 años en H7 respecto a la media del ICS"
   ]
  },
  {
   "cell_type": "code",
   "execution_count": 75,
   "id": "511c20bf",
   "metadata": {
    "slideshow": {
     "slide_type": "fragment"
    }
   },
   "outputs": [
    {
     "data": {
      "image/png": "[encoded data removed]",
      "text/plain": [
       "<Figure size 720x360 with 1 Axes>"
      ]
     },
     "metadata": {
      "needs_background": "light"
     },
     "output_type": "display_data"
    }
   ],
   "source": [
    "df=ICS[(ICS['SEXO']=='D')&(ICS['EDAD']<46)&(ICS['EDAD']>25)&(ICS['CATEGORIA']=='Enfermeras/os')].groupby('DIVISIÓ').apply(lambda x: (x['PEQ'].sum()/x['PEQ_total']).mean())\n",
    "ax = df.plot.bar(rot=0)\n",
    "ax.get_children()[4].set_color('r')\n",
    "df = pd.DataFrame(df, columns = ['ENF_PEQ_FERT']).reset_index()\n",
    "mean = ICS[(ICS['SEXO']=='D')&(ICS['EDAD']<46)&(ICS['EDAD']>25)&(ICS['CATEGORIA']=='Enfermeras/os')]['PEQ'].sum()/ICS['PEQ'].sum()\n",
    "ax.axhline(mean).set_color('k')"
   ]
  },
  {
   "cell_type": "code",
   "execution_count": 76,
   "id": "4b1b41a5",
   "metadata": {
    "slideshow": {
     "slide_type": "fragment"
    }
   },
   "outputs": [
    {
     "data": {
      "text/plain": [
       "(-4.200443727186782, 2.6639237463196296e-05)"
      ]
     },
     "execution_count": 76,
     "metadata": {},
     "output_type": "execute_result"
    }
   ],
   "source": [
    "#analisis de proporciones\n",
    "n_peq_ics=ICS['PEQ'].sum()\n",
    "n_inf_fert_ics=ICS[(ICS['SEXO']=='D')&(ICS['EDAD']<46)&(ICS['EDAD']>25)&(ICS['CATEGORIA']=='Enfermeras/os')]['PEQ'].sum()\n",
    "prop_inf_fert_h7=df[df['DIVISIÓ']=='H7']['ENF_PEQ_FERT'].sum()\n",
    "proportions_ztest(count=n_inf_fert_ics, nobs=n_peq_ics, value=prop_inf_fert_h7) "
   ]
  },
  {
   "cell_type": "code",
   "execution_count": 77,
   "id": "8b491606",
   "metadata": {
    "slideshow": {
     "slide_type": "fragment"
    }
   },
   "outputs": [
    {
     "data": {
      "text/plain": [
       "'Vemos que el pvalues es < 0.05 y, por tanto, rechazamos la Hipotesis Nula y podemos decir que la proporción de enfermeras de 26 a 45 años en H7 (17,77%) es significamente mayor que la media de los hospitales universitarios del ICS (16,78%).'"
      ]
     },
     "execution_count": 77,
     "metadata": {},
     "output_type": "execute_result"
    }
   ],
   "source": [
    "'''Vemos que el pvalues es < 0.05 y, por tanto, rechazamos la Hipotesis Nula y podemos decir que la proporción de enfermeras de 26 a 45 años en H7 (17,77%) es significamente mayor que la media de los hospitales universitarios del ICS (16,78%).'''"
   ]
  },
  {
   "cell_type": "markdown",
   "id": "d1734c2d",
   "metadata": {
    "slideshow": {
     "slide_type": "subslide"
    }
   },
   "source": [
    "#### Proporción de facultativas de entre 26 y 45 años en H7 respecto a la media del ICS"
   ]
  },
  {
   "cell_type": "code",
   "execution_count": 78,
   "id": "9093f25c",
   "metadata": {
    "slideshow": {
     "slide_type": "fragment"
    }
   },
   "outputs": [
    {
     "data": {
      "image/png": "[encoded data removed]",
      "text/plain": [
       "<Figure size 720x360 with 1 Axes>"
      ]
     },
     "metadata": {
      "needs_background": "light"
     },
     "output_type": "display_data"
    }
   ],
   "source": [
    "df=ICS[(ICS['SEXO']=='D')&(ICS['EDAD']<46)&(ICS['EDAD']>25)&(ICS['CATEGORIA']=='Facultativos/as')].groupby('DIVISIÓ').apply(lambda x: (x['PEQ'].sum()/x['PEQ_total']).mean())\n",
    "ax = df.plot.bar(rot=0)\n",
    "ax.get_children()[4].set_color('r')\n",
    "df = pd.DataFrame(df, columns = ['FAC_PEQ_FERT']).reset_index()\n",
    "mean = ICS[(ICS['SEXO']=='D')&(ICS['EDAD']<46)&(ICS['EDAD']>25)&(ICS['CATEGORIA']=='Facultativos/as')]['PEQ'].sum()/ICS['PEQ'].sum()\n",
    "ax.axhline(mean).set_color('k')"
   ]
  },
  {
   "cell_type": "code",
   "execution_count": 79,
   "id": "80e6c3de",
   "metadata": {
    "slideshow": {
     "slide_type": "fragment"
    }
   },
   "outputs": [
    {
     "data": {
      "text/plain": [
       "(-8.503891799821215, 1.8333842513112568e-17)"
      ]
     },
     "execution_count": 79,
     "metadata": {},
     "output_type": "execute_result"
    }
   ],
   "source": [
    "#analisis de proporciones\n",
    "n_peq_ics=ICS['PEQ'].sum()\n",
    "n_fac_fert_ics=ICS[(ICS['SEXO']=='D')&(ICS['EDAD']<46)&(ICS['EDAD']>25)&(ICS['CATEGORIA']=='Facultativos/as')]['PEQ'].sum()\n",
    "prop_fac_fert_h7=df[df['DIVISIÓ']=='H7']['FAC_PEQ_FERT'].sum()\n",
    "proportions_ztest(count=n_fac_fert_ics, nobs=n_peq_ics, value=prop_fac_fert_h7) "
   ]
  },
  {
   "cell_type": "code",
   "execution_count": 80,
   "id": "596c5341",
   "metadata": {
    "slideshow": {
     "slide_type": "fragment"
    }
   },
   "outputs": [
    {
     "data": {
      "text/plain": [
       "'Vemos que el pvalues es < 0.05 y, por tanto, rechazamos la Hipotesis Nula y podemos decir que la proporción de enfermeras de 26 a 45 años en H7 (7,01%) es significamente mayor que la media de los hospitales universitarios del ICS (5,75%).'"
      ]
     },
     "execution_count": 80,
     "metadata": {},
     "output_type": "execute_result"
    }
   ],
   "source": [
    "'''Vemos que el pvalues es < 0.05 y, por tanto, rechazamos la Hipotesis Nula y podemos decir que la proporción de enfermeras de 26 a 45 años en H7 (7,01%) es significamente mayor que la media de los hospitales universitarios del ICS (5,75%).'''"
   ]
  },
  {
   "cell_type": "markdown",
   "id": "8145aac8",
   "metadata": {
    "slideshow": {
     "slide_type": "slide"
    }
   },
   "source": [
    "### Coste medio por trabajador de H7 respecto a media ICS"
   ]
  },
  {
   "cell_type": "code",
   "execution_count": 81,
   "id": "c3dc9132",
   "metadata": {
    "slideshow": {
     "slide_type": "fragment"
    }
   },
   "outputs": [
    {
     "data": {
      "image/png": "[encoded data removed]",
      "text/plain": [
       "<Figure size 720x360 with 1 Axes>"
      ]
     },
     "metadata": {
      "needs_background": "light"
     },
     "output_type": "display_data"
    }
   ],
   "source": [
    "df=ICS.groupby('DIVISIÓ').apply(lambda x: (x['TOTAL_BRUTO'].sum()/x['PEQ_total']).mean())\n",
    "ax = df.plot.bar(rot=0)\n",
    "ax.get_children()[4].set_color('r')\n",
    "df = pd.DataFrame(df, columns = ['COSTE_MEDIO']).reset_index()\n",
    "mean=ICS['TOTAL_BRUTO'].sum()/ICS['PEQ'].sum()\n",
    "#mean = df[\"COSTE_MEDIO\"].mean()\n",
    "ax.axhline(mean).set_color('k')"
   ]
  },
  {
   "cell_type": "code",
   "execution_count": 82,
   "id": "bffb462f",
   "metadata": {
    "slideshow": {
     "slide_type": "fragment"
    }
   },
   "outputs": [
    {
     "data": {
      "text/plain": [
       "Ttest_1sampResult(statistic=0.4740163487032278, pvalue=0.6554650402268821)"
      ]
     },
     "execution_count": 82,
     "metadata": {},
     "output_type": "execute_result"
    }
   ],
   "source": [
    "##analisis de Ttest\n",
    "coste_medio_h7=df[df['DIVISIÓ']=='H7']['COSTE_MEDIO'].sum()\n",
    "stats.ttest_1samp(df['COSTE_MEDIO'],coste_medio_h7)\n",
    "#stats.ttest_1samp(df['COSTE_MEDIO'],coste_medio_h7)"
   ]
  },
  {
   "cell_type": "code",
   "execution_count": 83,
   "id": "29ba88ce",
   "metadata": {
    "slideshow": {
     "slide_type": "fragment"
    }
   },
   "outputs": [
    {
     "data": {
      "text/plain": [
       "'Vemos que el pvalues/2 es > 0.05 y, por tanto, NO rechazamos la Hipotesis Nula y podemos decir que el coste medio por trabajador en H7 (40310) NO es significamente diferente a la media de los hospitales universitarios del ICS (39.925).'"
      ]
     },
     "execution_count": 83,
     "metadata": {},
     "output_type": "execute_result"
    }
   ],
   "source": [
    "'''Vemos que el pvalues/2 es > 0.05 y, por tanto, NO rechazamos la Hipotesis Nula y podemos decir que el coste medio por trabajador en H7 (40310) NO es significamente diferente a la media de los hospitales universitarios del ICS (39.925).'''"
   ]
  },
  {
   "cell_type": "markdown",
   "id": "a5ea678f",
   "metadata": {
    "slideshow": {
     "slide_type": "subslide"
    }
   },
   "source": [
    "#### Coste medio por sueldo y productividad H7 respecto a media ICS"
   ]
  },
  {
   "cell_type": "code",
   "execution_count": 84,
   "id": "b3d4a47a",
   "metadata": {
    "slideshow": {
     "slide_type": "fragment"
    }
   },
   "outputs": [
    {
     "data": {
      "image/png": "[encoded data removed]",
      "text/plain": [
       "<Figure size 720x360 with 1 Axes>"
      ]
     },
     "metadata": {
      "needs_background": "light"
     },
     "output_type": "display_data"
    }
   ],
   "source": [
    "df=ICS.groupby('DIVISIÓ').apply(lambda x: (x['SUELDO_I_DPO'].sum()/x['PEQ_total']).mean())\n",
    "ax = df.plot.bar(rot=0)\n",
    "ax.get_children()[4].set_color('r')\n",
    "df = pd.DataFrame(df, columns = ['SUELDO_MEDIO']).reset_index()\n",
    "mean=ICS['SUELDO_I_DPO'].sum()/ICS['PEQ'].sum()\n",
    "#mean = df[\"SUELDO_MEDIO\"].mean()\n",
    "ax.axhline(mean).set_color('k')"
   ]
  },
  {
   "cell_type": "code",
   "execution_count": 85,
   "id": "b7bc0031",
   "metadata": {
    "slideshow": {
     "slide_type": "fragment"
    }
   },
   "outputs": [
    {
     "data": {
      "text/plain": [
       "Ttest_1sampResult(statistic=0.41396934645294364, pvalue=0.6960553230083673)"
      ]
     },
     "execution_count": 85,
     "metadata": {},
     "output_type": "execute_result"
    }
   ],
   "source": [
    "##analisis de Ttest\n",
    "sueldo_medio_h7=df[df['DIVISIÓ']=='H7']['SUELDO_MEDIO'].sum()\n",
    "stats.ttest_1samp(df['SUELDO_MEDIO'],sueldo_medio_h7) "
   ]
  },
  {
   "cell_type": "code",
   "execution_count": 86,
   "id": "0745589c",
   "metadata": {
    "slideshow": {
     "slide_type": "fragment"
    }
   },
   "outputs": [
    {
     "data": {
      "text/plain": [
       "'Vemos que el pvalues/2 es > 0.05 y, por tanto, NO rechazamos la Hipotesis Nula y podemos decir que el coste medio por trabajador en H7 (30.646) NO es significamente diferente a la media de los hospitales universitarios del ICS (30.467).'"
      ]
     },
     "execution_count": 86,
     "metadata": {},
     "output_type": "execute_result"
    }
   ],
   "source": [
    "'''Vemos que el pvalues/2 es > 0.05 y, por tanto, NO rechazamos la Hipotesis Nula y podemos decir que el coste medio por trabajador en H7 (30.646) NO es significamente diferente a la media de los hospitales universitarios del ICS (30.467).'''"
   ]
  },
  {
   "cell_type": "markdown",
   "id": "70453eed",
   "metadata": {
    "slideshow": {
     "slide_type": "subslide"
    }
   },
   "source": [
    "#### Coste medio por sueldo y productividad de trabajador con responsabilidad de H7 respecto a media ICS"
   ]
  },
  {
   "cell_type": "code",
   "execution_count": 87,
   "id": "9875be3a",
   "metadata": {
    "slideshow": {
     "slide_type": "fragment"
    }
   },
   "outputs": [
    {
     "data": {
      "image/png": "[encoded data removed]",
      "text/plain": [
       "<Figure size 720x360 with 1 Axes>"
      ]
     },
     "metadata": {
      "needs_background": "light"
     },
     "output_type": "display_data"
    }
   ],
   "source": [
    "df=ICS[ICS['RESPONSABILIDAD']==1].groupby('DIVISIÓ').apply(lambda x: (x['SUELDO_I_DPO'].sum()/x['PEQ'].sum()).mean())\n",
    "ax = df.plot.bar(rot=0)\n",
    "ax.get_children()[4].set_color('r')\n",
    "df = pd.DataFrame(df, columns = ['SUELDO_MEDIO']).reset_index()\n",
    "mean=ICS[ICS['RESPONSABILIDAD']==1]['SUELDO_I_DPO'].sum()/ICS[ICS['RESPONSABILIDAD']==1]['PEQ'].sum()\n",
    "#mean = df[\"SUELDO_MEDIO\"].mean()\n",
    "ax.axhline(mean).set_color('k')"
   ]
  },
  {
   "cell_type": "code",
   "execution_count": 88,
   "id": "0597d6d1",
   "metadata": {
    "slideshow": {
     "slide_type": "fragment"
    }
   },
   "outputs": [
    {
     "data": {
      "text/plain": [
       "Ttest_1sampResult(statistic=-1.9607778495693424, pvalue=0.10718120634870945)"
      ]
     },
     "execution_count": 88,
     "metadata": {},
     "output_type": "execute_result"
    }
   ],
   "source": [
    "##analisis de Ttest\n",
    "sueldo_medio_resp_h7=df[df['DIVISIÓ']=='H7']['SUELDO_MEDIO'].sum()\n",
    "stats.ttest_1samp(df['SUELDO_MEDIO'],sueldo_medio_resp_h7) "
   ]
  },
  {
   "cell_type": "code",
   "execution_count": 89,
   "id": "e4f5823e",
   "metadata": {
    "slideshow": {
     "slide_type": "fragment"
    }
   },
   "outputs": [
    {
     "data": {
      "text/plain": [
       "'Vemos que el pvalues/2 es > 0.05 y, por tanto, NO rechazamos por muy poco la Hipotesis Nula y podemos decir que el coste medio por trabajador con responsabilidad en H7 (58.286) NO es significamente diferente a la media de los hospitales universitarios del ICS (55.126).'"
      ]
     },
     "execution_count": 89,
     "metadata": {},
     "output_type": "execute_result"
    }
   ],
   "source": [
    "'''Vemos que el pvalues/2 es > 0.05 y, por tanto, NO rechazamos por muy poco la Hipotesis Nula y podemos decir que el coste medio por trabajador con responsabilidad en H7 (58.286) NO es significamente diferente a la media de los hospitales universitarios del ICS (55.126).'''"
   ]
  },
  {
   "cell_type": "markdown",
   "id": "ee68ec9e",
   "metadata": {
    "slideshow": {
     "slide_type": "subslide"
    }
   },
   "source": [
    "#### Coste medio por antigüedad H7 respecto a media ICS"
   ]
  },
  {
   "cell_type": "code",
   "execution_count": 90,
   "id": "050462fb",
   "metadata": {
    "slideshow": {
     "slide_type": "fragment"
    }
   },
   "outputs": [
    {
     "data": {
      "image/png": "[encoded data removed]",
      "text/plain": [
       "<Figure size 720x360 with 1 Axes>"
      ]
     },
     "metadata": {
      "needs_background": "light"
     },
     "output_type": "display_data"
    }
   ],
   "source": [
    "df=ICS.groupby('DIVISIÓ').apply(lambda x: (x['ANTIGÜEDAD'].sum()/x['PEQ_total']).mean())\n",
    "ax = df.plot.bar(rot=0)\n",
    "ax.get_children()[4].set_color('r')\n",
    "df = pd.DataFrame(df, columns = ['ANTIGÜEDAD_MEDIA']).reset_index()\n",
    "mean=ICS['ANTIGÜEDAD'].sum()/ICS['PEQ'].sum()\n",
    "#mean = df[\"ANTIGÜEDAD_MEDIA\"].mean()\n",
    "ax.axhline(mean).set_color('k')"
   ]
  },
  {
   "cell_type": "code",
   "execution_count": 91,
   "id": "b757f5e7",
   "metadata": {
    "slideshow": {
     "slide_type": "fragment"
    }
   },
   "outputs": [
    {
     "data": {
      "text/plain": [
       "Ttest_1sampResult(statistic=1.6351783264131243, pvalue=0.1629391380203128)"
      ]
     },
     "execution_count": 91,
     "metadata": {},
     "output_type": "execute_result"
    }
   ],
   "source": [
    "##analisis de Ttest\n",
    "antiguedad_media_h7=df[df['DIVISIÓ']=='H7']['ANTIGÜEDAD_MEDIA'].sum()\n",
    "stats.ttest_1samp(df['ANTIGÜEDAD_MEDIA'],antiguedad_media_h7) "
   ]
  },
  {
   "cell_type": "code",
   "execution_count": 92,
   "id": "14b2f104",
   "metadata": {
    "slideshow": {
     "slide_type": "fragment"
    }
   },
   "outputs": [
    {
     "data": {
      "text/plain": [
       "'Vemos que el pvalues/2 es > 0.05 y, por tanto, NO rechazamos la Hipotesis Nula y podemos decir que el coste por antigüedad media en H7 (2879) NO es significamente diferente a la media de los hospitales universitarios del ICS (3042).'"
      ]
     },
     "execution_count": 92,
     "metadata": {},
     "output_type": "execute_result"
    }
   ],
   "source": [
    "'''Vemos que el pvalues/2 es > 0.05 y, por tanto, NO rechazamos la Hipotesis Nula y podemos decir que el coste por antigüedad media en H7 (2879) NO es significamente diferente a la media de los hospitales universitarios del ICS (3042).'''"
   ]
  },
  {
   "cell_type": "markdown",
   "id": "a93cd2d9",
   "metadata": {
    "slideshow": {
     "slide_type": "subslide"
    }
   },
   "source": [
    "#### Coste medio por guardias médicas H7 respecto a media ICS"
   ]
  },
  {
   "cell_type": "code",
   "execution_count": 93,
   "id": "630c3fbc",
   "metadata": {
    "slideshow": {
     "slide_type": "fragment"
    }
   },
   "outputs": [
    {
     "data": {
      "image/png": "[encoded data removed]",
      "text/plain": [
       "<Figure size 720x360 with 1 Axes>"
      ]
     },
     "metadata": {
      "needs_background": "light"
     },
     "output_type": "display_data"
    }
   ],
   "source": [
    "df=ICS.groupby('DIVISIÓ').apply(lambda x: (x['GUARDIAS'].sum()/x['PEQ_total']).mean())\n",
    "ax = df.plot.bar(rot=0)\n",
    "ax.get_children()[4].set_color('r')\n",
    "df = pd.DataFrame(df, columns = ['GUARDIAS_MEDIAS']).reset_index()\n",
    "mean=ICS['GUARDIAS'].sum()/ICS['PEQ'].sum()\n",
    "#mean = df[\"GUARDIAS_MEDIAS\"].mean()\n",
    "ax.axhline(mean).set_color('k')"
   ]
  },
  {
   "cell_type": "code",
   "execution_count": 94,
   "id": "0f60cde5",
   "metadata": {
    "slideshow": {
     "slide_type": "fragment"
    }
   },
   "outputs": [
    {
     "data": {
      "text/plain": [
       "Ttest_1sampResult(statistic=-1.4764568068924815, pvalue=0.1998530942254158)"
      ]
     },
     "execution_count": 94,
     "metadata": {},
     "output_type": "execute_result"
    }
   ],
   "source": [
    "##analisis de Ttest\n",
    "guardias_media_h7=df[df['DIVISIÓ']=='H7']['GUARDIAS_MEDIAS'].sum()\n",
    "stats.ttest_1samp(df['GUARDIAS_MEDIAS'],guardias_media_h7) "
   ]
  },
  {
   "cell_type": "code",
   "execution_count": 95,
   "id": "1ddeb070",
   "metadata": {
    "slideshow": {
     "slide_type": "fragment"
    }
   },
   "outputs": [
    {
     "data": {
      "text/plain": [
       "'Según el análisis de Ttest el coste de guardias medias de H7 no es significativamente diferente a la media del ICS'"
      ]
     },
     "execution_count": 95,
     "metadata": {},
     "output_type": "execute_result"
    }
   ],
   "source": [
    "'''Según el análisis de Ttest el coste de guardias medias de H7 no es significativamente diferente a la media del ICS'''"
   ]
  },
  {
   "cell_type": "markdown",
   "id": "63f5506e",
   "metadata": {
    "slideshow": {
     "slide_type": "subslide"
    }
   },
   "source": [
    "##### Proporción de médicos residentes H7 respecto a ICS"
   ]
  },
  {
   "cell_type": "code",
   "execution_count": 96,
   "id": "fe8cbb40",
   "metadata": {
    "slideshow": {
     "slide_type": "fragment"
    }
   },
   "outputs": [
    {
     "data": {
      "image/png": "[encoded data removed]",
      "text/plain": [
       "<Figure size 720x360 with 1 Axes>"
      ]
     },
     "metadata": {
      "needs_background": "light"
     },
     "output_type": "display_data"
    }
   ],
   "source": [
    "df=ICS[ICS['CATEGORIA']=='Residentes/as'].groupby('DIVISIÓ').apply(lambda x: (x['PEQ'].sum()/x['PEQ_total']).mean())\n",
    "ax = df.plot.bar(rot=0)\n",
    "ax.get_children()[4].set_color('r')\n",
    "df = pd.DataFrame(df, columns = ['PROP_MIR']).reset_index()\n",
    "mean = ICS[ICS['CATEGORIA']=='Residentes/as']['PEQ'].sum()/ICS['PEQ'].sum()\n",
    "ax.axhline(mean).set_color('k')"
   ]
  },
  {
   "cell_type": "code",
   "execution_count": 97,
   "id": "5e683295",
   "metadata": {
    "slideshow": {
     "slide_type": "fragment"
    }
   },
   "outputs": [
    {
     "data": {
      "text/plain": [
       "(-7.120093690630074, 1.0785372320801442e-12)"
      ]
     },
     "execution_count": 97,
     "metadata": {},
     "output_type": "execute_result"
    }
   ],
   "source": [
    "#Analisis de proporciones\n",
    "n_peq_ics=ICS['PEQ'].sum()\n",
    "n_peq_mir_ics=ICS[ICS['CATEGORIA']=='Residentes/as']['PEQ'].sum()\n",
    "prop_mir_h7=df[df['DIVISIÓ']=='H7']['PROP_MIR'].sum()\n",
    "proportions_ztest(count=n_peq_mir_ics, nobs=n_peq_ics, value=prop_mir_h7) "
   ]
  },
  {
   "cell_type": "code",
   "execution_count": 98,
   "id": "50887b6a",
   "metadata": {
    "slideshow": {
     "slide_type": "fragment"
    }
   },
   "outputs": [
    {
     "data": {
      "text/plain": [
       "'Vemos que el pvalues es < 0.05 y, por tanto, rechazamos la Hipotesis Nula y podemos decir que la proporción médicos residentes en H7 (7,90%) es significamente mayor que la media de los hospitales universitarios del ICS (6,77%).'"
      ]
     },
     "execution_count": 98,
     "metadata": {},
     "output_type": "execute_result"
    }
   ],
   "source": [
    "'''Vemos que el pvalues es < 0.05 y, por tanto, rechazamos la Hipotesis Nula y podemos decir que la proporción médicos residentes en H7 (7,90%) es significamente mayor que la media de los hospitales universitarios del ICS (6,77%).'''"
   ]
  },
  {
   "cell_type": "markdown",
   "id": "40f8f031",
   "metadata": {
    "slideshow": {
     "slide_type": "subslide"
    }
   },
   "source": [
    "##### Proporción de médicos facultativos H7 respecto a ICS"
   ]
  },
  {
   "cell_type": "code",
   "execution_count": 99,
   "id": "2e0260d8",
   "metadata": {
    "slideshow": {
     "slide_type": "fragment"
    }
   },
   "outputs": [
    {
     "data": {
      "image/png": "[encoded data removed]",
      "text/plain": [
       "<Figure size 720x360 with 1 Axes>"
      ]
     },
     "metadata": {
      "needs_background": "light"
     },
     "output_type": "display_data"
    }
   ],
   "source": [
    "df=ICS[ICS['CATEGORIA']=='Facultativos/as'].groupby('DIVISIÓ').apply(lambda x: (x['PEQ'].sum()/x['PEQ_total']).mean())\n",
    "ax = df.plot.bar(rot=0)\n",
    "ax.get_children()[4].set_color('r')\n",
    "df = pd.DataFrame(df, columns = ['PROP_FAC']).reset_index()\n",
    "mean = ICS[ICS['CATEGORIA']=='Facultativos/as']['PEQ'].sum()/ICS['PEQ'].sum()\n",
    "ax.axhline(mean).set_color('k')"
   ]
  },
  {
   "cell_type": "code",
   "execution_count": 100,
   "id": "8284f4b2",
   "metadata": {
    "slideshow": {
     "slide_type": "fragment"
    }
   },
   "outputs": [
    {
     "data": {
      "text/plain": [
       "(-8.821089941053259, 1.1335092402958824e-18)"
      ]
     },
     "execution_count": 100,
     "metadata": {},
     "output_type": "execute_result"
    }
   ],
   "source": [
    "#Analisis de proporciones\n",
    "n_peq_ics=ICS['PEQ'].sum()\n",
    "n_peq_fac_ics=ICS[ICS['CATEGORIA']=='Facultativos/as']['PEQ'].sum()\n",
    "prop_fac_h7=df[df['DIVISIÓ']=='H7']['PROP_FAC'].sum()\n",
    "proportions_ztest(count=n_peq_fac_ics, nobs=n_peq_ics, value=prop_fac_h7) "
   ]
  },
  {
   "cell_type": "code",
   "execution_count": 101,
   "id": "976ba076",
   "metadata": {
    "slideshow": {
     "slide_type": "fragment"
    }
   },
   "outputs": [
    {
     "data": {
      "text/plain": [
       "'Vemos que el pvalues es < 0.05 y, por tanto, rechazamos la Hipotesis Nula y podemos decir que la proporción facultativos especialistas en H7 (17,37%) es significamente mayor  que la media de los hospitales universitarios del ICS (15,36%).'"
      ]
     },
     "execution_count": 101,
     "metadata": {},
     "output_type": "execute_result"
    }
   ],
   "source": [
    "'''Vemos que el pvalues es < 0.05 y, por tanto, rechazamos la Hipotesis Nula y podemos decir que la proporción facultativos especialistas en H7 (17,37%) es significamente mayor  que la media de los hospitales universitarios del ICS (15,36%).'''"
   ]
  },
  {
   "cell_type": "markdown",
   "id": "7fa82789",
   "metadata": {
    "slideshow": {
     "slide_type": "subslide"
    }
   },
   "source": [
    "##### Proporción de personal en especialidades H7 respecto a ICS"
   ]
  },
  {
   "cell_type": "code",
   "execution_count": 102,
   "id": "f4efe14c",
   "metadata": {
    "scrolled": true,
    "slideshow": {
     "slide_type": "fragment"
    }
   },
   "outputs": [
    {
     "data": {
      "image/png": "[encoded data removed]",
      "text/plain": [
       "<Figure size 720x360 with 1 Axes>"
      ]
     },
     "metadata": {
      "needs_background": "light"
     },
     "output_type": "display_data"
    }
   ],
   "source": [
    "df=ICS[(ICS['DESC_ESPECIALITAT']=='MEDICINA INTENSIVA')|\n",
    "      (ICS['DESC_ESPECIALITAT']=='CIRURGIA ORTOP. I TRAUMAT')|\n",
    "      (ICS['DESC_ESPECIALITAT']=='CARDIOLOGIA')].groupby('DIVISIÓ').apply(lambda x: (x['PEQ'].sum()/x['PEQ_total']).mean())\n",
    "ax = df.plot.bar(rot=0)\n",
    "ax.get_children()[4].set_color('r')\n",
    "df = pd.DataFrame(df, columns = ['PROP_ESP']).reset_index()\n",
    "mean = ICS[(ICS['DESC_ESPECIALITAT']=='MEDICINA INTENSIVA')|\n",
    "      (ICS['DESC_ESPECIALITAT']=='CIRURGIA ORTOP. I TRAUMAT')|\n",
    "      (ICS['DESC_ESPECIALITAT']=='CARDIOLOGIA')]['PEQ'].sum()/ICS['PEQ'].sum()\n",
    "ax.axhline(mean).set_color('k')"
   ]
  },
  {
   "cell_type": "code",
   "execution_count": 103,
   "id": "34aefea6",
   "metadata": {
    "slideshow": {
     "slide_type": "fragment"
    }
   },
   "outputs": [
    {
     "data": {
      "text/plain": [
       "(-3.110590714053633, 0.0018671353585632076)"
      ]
     },
     "execution_count": 103,
     "metadata": {},
     "output_type": "execute_result"
    }
   ],
   "source": [
    "#Analisis de proporciones\n",
    "n_peq_ics=ICS['PEQ'].sum()\n",
    "n_peq_esp_ics=ICS[(ICS['DESC_ESPECIALITAT']=='MEDICINA INTENSIVA')|\n",
    "      (ICS['DESC_ESPECIALITAT']=='CIRURGIA ORTOP. I TRAUMAT')|\n",
    "      (ICS['DESC_ESPECIALITAT']=='CARDIOLOGIA')]['PEQ'].sum()\n",
    "prop_esp_h7=df[df['DIVISIÓ']=='H7']['PROP_ESP'].sum()\n",
    "proportions_ztest(count=n_peq_esp_ics, nobs=n_peq_ics, value=prop_esp_h7) "
   ]
  },
  {
   "cell_type": "code",
   "execution_count": 104,
   "id": "3a83db65",
   "metadata": {
    "slideshow": {
     "slide_type": "fragment"
    }
   },
   "outputs": [
    {
     "data": {
      "text/plain": [
       "'Vemos que el pvalues es < 0.05 y, por tanto, rechazamos la Hipotesis Nula y podemos decir que la proporción de professionales en las especialidades de medicina intensiva, cardiologia y cirugia ortopédica en H7 (3,32%) es significamente mayor que la media de los hospitales universitarios del ICS (2,99%).'"
      ]
     },
     "execution_count": 104,
     "metadata": {},
     "output_type": "execute_result"
    }
   ],
   "source": [
    "'''Vemos que el pvalues es < 0.05 y, por tanto, rechazamos la Hipotesis Nula y podemos decir que la proporción de professionales en las especialidades de medicina intensiva, cardiologia y cirugia ortopédica en H7 (3,32%) es significamente mayor que la media de los hospitales universitarios del ICS (2,99%).'''"
   ]
  },
  {
   "cell_type": "markdown",
   "id": "6ca8709e",
   "metadata": {
    "slideshow": {
     "slide_type": "slide"
    }
   },
   "source": [
    "### Conclusiones análisis proporciones"
   ]
  },
  {
   "cell_type": "markdown",
   "id": "9546dd17",
   "metadata": {
    "slideshow": {
     "slide_type": "subslide"
    }
   },
   "source": [
    "#### Absentismo por IT de H7 respecto a la media del ICS:\n",
    "* La proporción de trabajadores de baja de IT en H7 es significamente menor que la media de los hospitales universitarios del ICS este se debe a que la media de edad de H7 está entre las más bajas.\n",
    "\n",
    "####  Absentismo por maternidades de H7 respecto a la media del ICS\n",
    "* La proporción de maternidades en H7 es significamente mayor que la media de los hospitales universitarios del ICS. Esto se debe a que el porcentaje de enfermeras y facultativas de entre 25 y 46 años es mayor en H7 que la media de los hospitales universatirios del ICS.\n",
    "\n",
    "#### Coste medio de H7 respecto a la media del ICS\n",
    "* A pesar de que el coste medio de H7 no es significativamente superior a la media de los hospitales universitarios del ICS podemos decir que se encuetra sobredimensionado por las siguientes razones:\n",
    "    - El coste medio por guardias se encuentra por encima de la media a causa del coste medio por guardias. Este coste se debe a que la proporción de personal médico en H7 es significativamente mayor que la media del ICS.\n",
    "    - El coste medio del sueldo y la productividad en H7 es el más alto de todo el ICS."
   ]
  },
  {
   "cell_type": "markdown",
   "id": "a3c27312",
   "metadata": {
    "slideshow": {
     "slide_type": "slide"
    }
   },
   "source": [
    "## Conclusión final"
   ]
  },
  {
   "cell_type": "markdown",
   "id": "7d2002bc",
   "metadata": {
    "slideshow": {
     "slide_type": "fragment"
    }
   },
   "source": [
    "* La plantilla de H7 es la tercera más grande. Algunas de las variables que puede explicar una sobredimensión de la plantilla son:\n",
    "    - Proporción de maternidades elevado como consecuencia de una estructura de plantilla jóven, feminizada y de perfil asistencial.\n",
    "    - Proporción de reducciones de jornada por encima de la media\n",
    "* El coste medio de H7 es el cuarto más elevado. Algunas de las variables que puede explicar una sobredimensión de la coste medio son: \n",
    "    - El coste medio de guardia es el tercero más elevado a causa de: proporción de personal médico por encima de la media y mayor proporción de especialidades con alta necesidad de guardias médicas.\n",
    "    - Coste medio de trabajadores con responsabilidad muy elevado en relación a su proporción al total de plantilla\n"
   ]
  },
  {
   "cell_type": "markdown",
   "id": "e3e7e2f4",
   "metadata": {
    "slideshow": {
     "slide_type": "subslide"
    }
   },
   "source": [
    "* Tanto la plantilla equivalente como el coste medio esta dentro de los valores esperados. Sin embargo, un cambio de la estructura de la plantilla actual a una más parecida a la de hospitales de mayor tamaño (H8 y H5) podría hacer disminuir el coste medio y, si se consigue no aumentar la plantilla equivalente, haría disminuir el gasto anual de personal."
   ]
  },
  {
   "cell_type": "code",
   "execution_count": null,
   "id": "4f2ee853",
   "metadata": {},
   "outputs": [],
   "source": []
  }
 ],
 "metadata": {
  "celltoolbar": "Slideshow",
  "kernelspec": {
   "display_name": "Python 3",
   "language": "python",
   "name": "python3"
  },
  "language_info": {
   "codemirror_mode": {
    "name": "ipython",
    "version": 3
   },
   "file_extension": ".py",
   "mimetype": "text/x-python",
   "name": "python",
   "nbconvert_exporter": "python",
   "pygments_lexer": "ipython3",
   "version": "3.8.8"
  },
  "toc": {
   "base_numbering": 1,
   "nav_menu": {},
   "number_sections": true,
   "sideBar": true,
   "skip_h1_title": false,
   "title_cell": "Table of Contents",
   "title_sidebar": "Contents",
   "toc_cell": true,
   "toc_position": {
    "height": "calc(100% - 180px)",
    "left": "10px",
    "top": "150px",
    "width": "334px"
   },
   "toc_section_display": true,
   "toc_window_display": false
  },
  "varInspector": {
   "cols": {
    "lenName": 16,
    "lenType": 16,
    "lenVar": 40
   },
   "kernels_config": {
    "python": {
     "delete_cmd_postfix": "",
     "delete_cmd_prefix": "del ",
     "library": "var_list.py",
     "varRefreshCmd": "print(var_dic_list())"
    },
    "r": {
     "delete_cmd_postfix": ") ",
     "delete_cmd_prefix": "rm(",
     "library": "var_list.r",
     "varRefreshCmd": "cat(var_dic_list()) "
    }
   },
   "types_to_exclude": [
    "module",
    "function",
    "builtin_function_or_method",
    "instance",
    "_Feature"
   ],
   "window_display": false
  }
 },
 "nbformat": 4,
 "nbformat_minor": 5
}
