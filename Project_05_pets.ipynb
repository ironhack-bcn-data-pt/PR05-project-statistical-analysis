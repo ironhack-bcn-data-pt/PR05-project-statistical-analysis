{
 "cells": [
  {
   "cell_type": "markdown",
   "id": "8a1c68b0",
   "metadata": {},
   "source": [
    "### 1 -  Importing libraries"
   ]
  },
  {
   "cell_type": "code",
   "execution_count": 1,
   "id": "5896818d",
   "metadata": {},
   "outputs": [],
   "source": [
    "# importing personal library\n",
    "import my_functions as mfu"
   ]
  },
  {
   "cell_type": "code",
   "execution_count": 2,
   "id": "1dc1e426",
   "metadata": {},
   "outputs": [],
   "source": [
    "# importing basic libraries\n",
    "import pandas as pd\n",
    "import numpy as np\n",
    "import matplotlib.pyplot as plt\n",
    "import seaborn as sns"
   ]
  },
  {
   "cell_type": "markdown",
   "id": "d281be98",
   "metadata": {},
   "source": [
    "### 2 - Collecting data"
   ]
  },
  {
   "cell_type": "code",
   "execution_count": 3,
   "id": "41600a6c",
   "metadata": {},
   "outputs": [],
   "source": [
    "train_df = pd.read_csv('train.csv')\n",
    "test_df = pd.read_csv('test.csv')\n",
    "sample_df = pd.read_csv('sample_submission.csv')"
   ]
  },
  {
   "cell_type": "code",
   "execution_count": 4,
   "id": "c276eb23",
   "metadata": {},
   "outputs": [
    {
     "data": {
      "text/plain": [
       "Index(['AnimalID', 'Name', 'DateTime', 'OutcomeType', 'OutcomeSubtype',\n",
       "       'AnimalType', 'SexuponOutcome', 'AgeuponOutcome', 'Breed', 'Color'],\n",
       "      dtype='object')"
      ]
     },
     "execution_count": 4,
     "metadata": {},
     "output_type": "execute_result"
    }
   ],
   "source": [
    "train_df.columns"
   ]
  },
  {
   "cell_type": "code",
   "execution_count": 5,
   "id": "9cb7ebeb",
   "metadata": {},
   "outputs": [
    {
     "data": {
      "text/plain": [
       "Index(['ID', 'Name', 'DateTime', 'AnimalType', 'SexuponOutcome',\n",
       "       'AgeuponOutcome', 'Breed', 'Color'],\n",
       "      dtype='object')"
      ]
     },
     "execution_count": 5,
     "metadata": {},
     "output_type": "execute_result"
    }
   ],
   "source": [
    "test_df.columns"
   ]
  },
  {
   "cell_type": "code",
   "execution_count": 6,
   "id": "f5998a8e",
   "metadata": {},
   "outputs": [],
   "source": [
    "# we join the two dfs to recover the original?\n",
    "pet_df = pd.concat([train_df,test_df])"
   ]
  },
  {
   "cell_type": "code",
   "execution_count": 7,
   "id": "a03e730d",
   "metadata": {},
   "outputs": [
    {
     "data": {
      "text/html": [
       "<div>\n",
       "<style scoped>\n",
       "    .dataframe tbody tr th:only-of-type {\n",
       "        vertical-align: middle;\n",
       "    }\n",
       "\n",
       "    .dataframe tbody tr th {\n",
       "        vertical-align: top;\n",
       "    }\n",
       "\n",
       "    .dataframe thead th {\n",
       "        text-align: right;\n",
       "    }\n",
       "</style>\n",
       "<table border=\"1\" class=\"dataframe\">\n",
       "  <thead>\n",
       "    <tr style=\"text-align: right;\">\n",
       "      <th></th>\n",
       "      <th>AnimalID</th>\n",
       "      <th>Name</th>\n",
       "      <th>DateTime</th>\n",
       "      <th>OutcomeType</th>\n",
       "      <th>OutcomeSubtype</th>\n",
       "      <th>AnimalType</th>\n",
       "      <th>SexuponOutcome</th>\n",
       "      <th>AgeuponOutcome</th>\n",
       "      <th>Breed</th>\n",
       "      <th>Color</th>\n",
       "      <th>ID</th>\n",
       "    </tr>\n",
       "  </thead>\n",
       "  <tbody>\n",
       "    <tr>\n",
       "      <th>0</th>\n",
       "      <td>A671945</td>\n",
       "      <td>Hambone</td>\n",
       "      <td>2014-02-12 18:22:00</td>\n",
       "      <td>Return_to_owner</td>\n",
       "      <td>NaN</td>\n",
       "      <td>Dog</td>\n",
       "      <td>Neutered Male</td>\n",
       "      <td>1 year</td>\n",
       "      <td>Shetland Sheepdog Mix</td>\n",
       "      <td>Brown/White</td>\n",
       "      <td>NaN</td>\n",
       "    </tr>\n",
       "    <tr>\n",
       "      <th>1</th>\n",
       "      <td>A656520</td>\n",
       "      <td>Emily</td>\n",
       "      <td>2013-10-13 12:44:00</td>\n",
       "      <td>Euthanasia</td>\n",
       "      <td>Suffering</td>\n",
       "      <td>Cat</td>\n",
       "      <td>Spayed Female</td>\n",
       "      <td>1 year</td>\n",
       "      <td>Domestic Shorthair Mix</td>\n",
       "      <td>Cream Tabby</td>\n",
       "      <td>NaN</td>\n",
       "    </tr>\n",
       "    <tr>\n",
       "      <th>2</th>\n",
       "      <td>A686464</td>\n",
       "      <td>Pearce</td>\n",
       "      <td>2015-01-31 12:28:00</td>\n",
       "      <td>Adoption</td>\n",
       "      <td>Foster</td>\n",
       "      <td>Dog</td>\n",
       "      <td>Neutered Male</td>\n",
       "      <td>2 years</td>\n",
       "      <td>Pit Bull Mix</td>\n",
       "      <td>Blue/White</td>\n",
       "      <td>NaN</td>\n",
       "    </tr>\n",
       "    <tr>\n",
       "      <th>3</th>\n",
       "      <td>A683430</td>\n",
       "      <td>NaN</td>\n",
       "      <td>2014-07-11 19:09:00</td>\n",
       "      <td>Transfer</td>\n",
       "      <td>Partner</td>\n",
       "      <td>Cat</td>\n",
       "      <td>Intact Male</td>\n",
       "      <td>3 weeks</td>\n",
       "      <td>Domestic Shorthair Mix</td>\n",
       "      <td>Blue Cream</td>\n",
       "      <td>NaN</td>\n",
       "    </tr>\n",
       "    <tr>\n",
       "      <th>4</th>\n",
       "      <td>A667013</td>\n",
       "      <td>NaN</td>\n",
       "      <td>2013-11-15 12:52:00</td>\n",
       "      <td>Transfer</td>\n",
       "      <td>Partner</td>\n",
       "      <td>Dog</td>\n",
       "      <td>Neutered Male</td>\n",
       "      <td>2 years</td>\n",
       "      <td>Lhasa Apso/Miniature Poodle</td>\n",
       "      <td>Tan</td>\n",
       "      <td>NaN</td>\n",
       "    </tr>\n",
       "    <tr>\n",
       "      <th>...</th>\n",
       "      <td>...</td>\n",
       "      <td>...</td>\n",
       "      <td>...</td>\n",
       "      <td>...</td>\n",
       "      <td>...</td>\n",
       "      <td>...</td>\n",
       "      <td>...</td>\n",
       "      <td>...</td>\n",
       "      <td>...</td>\n",
       "      <td>...</td>\n",
       "      <td>...</td>\n",
       "    </tr>\n",
       "    <tr>\n",
       "      <th>11451</th>\n",
       "      <td>NaN</td>\n",
       "      <td>NaN</td>\n",
       "      <td>2014-07-08 14:50:00</td>\n",
       "      <td>NaN</td>\n",
       "      <td>NaN</td>\n",
       "      <td>Cat</td>\n",
       "      <td>Neutered Male</td>\n",
       "      <td>2 months</td>\n",
       "      <td>Domestic Shorthair Mix</td>\n",
       "      <td>Black</td>\n",
       "      <td>11452.0</td>\n",
       "    </tr>\n",
       "    <tr>\n",
       "      <th>11452</th>\n",
       "      <td>NaN</td>\n",
       "      <td>NaN</td>\n",
       "      <td>2014-10-21 12:57:00</td>\n",
       "      <td>NaN</td>\n",
       "      <td>NaN</td>\n",
       "      <td>Cat</td>\n",
       "      <td>Intact Female</td>\n",
       "      <td>2 weeks</td>\n",
       "      <td>Domestic Shorthair Mix</td>\n",
       "      <td>Blue</td>\n",
       "      <td>11453.0</td>\n",
       "    </tr>\n",
       "    <tr>\n",
       "      <th>11453</th>\n",
       "      <td>NaN</td>\n",
       "      <td>NaN</td>\n",
       "      <td>2014-09-29 09:00:00</td>\n",
       "      <td>NaN</td>\n",
       "      <td>NaN</td>\n",
       "      <td>Cat</td>\n",
       "      <td>Intact Female</td>\n",
       "      <td>1 year</td>\n",
       "      <td>Domestic Shorthair Mix</td>\n",
       "      <td>Calico</td>\n",
       "      <td>11454.0</td>\n",
       "    </tr>\n",
       "    <tr>\n",
       "      <th>11454</th>\n",
       "      <td>NaN</td>\n",
       "      <td>Rambo</td>\n",
       "      <td>2015-09-05 17:16:00</td>\n",
       "      <td>NaN</td>\n",
       "      <td>NaN</td>\n",
       "      <td>Dog</td>\n",
       "      <td>Neutered Male</td>\n",
       "      <td>6 years</td>\n",
       "      <td>German Shepherd Mix</td>\n",
       "      <td>Black/Tan</td>\n",
       "      <td>11455.0</td>\n",
       "    </tr>\n",
       "    <tr>\n",
       "      <th>11455</th>\n",
       "      <td>NaN</td>\n",
       "      <td>Gusto</td>\n",
       "      <td>2014-07-12 18:40:00</td>\n",
       "      <td>NaN</td>\n",
       "      <td>NaN</td>\n",
       "      <td>Dog</td>\n",
       "      <td>Intact Male</td>\n",
       "      <td>4 years</td>\n",
       "      <td>Labrador Retriever</td>\n",
       "      <td>Cream</td>\n",
       "      <td>11456.0</td>\n",
       "    </tr>\n",
       "  </tbody>\n",
       "</table>\n",
       "<p>38185 rows × 11 columns</p>\n",
       "</div>"
      ],
      "text/plain": [
       "      AnimalID     Name             DateTime      OutcomeType OutcomeSubtype  \\\n",
       "0      A671945  Hambone  2014-02-12 18:22:00  Return_to_owner            NaN   \n",
       "1      A656520    Emily  2013-10-13 12:44:00       Euthanasia      Suffering   \n",
       "2      A686464   Pearce  2015-01-31 12:28:00         Adoption         Foster   \n",
       "3      A683430      NaN  2014-07-11 19:09:00         Transfer        Partner   \n",
       "4      A667013      NaN  2013-11-15 12:52:00         Transfer        Partner   \n",
       "...        ...      ...                  ...              ...            ...   \n",
       "11451      NaN      NaN  2014-07-08 14:50:00              NaN            NaN   \n",
       "11452      NaN      NaN  2014-10-21 12:57:00              NaN            NaN   \n",
       "11453      NaN      NaN  2014-09-29 09:00:00              NaN            NaN   \n",
       "11454      NaN    Rambo  2015-09-05 17:16:00              NaN            NaN   \n",
       "11455      NaN    Gusto  2014-07-12 18:40:00              NaN            NaN   \n",
       "\n",
       "      AnimalType SexuponOutcome AgeuponOutcome                        Breed  \\\n",
       "0            Dog  Neutered Male         1 year        Shetland Sheepdog Mix   \n",
       "1            Cat  Spayed Female         1 year       Domestic Shorthair Mix   \n",
       "2            Dog  Neutered Male        2 years                 Pit Bull Mix   \n",
       "3            Cat    Intact Male        3 weeks       Domestic Shorthair Mix   \n",
       "4            Dog  Neutered Male        2 years  Lhasa Apso/Miniature Poodle   \n",
       "...          ...            ...            ...                          ...   \n",
       "11451        Cat  Neutered Male       2 months       Domestic Shorthair Mix   \n",
       "11452        Cat  Intact Female        2 weeks       Domestic Shorthair Mix   \n",
       "11453        Cat  Intact Female         1 year       Domestic Shorthair Mix   \n",
       "11454        Dog  Neutered Male        6 years          German Shepherd Mix   \n",
       "11455        Dog    Intact Male        4 years           Labrador Retriever   \n",
       "\n",
       "             Color       ID  \n",
       "0      Brown/White      NaN  \n",
       "1      Cream Tabby      NaN  \n",
       "2       Blue/White      NaN  \n",
       "3       Blue Cream      NaN  \n",
       "4              Tan      NaN  \n",
       "...            ...      ...  \n",
       "11451        Black  11452.0  \n",
       "11452         Blue  11453.0  \n",
       "11453       Calico  11454.0  \n",
       "11454    Black/Tan  11455.0  \n",
       "11455        Cream  11456.0  \n",
       "\n",
       "[38185 rows x 11 columns]"
      ]
     },
     "execution_count": 7,
     "metadata": {},
     "output_type": "execute_result"
    }
   ],
   "source": [
    "# train and test have different columns... \n",
    "pet_df"
   ]
  },
  {
   "cell_type": "code",
   "execution_count": 8,
   "id": "25dc44eb",
   "metadata": {},
   "outputs": [],
   "source": [
    "# In the end, we will use train as our main df\n",
    "pet_df = train_df.copy()"
   ]
  },
  {
   "cell_type": "code",
   "execution_count": 9,
   "id": "20b3bd0d",
   "metadata": {},
   "outputs": [
    {
     "data": {
      "text/html": [
       "<div>\n",
       "<style scoped>\n",
       "    .dataframe tbody tr th:only-of-type {\n",
       "        vertical-align: middle;\n",
       "    }\n",
       "\n",
       "    .dataframe tbody tr th {\n",
       "        vertical-align: top;\n",
       "    }\n",
       "\n",
       "    .dataframe thead th {\n",
       "        text-align: right;\n",
       "    }\n",
       "</style>\n",
       "<table border=\"1\" class=\"dataframe\">\n",
       "  <thead>\n",
       "    <tr style=\"text-align: right;\">\n",
       "      <th></th>\n",
       "      <th>AnimalID</th>\n",
       "      <th>Name</th>\n",
       "      <th>DateTime</th>\n",
       "      <th>OutcomeType</th>\n",
       "      <th>OutcomeSubtype</th>\n",
       "      <th>AnimalType</th>\n",
       "      <th>SexuponOutcome</th>\n",
       "      <th>AgeuponOutcome</th>\n",
       "      <th>Breed</th>\n",
       "      <th>Color</th>\n",
       "    </tr>\n",
       "  </thead>\n",
       "  <tbody>\n",
       "    <tr>\n",
       "      <th>0</th>\n",
       "      <td>A671945</td>\n",
       "      <td>Hambone</td>\n",
       "      <td>2014-02-12 18:22:00</td>\n",
       "      <td>Return_to_owner</td>\n",
       "      <td>NaN</td>\n",
       "      <td>Dog</td>\n",
       "      <td>Neutered Male</td>\n",
       "      <td>1 year</td>\n",
       "      <td>Shetland Sheepdog Mix</td>\n",
       "      <td>Brown/White</td>\n",
       "    </tr>\n",
       "    <tr>\n",
       "      <th>1</th>\n",
       "      <td>A656520</td>\n",
       "      <td>Emily</td>\n",
       "      <td>2013-10-13 12:44:00</td>\n",
       "      <td>Euthanasia</td>\n",
       "      <td>Suffering</td>\n",
       "      <td>Cat</td>\n",
       "      <td>Spayed Female</td>\n",
       "      <td>1 year</td>\n",
       "      <td>Domestic Shorthair Mix</td>\n",
       "      <td>Cream Tabby</td>\n",
       "    </tr>\n",
       "    <tr>\n",
       "      <th>2</th>\n",
       "      <td>A686464</td>\n",
       "      <td>Pearce</td>\n",
       "      <td>2015-01-31 12:28:00</td>\n",
       "      <td>Adoption</td>\n",
       "      <td>Foster</td>\n",
       "      <td>Dog</td>\n",
       "      <td>Neutered Male</td>\n",
       "      <td>2 years</td>\n",
       "      <td>Pit Bull Mix</td>\n",
       "      <td>Blue/White</td>\n",
       "    </tr>\n",
       "    <tr>\n",
       "      <th>3</th>\n",
       "      <td>A683430</td>\n",
       "      <td>NaN</td>\n",
       "      <td>2014-07-11 19:09:00</td>\n",
       "      <td>Transfer</td>\n",
       "      <td>Partner</td>\n",
       "      <td>Cat</td>\n",
       "      <td>Intact Male</td>\n",
       "      <td>3 weeks</td>\n",
       "      <td>Domestic Shorthair Mix</td>\n",
       "      <td>Blue Cream</td>\n",
       "    </tr>\n",
       "    <tr>\n",
       "      <th>4</th>\n",
       "      <td>A667013</td>\n",
       "      <td>NaN</td>\n",
       "      <td>2013-11-15 12:52:00</td>\n",
       "      <td>Transfer</td>\n",
       "      <td>Partner</td>\n",
       "      <td>Dog</td>\n",
       "      <td>Neutered Male</td>\n",
       "      <td>2 years</td>\n",
       "      <td>Lhasa Apso/Miniature Poodle</td>\n",
       "      <td>Tan</td>\n",
       "    </tr>\n",
       "    <tr>\n",
       "      <th>...</th>\n",
       "      <td>...</td>\n",
       "      <td>...</td>\n",
       "      <td>...</td>\n",
       "      <td>...</td>\n",
       "      <td>...</td>\n",
       "      <td>...</td>\n",
       "      <td>...</td>\n",
       "      <td>...</td>\n",
       "      <td>...</td>\n",
       "      <td>...</td>\n",
       "    </tr>\n",
       "    <tr>\n",
       "      <th>26724</th>\n",
       "      <td>A702446</td>\n",
       "      <td>NaN</td>\n",
       "      <td>2015-05-14 11:56:00</td>\n",
       "      <td>Transfer</td>\n",
       "      <td>Partner</td>\n",
       "      <td>Cat</td>\n",
       "      <td>Intact Male</td>\n",
       "      <td>1 month</td>\n",
       "      <td>Domestic Shorthair Mix</td>\n",
       "      <td>Brown Tabby/White</td>\n",
       "    </tr>\n",
       "    <tr>\n",
       "      <th>26725</th>\n",
       "      <td>A718934</td>\n",
       "      <td>NaN</td>\n",
       "      <td>2016-01-20 18:59:00</td>\n",
       "      <td>Transfer</td>\n",
       "      <td>SCRP</td>\n",
       "      <td>Cat</td>\n",
       "      <td>Spayed Female</td>\n",
       "      <td>3 months</td>\n",
       "      <td>Domestic Shorthair Mix</td>\n",
       "      <td>Brown Tabby</td>\n",
       "    </tr>\n",
       "    <tr>\n",
       "      <th>26726</th>\n",
       "      <td>A698128</td>\n",
       "      <td>Zeus</td>\n",
       "      <td>2015-03-09 13:33:00</td>\n",
       "      <td>Adoption</td>\n",
       "      <td>NaN</td>\n",
       "      <td>Dog</td>\n",
       "      <td>Neutered Male</td>\n",
       "      <td>4 years</td>\n",
       "      <td>Old English Bulldog Mix</td>\n",
       "      <td>White/Tan</td>\n",
       "    </tr>\n",
       "    <tr>\n",
       "      <th>26727</th>\n",
       "      <td>A677478</td>\n",
       "      <td>NaN</td>\n",
       "      <td>2014-04-27 12:22:00</td>\n",
       "      <td>Transfer</td>\n",
       "      <td>Partner</td>\n",
       "      <td>Cat</td>\n",
       "      <td>Intact Male</td>\n",
       "      <td>4 weeks</td>\n",
       "      <td>Domestic Shorthair Mix</td>\n",
       "      <td>Black</td>\n",
       "    </tr>\n",
       "    <tr>\n",
       "      <th>26728</th>\n",
       "      <td>A706629</td>\n",
       "      <td>NaN</td>\n",
       "      <td>2015-07-02 09:00:00</td>\n",
       "      <td>Transfer</td>\n",
       "      <td>SCRP</td>\n",
       "      <td>Cat</td>\n",
       "      <td>Intact Male</td>\n",
       "      <td>1 year</td>\n",
       "      <td>Domestic Shorthair Mix</td>\n",
       "      <td>Brown Tabby/White</td>\n",
       "    </tr>\n",
       "  </tbody>\n",
       "</table>\n",
       "<p>26729 rows × 10 columns</p>\n",
       "</div>"
      ],
      "text/plain": [
       "      AnimalID     Name             DateTime      OutcomeType OutcomeSubtype  \\\n",
       "0      A671945  Hambone  2014-02-12 18:22:00  Return_to_owner            NaN   \n",
       "1      A656520    Emily  2013-10-13 12:44:00       Euthanasia      Suffering   \n",
       "2      A686464   Pearce  2015-01-31 12:28:00         Adoption         Foster   \n",
       "3      A683430      NaN  2014-07-11 19:09:00         Transfer        Partner   \n",
       "4      A667013      NaN  2013-11-15 12:52:00         Transfer        Partner   \n",
       "...        ...      ...                  ...              ...            ...   \n",
       "26724  A702446      NaN  2015-05-14 11:56:00         Transfer        Partner   \n",
       "26725  A718934      NaN  2016-01-20 18:59:00         Transfer           SCRP   \n",
       "26726  A698128     Zeus  2015-03-09 13:33:00         Adoption            NaN   \n",
       "26727  A677478      NaN  2014-04-27 12:22:00         Transfer        Partner   \n",
       "26728  A706629      NaN  2015-07-02 09:00:00         Transfer           SCRP   \n",
       "\n",
       "      AnimalType SexuponOutcome AgeuponOutcome                        Breed  \\\n",
       "0            Dog  Neutered Male         1 year        Shetland Sheepdog Mix   \n",
       "1            Cat  Spayed Female         1 year       Domestic Shorthair Mix   \n",
       "2            Dog  Neutered Male        2 years                 Pit Bull Mix   \n",
       "3            Cat    Intact Male        3 weeks       Domestic Shorthair Mix   \n",
       "4            Dog  Neutered Male        2 years  Lhasa Apso/Miniature Poodle   \n",
       "...          ...            ...            ...                          ...   \n",
       "26724        Cat    Intact Male        1 month       Domestic Shorthair Mix   \n",
       "26725        Cat  Spayed Female       3 months       Domestic Shorthair Mix   \n",
       "26726        Dog  Neutered Male        4 years      Old English Bulldog Mix   \n",
       "26727        Cat    Intact Male        4 weeks       Domestic Shorthair Mix   \n",
       "26728        Cat    Intact Male         1 year       Domestic Shorthair Mix   \n",
       "\n",
       "                   Color  \n",
       "0            Brown/White  \n",
       "1            Cream Tabby  \n",
       "2             Blue/White  \n",
       "3             Blue Cream  \n",
       "4                    Tan  \n",
       "...                  ...  \n",
       "26724  Brown Tabby/White  \n",
       "26725        Brown Tabby  \n",
       "26726          White/Tan  \n",
       "26727              Black  \n",
       "26728  Brown Tabby/White  \n",
       "\n",
       "[26729 rows x 10 columns]"
      ]
     },
     "execution_count": 9,
     "metadata": {},
     "output_type": "execute_result"
    }
   ],
   "source": [
    "pet_df"
   ]
  },
  {
   "cell_type": "markdown",
   "id": "e5b6d69d",
   "metadata": {},
   "source": [
    "### 3 - Clean the df"
   ]
  },
  {
   "cell_type": "code",
   "execution_count": 10,
   "id": "4a5aab87",
   "metadata": {},
   "outputs": [],
   "source": [
    "## if possible convert columns to numeric"
   ]
  },
  {
   "cell_type": "code",
   "execution_count": 11,
   "id": "31e9b3f8",
   "metadata": {},
   "outputs": [
    {
     "name": "stdout",
     "output_type": "stream",
     "text": [
      "AnimalID not numeric\n",
      "Name not numeric\n",
      "DateTime not numeric\n",
      "OutcomeType not numeric\n",
      "OutcomeSubtype not numeric\n",
      "AnimalType not numeric\n",
      "SexuponOutcome not numeric\n",
      "AgeuponOutcome not numeric\n",
      "Breed not numeric\n",
      "Color not numeric\n"
     ]
    }
   ],
   "source": [
    "mfu.to_num(pet_df)"
   ]
  },
  {
   "cell_type": "code",
   "execution_count": 12,
   "id": "435a2b67",
   "metadata": {},
   "outputs": [],
   "source": [
    "# trim white spaces from columns names"
   ]
  },
  {
   "cell_type": "code",
   "execution_count": 13,
   "id": "fc702ab0",
   "metadata": {},
   "outputs": [
    {
     "data": {
      "text/plain": [
       "Index(['AnimalID', 'Name', 'DateTime', 'OutcomeType', 'OutcomeSubtype',\n",
       "       'AnimalType', 'SexuponOutcome', 'AgeuponOutcome', 'Breed', 'Color'],\n",
       "      dtype='object')"
      ]
     },
     "execution_count": 13,
     "metadata": {},
     "output_type": "execute_result"
    }
   ],
   "source": [
    "pet_df.columns"
   ]
  },
  {
   "cell_type": "code",
   "execution_count": 14,
   "id": "62bbdee5",
   "metadata": {},
   "outputs": [],
   "source": [
    "mfu.strip_col(pet_df)"
   ]
  },
  {
   "cell_type": "code",
   "execution_count": 15,
   "id": "ea930edc",
   "metadata": {},
   "outputs": [
    {
     "data": {
      "text/plain": [
       "Index(['AnimalID', 'Name', 'DateTime', 'OutcomeType', 'OutcomeSubtype',\n",
       "       'AnimalType', 'SexuponOutcome', 'AgeuponOutcome', 'Breed', 'Color'],\n",
       "      dtype='object')"
      ]
     },
     "execution_count": 15,
     "metadata": {},
     "output_type": "execute_result"
    }
   ],
   "source": [
    "pet_df.columns"
   ]
  },
  {
   "cell_type": "code",
   "execution_count": 16,
   "id": "1b7dd333",
   "metadata": {},
   "outputs": [],
   "source": [
    "# drop rows with null/empty values"
   ]
  },
  {
   "cell_type": "code",
   "execution_count": 17,
   "id": "2e4e5ec9",
   "metadata": {},
   "outputs": [
    {
     "name": "stdout",
     "output_type": "stream",
     "text": [
      "<class 'pandas.core.frame.DataFrame'>\n",
      "RangeIndex: 26729 entries, 0 to 26728\n",
      "Data columns (total 10 columns):\n",
      " #   Column          Non-Null Count  Dtype \n",
      "---  ------          --------------  ----- \n",
      " 0   AnimalID        26729 non-null  object\n",
      " 1   Name            19038 non-null  object\n",
      " 2   DateTime        26729 non-null  object\n",
      " 3   OutcomeType     26729 non-null  object\n",
      " 4   OutcomeSubtype  13117 non-null  object\n",
      " 5   AnimalType      26729 non-null  object\n",
      " 6   SexuponOutcome  26728 non-null  object\n",
      " 7   AgeuponOutcome  26711 non-null  object\n",
      " 8   Breed           26729 non-null  object\n",
      " 9   Color           26729 non-null  object\n",
      "dtypes: object(10)\n",
      "memory usage: 2.0+ MB\n"
     ]
    }
   ],
   "source": [
    "pet_df.info()"
   ]
  },
  {
   "cell_type": "code",
   "execution_count": 18,
   "id": "58ca4f22",
   "metadata": {},
   "outputs": [],
   "source": [
    "mfu.dropna_row(pet_df,pet_df.columns)"
   ]
  },
  {
   "cell_type": "code",
   "execution_count": 19,
   "id": "297711bd",
   "metadata": {},
   "outputs": [
    {
     "name": "stdout",
     "output_type": "stream",
     "text": [
      "<class 'pandas.core.frame.DataFrame'>\n",
      "Int64Index: 6979 entries, 1 to 26721\n",
      "Data columns (total 10 columns):\n",
      " #   Column          Non-Null Count  Dtype \n",
      "---  ------          --------------  ----- \n",
      " 0   AnimalID        6979 non-null   object\n",
      " 1   Name            6979 non-null   object\n",
      " 2   DateTime        6979 non-null   object\n",
      " 3   OutcomeType     6979 non-null   object\n",
      " 4   OutcomeSubtype  6979 non-null   object\n",
      " 5   AnimalType      6979 non-null   object\n",
      " 6   SexuponOutcome  6979 non-null   object\n",
      " 7   AgeuponOutcome  6979 non-null   object\n",
      " 8   Breed           6979 non-null   object\n",
      " 9   Color           6979 non-null   object\n",
      "dtypes: object(10)\n",
      "memory usage: 599.8+ KB\n"
     ]
    }
   ],
   "source": [
    "pet_df.info()"
   ]
  },
  {
   "cell_type": "code",
   "execution_count": 20,
   "id": "39cb8aef",
   "metadata": {},
   "outputs": [],
   "source": [
    "### set Animal_ID as index\n",
    "pet_df.set_index('AnimalID',inplace=True)"
   ]
  },
  {
   "cell_type": "markdown",
   "id": "1f8a7b44",
   "metadata": {},
   "source": [
    "### 4 - Examine dataset"
   ]
  },
  {
   "cell_type": "code",
   "execution_count": 21,
   "id": "f2b0604a",
   "metadata": {},
   "outputs": [],
   "source": [
    "#### Distribución de animales segun especie"
   ]
  },
  {
   "cell_type": "code",
   "execution_count": 142,
   "id": "9f1fa332",
   "metadata": {},
   "outputs": [
    {
     "data": {
      "image/png": "[encoded data removed]",
      "text/plain": [
       "<Figure size 432x288 with 1 Axes>"
      ]
     },
     "metadata": {},
     "output_type": "display_data"
    }
   ],
   "source": [
    "sns.countplot(data=pet_df,x='AnimalType')\n",
    "plt.savefig('./Figures/AnimalType_countplot')"
   ]
  },
  {
   "cell_type": "code",
   "execution_count": 23,
   "id": "949fda38",
   "metadata": {},
   "outputs": [],
   "source": [
    "# check unique values from intersting columns"
   ]
  },
  {
   "cell_type": "code",
   "execution_count": 24,
   "id": "7bd7ffe7",
   "metadata": {},
   "outputs": [
    {
     "data": {
      "text/plain": [
       "array(['Euthanasia', 'Adoption', 'Transfer', 'Died'], dtype=object)"
      ]
     },
     "execution_count": 24,
     "metadata": {},
     "output_type": "execute_result"
    }
   ],
   "source": [
    "pet_df.OutcomeType.unique()"
   ]
  },
  {
   "cell_type": "code",
   "execution_count": 25,
   "id": "82275409",
   "metadata": {},
   "outputs": [
    {
     "data": {
      "text/plain": [
       "array(['Suffering', 'Foster', 'Partner', 'Aggressive', 'Rabies Risk',\n",
       "       'In Kennel', 'Medical', 'Offsite', 'Behavior', 'Barn', 'SCRP',\n",
       "       'In Foster', 'Court/Investigation', 'Enroute', 'At Vet',\n",
       "       'In Surgery'], dtype=object)"
      ]
     },
     "execution_count": 25,
     "metadata": {},
     "output_type": "execute_result"
    }
   ],
   "source": [
    "pet_df.OutcomeSubtype.unique()"
   ]
  },
  {
   "cell_type": "code",
   "execution_count": 26,
   "id": "cd354913",
   "metadata": {},
   "outputs": [
    {
     "data": {
      "text/plain": [
       "array(['Spayed Female', 'Neutered Male', 'Intact Female', 'Intact Male',\n",
       "       'Unknown'], dtype=object)"
      ]
     },
     "execution_count": 26,
     "metadata": {},
     "output_type": "execute_result"
    }
   ],
   "source": [
    "pet_df.SexuponOutcome.unique()"
   ]
  },
  {
   "cell_type": "code",
   "execution_count": 27,
   "id": "a905c62e",
   "metadata": {},
   "outputs": [
    {
     "data": {
      "text/plain": [
       "array(['1 year', '2 years', '1 month', '3 weeks', '4 years', '3 months',\n",
       "       '2 months', '4 months', '3 years', '11 years', '6 months',\n",
       "       '4 weeks', '12 years', '7 years', '7 months', '5 years',\n",
       "       '5 months', '6 years', '15 years', '9 years', '10 years',\n",
       "       '11 months', '8 months', '10 months', '8 years', '9 months',\n",
       "       '6 days', '13 years', '5 weeks', '14 years', '16 years', '3 days',\n",
       "       '1 week', '2 weeks', '17 years', '1 weeks', '18 years', '4 days',\n",
       "       '19 years', '20 years'], dtype=object)"
      ]
     },
     "execution_count": 27,
     "metadata": {},
     "output_type": "execute_result"
    }
   ],
   "source": [
    "pet_df.AgeuponOutcome.unique()"
   ]
  },
  {
   "cell_type": "code",
   "execution_count": 28,
   "id": "1b3b2477",
   "metadata": {},
   "outputs": [],
   "source": [
    "# we will try to reduce number of age parameters"
   ]
  },
  {
   "cell_type": "code",
   "execution_count": 29,
   "id": "00e878a4",
   "metadata": {},
   "outputs": [],
   "source": [
    "ind_age = pet_df[pet_df.AgeuponOutcome.isin(['10 years','11 years','12 years','13 years','14 years', '15 years', '16 years','17 years','18 years','19 years','20 years'])].index"
   ]
  },
  {
   "cell_type": "code",
   "execution_count": 30,
   "id": "f396a549",
   "metadata": {},
   "outputs": [],
   "source": [
    "for i in ind_age:\n",
    "    pet_df.loc[i,'AgeuponOutcome'] = '10 years or more'\n"
   ]
  },
  {
   "cell_type": "code",
   "execution_count": 31,
   "id": "46f40705",
   "metadata": {},
   "outputs": [
    {
     "data": {
      "text/plain": [
       "array(['1 year', '2 years', '1 month', '3 weeks', '4 years', '3 months',\n",
       "       '2 months', '4 months', '3 years', '10 years or more', '6 months',\n",
       "       '4 weeks', '7 years', '7 months', '5 years', '5 months', '6 years',\n",
       "       '9 years', '11 months', '8 months', '10 months', '8 years',\n",
       "       '9 months', '6 days', '5 weeks', '3 days', '1 week', '2 weeks',\n",
       "       '1 weeks', '4 days'], dtype=object)"
      ]
     },
     "execution_count": 31,
     "metadata": {},
     "output_type": "execute_result"
    }
   ],
   "source": [
    "pet_df.AgeuponOutcome.unique()"
   ]
  },
  {
   "cell_type": "code",
   "execution_count": 32,
   "id": "d695c3b7",
   "metadata": {},
   "outputs": [],
   "source": [
    "ind_age = pet_df[pet_df.AgeuponOutcome.isin(['1 month','4 weeks', '6 days','3 weeks', '3 days','1 week', '2 weeks','1 weeks','4 days'])].index\n"
   ]
  },
  {
   "cell_type": "code",
   "execution_count": 33,
   "id": "1287750f",
   "metadata": {},
   "outputs": [],
   "source": [
    "for i in ind_age:\n",
    "    pet_df.loc[i,'AgeuponOutcome'] = '1 month or less'"
   ]
  },
  {
   "cell_type": "code",
   "execution_count": 34,
   "id": "d521773d",
   "metadata": {},
   "outputs": [
    {
     "data": {
      "text/plain": [
       "array(['1 year', '2 years', '1 month or less', '4 years', '3 months',\n",
       "       '2 months', '4 months', '3 years', '10 years or more', '6 months',\n",
       "       '7 years', '7 months', '5 years', '5 months', '6 years', '9 years',\n",
       "       '11 months', '8 months', '10 months', '8 years', '9 months',\n",
       "       '5 weeks'], dtype=object)"
      ]
     },
     "execution_count": 34,
     "metadata": {},
     "output_type": "execute_result"
    }
   ],
   "source": [
    "pet_df.AgeuponOutcome.unique()"
   ]
  },
  {
   "cell_type": "code",
   "execution_count": 35,
   "id": "2877a327",
   "metadata": {},
   "outputs": [],
   "source": [
    "ind_age = pet_df[pet_df.AgeuponOutcome.isin(['1 year','3 months','5 months','2 months','4 months','6 months','7 months',' 5 months','11 months', '8 months','10 months','9 months','5 weeks' ])].index"
   ]
  },
  {
   "cell_type": "code",
   "execution_count": 36,
   "id": "e50f0255",
   "metadata": {},
   "outputs": [],
   "source": [
    "for i in ind_age:\n",
    "    pet_df.loc[i,'AgeuponOutcome'] = '> 1 month and < 1 year'"
   ]
  },
  {
   "cell_type": "code",
   "execution_count": 37,
   "id": "9603bc4d",
   "metadata": {},
   "outputs": [
    {
     "data": {
      "text/plain": [
       "array(['> 1 month and < 1 year', '2 years', '1 month or less', '4 years',\n",
       "       '3 years', '10 years or more', '7 years', '5 years', '6 years',\n",
       "       '9 years', '8 years'], dtype=object)"
      ]
     },
     "execution_count": 37,
     "metadata": {},
     "output_type": "execute_result"
    }
   ],
   "source": [
    "pet_df.AgeuponOutcome.unique()"
   ]
  },
  {
   "cell_type": "code",
   "execution_count": 38,
   "id": "4b9f2bdd",
   "metadata": {},
   "outputs": [],
   "source": [
    "order_bins =['1 month or less','> 1 month and < 1 year','2 years','3 years','4 years','5 years','6 years','7 years','8 years','9 years','10 years or more']\n",
    "pet_df['AgeuponOutcome_Cat'] = pd.Categorical(pet_df['AgeuponOutcome'], order_bins)\n"
   ]
  },
  {
   "cell_type": "code",
   "execution_count": 143,
   "id": "efbe07e6",
   "metadata": {},
   "outputs": [
    {
     "data": {
      "image/png": "[encoded data removed]",
      "text/plain": [
       "<Figure size 576x576 with 1 Axes>"
      ]
     },
     "metadata": {},
     "output_type": "display_data"
    }
   ],
   "source": [
    "import matplotlib.pyplot as plt\n",
    "sns.set_style(\"whitegrid\")\n",
    "fig, ax = plt.subplots()\n",
    "fig.set_size_inches(8,8)\n",
    "\n",
    "bar = sns.histplot(data=pet_df,x='AgeuponOutcome_Cat')\n",
    "                                                            \n",
    "from matplotlib.ticker import ScalarFormatter as SF\n",
    "from matplotlib.ticker import MultipleLocator as ML\n",
    "ax.xaxis.set_minor_locator(ML())\n",
    "ax.xaxis.set_minor_formatter(SF())\n",
    "ax.tick_params(axis='x',rotation=90)\n",
    "ax.set_title('Distribution of pets by Age of outcome')\n",
    "plt.savefig('./Figures/Distribution_AgeOutcome_hist')"
   ]
  },
  {
   "cell_type": "code",
   "execution_count": 144,
   "id": "99ea48c3",
   "metadata": {},
   "outputs": [
    {
     "data": {
      "image/png": "[encoded data removed]",
      "text/plain": [
       "<Figure size 576x576 with 1 Axes>"
      ]
     },
     "metadata": {},
     "output_type": "display_data"
    }
   ],
   "source": [
    "fig, ax = plt.subplots()\n",
    "fig.set_size_inches(8,8)\n",
    "bar = sns.histplot(data=pet_df[pet_df.AnimalType == 'Dog'],x='AgeuponOutcome_Cat',color='green')                                                           \n",
    "from matplotlib.ticker import ScalarFormatter as SF\n",
    "from matplotlib.ticker import MultipleLocator as ML\n",
    "ax.xaxis.set_minor_locator(ML())\n",
    "ax.xaxis.set_minor_formatter(SF())\n",
    "ax.tick_params(axis='x',rotation=90)\n",
    "ax.set_title('Distribution of dogs by Age of outcome')\n",
    "plt.savefig('./Figures/Distribution_AgeOutcomeDogs_hist')"
   ]
  },
  {
   "cell_type": "code",
   "execution_count": 145,
   "id": "774f73e6",
   "metadata": {},
   "outputs": [
    {
     "data": {
      "image/png": "[encoded data removed]",
      "text/plain": [
       "<Figure size 576x576 with 1 Axes>"
      ]
     },
     "metadata": {},
     "output_type": "display_data"
    }
   ],
   "source": [
    "fig, ax = plt.subplots()\n",
    "fig.set_size_inches(8,8)\n",
    "bar = sns.histplot(data=pet_df[pet_df.AnimalType == 'Cat'],x='AgeuponOutcome_Cat',color='orange')                                                           \n",
    "from matplotlib.ticker import ScalarFormatter as SF\n",
    "from matplotlib.ticker import MultipleLocator as ML\n",
    "ax.xaxis.set_minor_locator(ML())\n",
    "ax.xaxis.set_minor_formatter(SF())\n",
    "ax.tick_params(axis='x',rotation=90)\n",
    "ax.set_title('Distribution of cats by Age of outcome')\n",
    "plt.savefig('./Figures/Distribution_AgeOutcomeCats_hist')"
   ]
  },
  {
   "cell_type": "markdown",
   "id": "eb6b09aa",
   "metadata": {},
   "source": [
    "### parece que la mayoria de Outcomes ocurren cuando los animales tienen más de 1 mes pero menos de 1 año"
   ]
  },
  {
   "cell_type": "code",
   "execution_count": 166,
   "id": "9bfd8c2c",
   "metadata": {},
   "outputs": [
    {
     "data": {
      "image/png": "[encoded data removed]",
      "text/plain": [
       "<Figure size 432x288 with 1 Axes>"
      ]
     },
     "metadata": {},
     "output_type": "display_data"
    }
   ],
   "source": [
    "sns.histplot(data=pet_df[pet_df['AgeuponOutcome_Cat'] == '> 1 month and < 1 year'], x='OutcomeType')\n",
    "plt.title('> 1 month and < 1 year')\n",
    "plt.savefig('./Figures/PuppyOutcome_hist')\n"
   ]
  },
  {
   "cell_type": "markdown",
   "id": "d4bc5e7c",
   "metadata": {},
   "source": [
    "#### la gran mayoria de Outcomes son \"positivos\": adopciones definitivas o transferencias de custodio"
   ]
  },
  {
   "cell_type": "markdown",
   "id": "f0e3fee4",
   "metadata": {},
   "source": [
    "### procedemos a ver que pasa a partir de los 2 años"
   ]
  },
  {
   "cell_type": "code",
   "execution_count": 167,
   "id": "2811bf10",
   "metadata": {},
   "outputs": [
    {
     "data": {
      "image/png": "[encoded data removed]",
      "text/plain": [
       "<Figure size 432x288 with 1 Axes>"
      ]
     },
     "metadata": {},
     "output_type": "display_data"
    }
   ],
   "source": [
    "sns.histplot(data=pet_df[pet_df['AgeuponOutcome_Cat'].isin(['2 years','3 years','4 years','5 years',\n",
    "                                                           '6 years','7 years','8 years','9 years',\n",
    "                                                            '10 years or more'])], x='OutcomeType')\n",
    "plt.title('2 years and more')\n",
    "plt.savefig('./Figures/OlderOutcome_hist')"
   ]
  },
  {
   "cell_type": "markdown",
   "id": "dbc11609",
   "metadata": {},
   "source": [
    "#### parece que la conforme la edad aumenta ,  las adopciones disminuyen y las eutanasias aumentan"
   ]
  },
  {
   "cell_type": "code",
   "execution_count": 168,
   "id": "b275cf08",
   "metadata": {},
   "outputs": [
    {
     "name": "stderr",
     "output_type": "stream",
     "text": [
      "/var/folders/34/shcpc0k13hndsp05mm2j01th0000gn/T/ipykernel_24061/3590736471.py:3: UserWarning: FixedFormatter should only be used together with FixedLocator\n",
      "  _plot.set_xticklabels(labels=['1 month or less','> 1 month and < 1 year','2 years',\n"
     ]
    },
    {
     "data": {
      "image/png": "[encoded data removed]",
      "text/plain": [
       "<Figure size 720x720 with 1 Axes>"
      ]
     },
     "metadata": {},
     "output_type": "display_data"
    }
   ],
   "source": [
    "plt.figure(figsize=(10,10))\n",
    "_plot = sns.histplot(data=pet_df,x='AgeuponOutcome_Cat',hue='OutcomeType',kde=True)\n",
    "_plot.set_xticklabels(labels=['1 month or less','> 1 month and < 1 year','2 years',\n",
    "                             '3 years','4 years','5 years',\n",
    "                             '6 years','7 years','8 years',\n",
    "                             '9 years','10 years or more'] , rotation=90, horizontalalignment='right')\n",
    "\n",
    "plt.title('Outcome by Age')\n",
    "plt.savefig('./Figures/AgeOutcomeKde_hist')"
   ]
  },
  {
   "cell_type": "markdown",
   "id": "41d533a6",
   "metadata": {},
   "source": [
    "### todo parece indicar que la edad tiene una correlación negativa con el indice de adopción y quizá positiva con la eutanasia"
   ]
  },
  {
   "cell_type": "code",
   "execution_count": 169,
   "id": "89b41a25",
   "metadata": {},
   "outputs": [
    {
     "data": {
      "image/png": "[encoded data removed]",
      "text/plain": [
       "<Figure size 576x432 with 2 Axes>"
      ]
     },
     "metadata": {},
     "output_type": "display_data"
    }
   ],
   "source": [
    "plt.figure(figsize=(8,6))\n",
    "cross_outage = pd.crosstab(pet_df.OutcomeType[pet_df.OutcomeType.isin(['Adoption','Euthanasia'])],pet_df.AgeuponOutcome_Cat)\n",
    "sns.heatmap(cross_outage,cmap='Blues',annot=True)\n",
    "plt.title('Adoption/Euthanasia age correlation')\n",
    "plt.savefig('./Figures/AgeAdoptionEuthanasia_heatmap')"
   ]
  },
  {
   "cell_type": "code",
   "execution_count": 46,
   "id": "c8f166e1",
   "metadata": {},
   "outputs": [],
   "source": [
    "from scipy.stats import chi2_contingency \n",
    "OutcomeAge = cross_outage\n",
    "value = np.array([OutcomeAge.iloc[0][0:].values,\n",
    "                  OutcomeAge.iloc[1][0:].values\n",
    "                  \n",
    "                 ])"
   ]
  },
  {
   "cell_type": "code",
   "execution_count": 47,
   "id": "644c78c5",
   "metadata": {},
   "outputs": [],
   "source": [
    "z,p, degrees = chi2_contingency(value)[0:3]"
   ]
  },
  {
   "cell_type": "code",
   "execution_count": 48,
   "id": "24fe7842",
   "metadata": {},
   "outputs": [
    {
     "name": "stdout",
     "output_type": "stream",
     "text": [
      "z-statistic is 641.1999082697452\n",
      "p is 2.5958942119601065e-131\n",
      "degrees of freedom are 10\n"
     ]
    }
   ],
   "source": [
    "print(f'z-statistic is {z}\\np is {p}\\ndegrees of freedom are {degrees}')\n"
   ]
  },
  {
   "cell_type": "markdown",
   "id": "45196671",
   "metadata": {},
   "source": [
    "#### ya que p < 0.05 rechazamos Hipotesis de que las variables edad y destino del animal son independientes"
   ]
  },
  {
   "cell_type": "markdown",
   "id": "7b6b84f9",
   "metadata": {},
   "source": [
    "### influencia del sexo en adopciones"
   ]
  },
  {
   "cell_type": "code",
   "execution_count": 49,
   "id": "186d416a",
   "metadata": {},
   "outputs": [
    {
     "data": {
      "text/plain": [
       "array(['Spayed Female', 'Neutered Male', 'Intact Female', 'Intact Male',\n",
       "       'Unknown'], dtype=object)"
      ]
     },
     "execution_count": 49,
     "metadata": {},
     "output_type": "execute_result"
    }
   ],
   "source": [
    "pet_df.SexuponOutcome.unique()"
   ]
  },
  {
   "cell_type": "markdown",
   "id": "9b28650b",
   "metadata": {},
   "source": [
    "#### separaremos la columna sexuponoutcome en dos: sexo y esterilizado"
   ]
  },
  {
   "cell_type": "code",
   "execution_count": 50,
   "id": "d2f57c7e",
   "metadata": {},
   "outputs": [],
   "source": [
    "for i in pet_df.index:\n",
    "    if pet_df.loc[i,'SexuponOutcome'].__contains__('Male'):\n",
    "        pet_df.loc[i,'Sex'] = 'Male'\n",
    "    else:\n",
    "        pet_df.loc[i,'Sex'] = 'Female'"
   ]
  },
  {
   "cell_type": "code",
   "execution_count": 51,
   "id": "2f8051e1",
   "metadata": {},
   "outputs": [],
   "source": [
    "for i in pet_df.index:\n",
    "    if pet_df.loc[i,'SexuponOutcome'].__contains__('Intact'):\n",
    "        pet_df.loc[i,'Neutered'] = False\n",
    "    else:\n",
    "        pet_df.loc[i,'Neutered'] = True"
   ]
  },
  {
   "cell_type": "code",
   "execution_count": 52,
   "id": "ce8123ae",
   "metadata": {},
   "outputs": [
    {
     "data": {
      "text/html": [
       "<div>\n",
       "<style scoped>\n",
       "    .dataframe tbody tr th:only-of-type {\n",
       "        vertical-align: middle;\n",
       "    }\n",
       "\n",
       "    .dataframe tbody tr th {\n",
       "        vertical-align: top;\n",
       "    }\n",
       "\n",
       "    .dataframe thead th {\n",
       "        text-align: right;\n",
       "    }\n",
       "</style>\n",
       "<table border=\"1\" class=\"dataframe\">\n",
       "  <thead>\n",
       "    <tr style=\"text-align: right;\">\n",
       "      <th></th>\n",
       "      <th>Name</th>\n",
       "      <th>DateTime</th>\n",
       "      <th>OutcomeType</th>\n",
       "      <th>OutcomeSubtype</th>\n",
       "      <th>AnimalType</th>\n",
       "      <th>SexuponOutcome</th>\n",
       "      <th>AgeuponOutcome</th>\n",
       "      <th>Breed</th>\n",
       "      <th>Color</th>\n",
       "      <th>AgeuponOutcome_Cat</th>\n",
       "      <th>Sex</th>\n",
       "      <th>Neutered</th>\n",
       "    </tr>\n",
       "    <tr>\n",
       "      <th>AnimalID</th>\n",
       "      <th></th>\n",
       "      <th></th>\n",
       "      <th></th>\n",
       "      <th></th>\n",
       "      <th></th>\n",
       "      <th></th>\n",
       "      <th></th>\n",
       "      <th></th>\n",
       "      <th></th>\n",
       "      <th></th>\n",
       "      <th></th>\n",
       "      <th></th>\n",
       "    </tr>\n",
       "  </thead>\n",
       "  <tbody>\n",
       "    <tr>\n",
       "      <th>A656520</th>\n",
       "      <td>Emily</td>\n",
       "      <td>2013-10-13 12:44:00</td>\n",
       "      <td>Euthanasia</td>\n",
       "      <td>Suffering</td>\n",
       "      <td>Cat</td>\n",
       "      <td>Spayed Female</td>\n",
       "      <td>&gt; 1 month and &lt; 1 year</td>\n",
       "      <td>Domestic Shorthair Mix</td>\n",
       "      <td>Cream Tabby</td>\n",
       "      <td>&gt; 1 month and &lt; 1 year</td>\n",
       "      <td>Female</td>\n",
       "      <td>True</td>\n",
       "    </tr>\n",
       "    <tr>\n",
       "      <th>A686464</th>\n",
       "      <td>Pearce</td>\n",
       "      <td>2015-01-31 12:28:00</td>\n",
       "      <td>Adoption</td>\n",
       "      <td>Foster</td>\n",
       "      <td>Dog</td>\n",
       "      <td>Neutered Male</td>\n",
       "      <td>2 years</td>\n",
       "      <td>Pit Bull Mix</td>\n",
       "      <td>Blue/White</td>\n",
       "      <td>2 years</td>\n",
       "      <td>Male</td>\n",
       "      <td>True</td>\n",
       "    </tr>\n",
       "    <tr>\n",
       "      <th>A677334</th>\n",
       "      <td>Elsa</td>\n",
       "      <td>2014-04-25 13:04:00</td>\n",
       "      <td>Transfer</td>\n",
       "      <td>Partner</td>\n",
       "      <td>Dog</td>\n",
       "      <td>Intact Female</td>\n",
       "      <td>1 month or less</td>\n",
       "      <td>Cairn Terrier/Chihuahua Shorthair</td>\n",
       "      <td>Black/Tan</td>\n",
       "      <td>1 month or less</td>\n",
       "      <td>Female</td>\n",
       "      <td>False</td>\n",
       "    </tr>\n",
       "    <tr>\n",
       "      <th>A699218</th>\n",
       "      <td>Jimmy</td>\n",
       "      <td>2015-03-28 13:11:00</td>\n",
       "      <td>Transfer</td>\n",
       "      <td>Partner</td>\n",
       "      <td>Cat</td>\n",
       "      <td>Intact Male</td>\n",
       "      <td>1 month or less</td>\n",
       "      <td>Domestic Shorthair Mix</td>\n",
       "      <td>Blue Tabby</td>\n",
       "      <td>1 month or less</td>\n",
       "      <td>Male</td>\n",
       "      <td>False</td>\n",
       "    </tr>\n",
       "    <tr>\n",
       "      <th>A684601</th>\n",
       "      <td>Rocket</td>\n",
       "      <td>2016-02-03 11:27:00</td>\n",
       "      <td>Adoption</td>\n",
       "      <td>Foster</td>\n",
       "      <td>Dog</td>\n",
       "      <td>Neutered Male</td>\n",
       "      <td>4 years</td>\n",
       "      <td>Pit Bull Mix</td>\n",
       "      <td>Brown</td>\n",
       "      <td>4 years</td>\n",
       "      <td>Male</td>\n",
       "      <td>True</td>\n",
       "    </tr>\n",
       "  </tbody>\n",
       "</table>\n",
       "</div>"
      ],
      "text/plain": [
       "            Name             DateTime OutcomeType OutcomeSubtype AnimalType  \\\n",
       "AnimalID                                                                      \n",
       "A656520    Emily  2013-10-13 12:44:00  Euthanasia      Suffering        Cat   \n",
       "A686464   Pearce  2015-01-31 12:28:00    Adoption         Foster        Dog   \n",
       "A677334     Elsa  2014-04-25 13:04:00    Transfer        Partner        Dog   \n",
       "A699218    Jimmy  2015-03-28 13:11:00    Transfer        Partner        Cat   \n",
       "A684601   Rocket  2016-02-03 11:27:00    Adoption         Foster        Dog   \n",
       "\n",
       "         SexuponOutcome          AgeuponOutcome  \\\n",
       "AnimalID                                          \n",
       "A656520   Spayed Female  > 1 month and < 1 year   \n",
       "A686464   Neutered Male                 2 years   \n",
       "A677334   Intact Female         1 month or less   \n",
       "A699218     Intact Male         1 month or less   \n",
       "A684601   Neutered Male                 4 years   \n",
       "\n",
       "                                      Breed        Color  \\\n",
       "AnimalID                                                   \n",
       "A656520              Domestic Shorthair Mix  Cream Tabby   \n",
       "A686464                        Pit Bull Mix   Blue/White   \n",
       "A677334   Cairn Terrier/Chihuahua Shorthair    Black/Tan   \n",
       "A699218              Domestic Shorthair Mix   Blue Tabby   \n",
       "A684601                        Pit Bull Mix        Brown   \n",
       "\n",
       "              AgeuponOutcome_Cat     Sex Neutered  \n",
       "AnimalID                                           \n",
       "A656520   > 1 month and < 1 year  Female     True  \n",
       "A686464                  2 years    Male     True  \n",
       "A677334          1 month or less  Female    False  \n",
       "A699218          1 month or less    Male    False  \n",
       "A684601                  4 years    Male     True  "
      ]
     },
     "execution_count": 52,
     "metadata": {},
     "output_type": "execute_result"
    }
   ],
   "source": [
    "pet_df.head()"
   ]
  },
  {
   "cell_type": "code",
   "execution_count": 150,
   "id": "d9068772",
   "metadata": {},
   "outputs": [
    {
     "data": {
      "image/png": "[encoded data removed]",
      "text/plain": [
       "<Figure size 288x360 with 1 Axes>"
      ]
     },
     "metadata": {},
     "output_type": "display_data"
    }
   ],
   "source": [
    "plt.figure(figsize=(4,5))\n",
    "sns.countplot(data=pet_df,x='Sex')\n",
    "plt.title('Distribución por sexos')\n",
    "plt.savefig('./Figures/SexDistribution_countplot')"
   ]
  },
  {
   "cell_type": "code",
   "execution_count": 54,
   "id": "a2594130",
   "metadata": {},
   "outputs": [],
   "source": [
    "cross_sex = pd.crosstab(pet_df.OutcomeType,pet_df.Sex)"
   ]
  },
  {
   "cell_type": "code",
   "execution_count": 152,
   "id": "09ceae2e",
   "metadata": {},
   "outputs": [
    {
     "data": {
      "image/png": "[encoded data removed]",
      "text/plain": [
       "<Figure size 432x288 with 2 Axes>"
      ]
     },
     "metadata": {},
     "output_type": "display_data"
    }
   ],
   "source": [
    "sns.heatmap(cross_sex,cmap='Blues',annot=True)\n",
    "plt.savefig('./Figures/SexOutcome_heatmap')"
   ]
  },
  {
   "cell_type": "code",
   "execution_count": 56,
   "id": "39a04c8d",
   "metadata": {},
   "outputs": [],
   "source": [
    "from scipy.stats import chi2_contingency \n",
    "OutcomeSex = cross_sex\n",
    "value = np.array([OutcomeSex.iloc[0][0:].values,\n",
    "                  OutcomeSex.iloc[1][0:].values\n",
    "                  \n",
    "                 ])"
   ]
  },
  {
   "cell_type": "code",
   "execution_count": 57,
   "id": "d0c8d6b6",
   "metadata": {},
   "outputs": [],
   "source": [
    "z,p,degrees = chi2_contingency(value)[0:3]"
   ]
  },
  {
   "cell_type": "code",
   "execution_count": 58,
   "id": "a4fb522d",
   "metadata": {},
   "outputs": [
    {
     "name": "stdout",
     "output_type": "stream",
     "text": [
      "z-statistic is 4.038118090781289\n",
      "p is 0.04448340078070572\n",
      "degrees of freedom are 1\n"
     ]
    }
   ],
   "source": [
    "print(f'z-statistic is {z}\\np is {p}\\ndegrees of freedom are {degrees}')"
   ]
  },
  {
   "cell_type": "code",
   "execution_count": 59,
   "id": "1e54c26d",
   "metadata": {},
   "outputs": [
    {
     "name": "stdout",
     "output_type": "stream",
     "text": [
      "since 0.04448340078070572 is slightly < 0.05 , we can say the variables sex and outcome are not indepedent\n"
     ]
    }
   ],
   "source": [
    "print(f'since {p} is slightly < 0.05 , we can say the variables sex and outcome are not indepedent')"
   ]
  },
  {
   "cell_type": "markdown",
   "id": "179fd50f",
   "metadata": {},
   "source": [
    "### Ver que color es el menos adoptado. "
   ]
  },
  {
   "cell_type": "markdown",
   "id": "4eee4e69",
   "metadata": {},
   "source": [
    "#### Distribución de los colores más tipicos"
   ]
  },
  {
   "cell_type": "code",
   "execution_count": 153,
   "id": "4217ce42",
   "metadata": {},
   "outputs": [
    {
     "data": {
      "text/plain": [
       "<Figure size 720x720 with 0 Axes>"
      ]
     },
     "metadata": {},
     "output_type": "display_data"
    },
    {
     "data": {
      "image/png": "[encoded data removed]",
      "text/plain": [
       "<Figure size 420.375x360 with 1 Axes>"
      ]
     },
     "metadata": {},
     "output_type": "display_data"
    }
   ],
   "source": [
    "plt.figure(figsize=(10,10))\n",
    "sns.set_style(\"whitegrid\")\n",
    "_plot = sns.catplot(data=pet_df[pet_df.Color.isin(pet_df.Color.value_counts().nlargest(14).index)],x='Color',kind='count',hue='AnimalType')\n",
    "_plot.set_xticklabels( rotation=90, horizontalalignment='right')\n",
    "plt.savefig('./Figures/TopColors_catplot')"
   ]
  },
  {
   "cell_type": "markdown",
   "id": "4015c434",
   "metadata": {},
   "source": [
    "#### Si intentamos ver cual es el color \"suelto\" más presente en perreras"
   ]
  },
  {
   "cell_type": "code",
   "execution_count": 61,
   "id": "0236e70d",
   "metadata": {},
   "outputs": [
    {
     "data": {
      "text/plain": [
       "array(['Cream Tabby', 'Blue/White', 'Black/Tan', 'Blue Tabby', 'Brown',\n",
       "       'Orange Tabby/White', 'White', 'Black/White', 'Orange Tabby',\n",
       "       'Brown Tabby', 'Brown/Black', 'Black', 'Buff',\n",
       "       'Brown Brindle/White', 'Tan', 'Seal Point', 'Brown Brindle',\n",
       "       'White/Black', 'Torbie', 'Yellow Brindle/White', 'White/Brown',\n",
       "       'Calico', 'Flame Point', 'Tricolor', 'Brown Tabby/White',\n",
       "       'Brown/White', 'Red', 'Black Tabby/White', 'Tortie', 'Tan/White',\n",
       "       'White/Tan', 'Yellow', 'Brown Tiger/White', 'Blue Merle/White',\n",
       "       'Blue', 'Buff/Tan', 'Chocolate/White', 'Lilac Point',\n",
       "       'White/Orange Tabby', 'Tortie/White', 'White/Cream Tabby',\n",
       "       'Blue Tiger/White', 'Gray', 'Blue Tick', 'Black/Brown', 'Sable',\n",
       "       'White/Gray', 'White/Blue', 'Cream Tabby/White', 'Brown/Tan',\n",
       "       'Red/White', 'Tan/Black', 'Torbie/White', 'Blue Tabby/Orange',\n",
       "       'Blue Point', 'Yellow/White', 'Cream', 'Blue Cream/Blue Tiger',\n",
       "       'Blue Merle/Gray', 'Chocolate/Tan', 'Tortie Point/Lynx Point',\n",
       "       'Black Brindle/White', 'Lynx Point', 'Blue Tabby/White', 'Fawn',\n",
       "       'Black Tabby', 'Brown Merle', 'White/Red', 'White/Brown Brindle',\n",
       "       'Brown/Brown', 'Fawn/White', 'Cream/White', 'White/Cream',\n",
       "       'Blue/Tan', 'Chocolate', 'Brown Brindle/Black', 'Blue Merle',\n",
       "       'Black/Tricolor', 'Gray/White', 'Red Tick/White', 'Silver/Brown',\n",
       "       'Black/Brown Brindle', 'Black Smoke/White', 'Black Brindle',\n",
       "       'Black/Blue Merle', 'Brown/Tricolor', 'Silver Tabby',\n",
       "       'White/White', 'Red Merle', 'White/Tricolor', 'Buff/White',\n",
       "       'Tortie Point', 'White/Chocolate', 'White/Brown Tabby',\n",
       "       'Sable/White', 'Red/Gold', 'White/Buff', 'Blue Tabby/Blue Cream',\n",
       "       'Seal Point/White', 'Tan/Brown', 'Gold', 'Black/Black',\n",
       "       'White/Blue Cream', 'Blue Point/White', 'Sable/Black',\n",
       "       'White/Orange', 'Calico Point', 'Red/Black', 'Fawn/Tricolor',\n",
       "       'Tortie/Blue Cream', 'Black Smoke', 'Sable/Brown', 'Buff/Red',\n",
       "       'Tan/Brown Brindle', 'Calico/Brown Tabby', 'Blue Tick/White',\n",
       "       'Blue Merle/Brown', 'Orange/Tan', 'Fawn/Black',\n",
       "       'White/Black Brindle', 'Blue Tick/Black', 'Red/Cream', 'Orange',\n",
       "       'Red Merle/White', 'Red/Blue', 'Blue Smoke/Brown', 'Black/Red',\n",
       "       'Gold/White', 'Buff/Black', 'Brown Merle/Black', 'Black/Gray',\n",
       "       'White/Blue Merle', 'Chocolate Point', 'Chocolate Point/White',\n",
       "       'Tortie/Brown', 'Blue Merle/Tan', 'Tan/Tan',\n",
       "       'Chocolate/Black Smoke', 'White/Brown Merle', 'Brown/Red',\n",
       "       'Tricolor/White', 'Calico/White', 'White/Yellow', 'Yellow Brindle',\n",
       "       'Lynx Point/Brown Tabby', 'Torbie/Brown', 'Chocolate/Black',\n",
       "       'Brown Tabby/Black', 'Black/Blue', 'Gray/Silver',\n",
       "       'Blue/Brown Brindle', 'Silver Lynx Point', 'Blue Merle/Tricolor',\n",
       "       'Red/Tan', 'Tortie/Black', 'White/Blue Tabby', 'Chocolate/Red',\n",
       "       'Tan/Buff', 'Tan/Cream', 'Calico/Black', 'Blue Merle/Black',\n",
       "       'Gray Tabby/White', 'Red/Tricolor', 'Red Tick', 'Silver/Tan',\n",
       "       'Tricolor/Chocolate', 'Gold/Gold', 'Brown/Gray',\n",
       "       'Red Tick/Blue Tick', 'Seal Point/Brown', 'Tan/Silver',\n",
       "       'Brown Merle/White', 'Blue Cream/Buff', 'Black Brindle/Brown',\n",
       "       'Blue/Orange', 'White/Pink', 'Sable/Cream', 'Sable/Tan',\n",
       "       'Blue/Black', 'Cream/Tan', 'White/Liver', 'Orange/White',\n",
       "       'Blue Tick/Red Tick', 'Brown Brindle/Blue', 'Blue Merle/Red',\n",
       "       'Blue/Brown', 'Calico/Orange Tabby', 'Cream/Gray',\n",
       "       'Tricolor/Brown', 'Apricot/Brown', 'Tan/Blue', 'Cream/Black',\n",
       "       'Apricot', 'Fawn/Brown', 'Blue Cream', 'White/Red Tick',\n",
       "       'Gray/Black', 'White/Blue Tick', 'Gray/Red', 'Tricolor/Black',\n",
       "       'Silver Tabby/White', 'Blue Tick/Brown Brindle',\n",
       "       'Liver Tick/White', 'Gray/Tan', 'Lynx Point/Gray Tabby',\n",
       "       'Tan/Tricolor', 'Brown/Cream', 'Silver Tabby/Black', 'White/Gold',\n",
       "       'Tortie/Black Smoke', 'Black/Black Brindle', 'Black/Brown Merle',\n",
       "       'Tan/Gray', 'Lynx Point/White', 'Brown Tiger', 'Liver Tick',\n",
       "       'Brown Tabby/Orange', 'Red/Buff', 'Tan/Yellow Brindle', 'Fawn/Tan',\n",
       "       'Black Brindle/Brown Brindle', 'Calico/Blue Tabby', 'Orange Tiger',\n",
       "       'Gold/Buff', 'Fawn/Blue', 'Black/Cream'], dtype=object)"
      ]
     },
     "execution_count": 61,
     "metadata": {},
     "output_type": "execute_result"
    }
   ],
   "source": [
    "pet_df.Color.unique() ## necesario bag of words"
   ]
  },
  {
   "cell_type": "code",
   "execution_count": 62,
   "id": "8f2b410e",
   "metadata": {},
   "outputs": [],
   "source": [
    "# we split all colors that contain \"/\" in different words\n",
    "bog_split = []\n",
    "for j in [i.split('/') for i in pet_df.Color.unique()]:\n",
    "    for x in j:\n",
    "        bog_split.append(x)"
   ]
  },
  {
   "cell_type": "code",
   "execution_count": 63,
   "id": "f021f431",
   "metadata": {},
   "outputs": [
    {
     "data": {
      "text/plain": [
       "['Cream Tabby',\n",
       " 'Blue',\n",
       " 'White',\n",
       " 'Black',\n",
       " 'Tan',\n",
       " 'Blue Tabby',\n",
       " 'Brown',\n",
       " 'Orange Tabby',\n",
       " 'White',\n",
       " 'White',\n",
       " 'Black',\n",
       " 'White',\n",
       " 'Orange Tabby',\n",
       " 'Brown Tabby',\n",
       " 'Brown',\n",
       " 'Black',\n",
       " 'Black',\n",
       " 'Buff',\n",
       " 'Brown Brindle',\n",
       " 'White',\n",
       " 'Tan',\n",
       " 'Seal Point',\n",
       " 'Brown Brindle',\n",
       " 'White',\n",
       " 'Black',\n",
       " 'Torbie',\n",
       " 'Yellow Brindle',\n",
       " 'White',\n",
       " 'White',\n",
       " 'Brown',\n",
       " 'Calico',\n",
       " 'Flame Point',\n",
       " 'Tricolor',\n",
       " 'Brown Tabby',\n",
       " 'White',\n",
       " 'Brown',\n",
       " 'White',\n",
       " 'Red',\n",
       " 'Black Tabby',\n",
       " 'White',\n",
       " 'Tortie',\n",
       " 'Tan',\n",
       " 'White',\n",
       " 'White',\n",
       " 'Tan',\n",
       " 'Yellow',\n",
       " 'Brown Tiger',\n",
       " 'White',\n",
       " 'Blue Merle',\n",
       " 'White',\n",
       " 'Blue',\n",
       " 'Buff',\n",
       " 'Tan',\n",
       " 'Chocolate',\n",
       " 'White',\n",
       " 'Lilac Point',\n",
       " 'White',\n",
       " 'Orange Tabby',\n",
       " 'Tortie',\n",
       " 'White',\n",
       " 'White',\n",
       " 'Cream Tabby',\n",
       " 'Blue Tiger',\n",
       " 'White',\n",
       " 'Gray',\n",
       " 'Blue Tick',\n",
       " 'Black',\n",
       " 'Brown',\n",
       " 'Sable',\n",
       " 'White',\n",
       " 'Gray',\n",
       " 'White',\n",
       " 'Blue',\n",
       " 'Cream Tabby',\n",
       " 'White',\n",
       " 'Brown',\n",
       " 'Tan',\n",
       " 'Red',\n",
       " 'White',\n",
       " 'Tan',\n",
       " 'Black',\n",
       " 'Torbie',\n",
       " 'White',\n",
       " 'Blue Tabby',\n",
       " 'Orange',\n",
       " 'Blue Point',\n",
       " 'Yellow',\n",
       " 'White',\n",
       " 'Cream',\n",
       " 'Blue Cream',\n",
       " 'Blue Tiger',\n",
       " 'Blue Merle',\n",
       " 'Gray',\n",
       " 'Chocolate',\n",
       " 'Tan',\n",
       " 'Tortie Point',\n",
       " 'Lynx Point',\n",
       " 'Black Brindle',\n",
       " 'White',\n",
       " 'Lynx Point',\n",
       " 'Blue Tabby',\n",
       " 'White',\n",
       " 'Fawn',\n",
       " 'Black Tabby',\n",
       " 'Brown Merle',\n",
       " 'White',\n",
       " 'Red',\n",
       " 'White',\n",
       " 'Brown Brindle',\n",
       " 'Brown',\n",
       " 'Brown',\n",
       " 'Fawn',\n",
       " 'White',\n",
       " 'Cream',\n",
       " 'White',\n",
       " 'White',\n",
       " 'Cream',\n",
       " 'Blue',\n",
       " 'Tan',\n",
       " 'Chocolate',\n",
       " 'Brown Brindle',\n",
       " 'Black',\n",
       " 'Blue Merle',\n",
       " 'Black',\n",
       " 'Tricolor',\n",
       " 'Gray',\n",
       " 'White',\n",
       " 'Red Tick',\n",
       " 'White',\n",
       " 'Silver',\n",
       " 'Brown',\n",
       " 'Black',\n",
       " 'Brown Brindle',\n",
       " 'Black Smoke',\n",
       " 'White',\n",
       " 'Black Brindle',\n",
       " 'Black',\n",
       " 'Blue Merle',\n",
       " 'Brown',\n",
       " 'Tricolor',\n",
       " 'Silver Tabby',\n",
       " 'White',\n",
       " 'White',\n",
       " 'Red Merle',\n",
       " 'White',\n",
       " 'Tricolor',\n",
       " 'Buff',\n",
       " 'White',\n",
       " 'Tortie Point',\n",
       " 'White',\n",
       " 'Chocolate',\n",
       " 'White',\n",
       " 'Brown Tabby',\n",
       " 'Sable',\n",
       " 'White',\n",
       " 'Red',\n",
       " 'Gold',\n",
       " 'White',\n",
       " 'Buff',\n",
       " 'Blue Tabby',\n",
       " 'Blue Cream',\n",
       " 'Seal Point',\n",
       " 'White',\n",
       " 'Tan',\n",
       " 'Brown',\n",
       " 'Gold',\n",
       " 'Black',\n",
       " 'Black',\n",
       " 'White',\n",
       " 'Blue Cream',\n",
       " 'Blue Point',\n",
       " 'White',\n",
       " 'Sable',\n",
       " 'Black',\n",
       " 'White',\n",
       " 'Orange',\n",
       " 'Calico Point',\n",
       " 'Red',\n",
       " 'Black',\n",
       " 'Fawn',\n",
       " 'Tricolor',\n",
       " 'Tortie',\n",
       " 'Blue Cream',\n",
       " 'Black Smoke',\n",
       " 'Sable',\n",
       " 'Brown',\n",
       " 'Buff',\n",
       " 'Red',\n",
       " 'Tan',\n",
       " 'Brown Brindle',\n",
       " 'Calico',\n",
       " 'Brown Tabby',\n",
       " 'Blue Tick',\n",
       " 'White',\n",
       " 'Blue Merle',\n",
       " 'Brown',\n",
       " 'Orange',\n",
       " 'Tan',\n",
       " 'Fawn',\n",
       " 'Black',\n",
       " 'White',\n",
       " 'Black Brindle',\n",
       " 'Blue Tick',\n",
       " 'Black',\n",
       " 'Red',\n",
       " 'Cream',\n",
       " 'Orange',\n",
       " 'Red Merle',\n",
       " 'White',\n",
       " 'Red',\n",
       " 'Blue',\n",
       " 'Blue Smoke',\n",
       " 'Brown',\n",
       " 'Black',\n",
       " 'Red',\n",
       " 'Gold',\n",
       " 'White',\n",
       " 'Buff',\n",
       " 'Black',\n",
       " 'Brown Merle',\n",
       " 'Black',\n",
       " 'Black',\n",
       " 'Gray',\n",
       " 'White',\n",
       " 'Blue Merle',\n",
       " 'Chocolate Point',\n",
       " 'Chocolate Point',\n",
       " 'White',\n",
       " 'Tortie',\n",
       " 'Brown',\n",
       " 'Blue Merle',\n",
       " 'Tan',\n",
       " 'Tan',\n",
       " 'Tan',\n",
       " 'Chocolate',\n",
       " 'Black Smoke',\n",
       " 'White',\n",
       " 'Brown Merle',\n",
       " 'Brown',\n",
       " 'Red',\n",
       " 'Tricolor',\n",
       " 'White',\n",
       " 'Calico',\n",
       " 'White',\n",
       " 'White',\n",
       " 'Yellow',\n",
       " 'Yellow Brindle',\n",
       " 'Lynx Point',\n",
       " 'Brown Tabby',\n",
       " 'Torbie',\n",
       " 'Brown',\n",
       " 'Chocolate',\n",
       " 'Black',\n",
       " 'Brown Tabby',\n",
       " 'Black',\n",
       " 'Black',\n",
       " 'Blue',\n",
       " 'Gray',\n",
       " 'Silver',\n",
       " 'Blue',\n",
       " 'Brown Brindle',\n",
       " 'Silver Lynx Point',\n",
       " 'Blue Merle',\n",
       " 'Tricolor',\n",
       " 'Red',\n",
       " 'Tan',\n",
       " 'Tortie',\n",
       " 'Black',\n",
       " 'White',\n",
       " 'Blue Tabby',\n",
       " 'Chocolate',\n",
       " 'Red',\n",
       " 'Tan',\n",
       " 'Buff',\n",
       " 'Tan',\n",
       " 'Cream',\n",
       " 'Calico',\n",
       " 'Black',\n",
       " 'Blue Merle',\n",
       " 'Black',\n",
       " 'Gray Tabby',\n",
       " 'White',\n",
       " 'Red',\n",
       " 'Tricolor',\n",
       " 'Red Tick',\n",
       " 'Silver',\n",
       " 'Tan',\n",
       " 'Tricolor',\n",
       " 'Chocolate',\n",
       " 'Gold',\n",
       " 'Gold',\n",
       " 'Brown',\n",
       " 'Gray',\n",
       " 'Red Tick',\n",
       " 'Blue Tick',\n",
       " 'Seal Point',\n",
       " 'Brown',\n",
       " 'Tan',\n",
       " 'Silver',\n",
       " 'Brown Merle',\n",
       " 'White',\n",
       " 'Blue Cream',\n",
       " 'Buff',\n",
       " 'Black Brindle',\n",
       " 'Brown',\n",
       " 'Blue',\n",
       " 'Orange',\n",
       " 'White',\n",
       " 'Pink',\n",
       " 'Sable',\n",
       " 'Cream',\n",
       " 'Sable',\n",
       " 'Tan',\n",
       " 'Blue',\n",
       " 'Black',\n",
       " 'Cream',\n",
       " 'Tan',\n",
       " 'White',\n",
       " 'Liver',\n",
       " 'Orange',\n",
       " 'White',\n",
       " 'Blue Tick',\n",
       " 'Red Tick',\n",
       " 'Brown Brindle',\n",
       " 'Blue',\n",
       " 'Blue Merle',\n",
       " 'Red',\n",
       " 'Blue',\n",
       " 'Brown',\n",
       " 'Calico',\n",
       " 'Orange Tabby',\n",
       " 'Cream',\n",
       " 'Gray',\n",
       " 'Tricolor',\n",
       " 'Brown',\n",
       " 'Apricot',\n",
       " 'Brown',\n",
       " 'Tan',\n",
       " 'Blue',\n",
       " 'Cream',\n",
       " 'Black',\n",
       " 'Apricot',\n",
       " 'Fawn',\n",
       " 'Brown',\n",
       " 'Blue Cream',\n",
       " 'White',\n",
       " 'Red Tick',\n",
       " 'Gray',\n",
       " 'Black',\n",
       " 'White',\n",
       " 'Blue Tick',\n",
       " 'Gray',\n",
       " 'Red',\n",
       " 'Tricolor',\n",
       " 'Black',\n",
       " 'Silver Tabby',\n",
       " 'White',\n",
       " 'Blue Tick',\n",
       " 'Brown Brindle',\n",
       " 'Liver Tick',\n",
       " 'White',\n",
       " 'Gray',\n",
       " 'Tan',\n",
       " 'Lynx Point',\n",
       " 'Gray Tabby',\n",
       " 'Tan',\n",
       " 'Tricolor',\n",
       " 'Brown',\n",
       " 'Cream',\n",
       " 'Silver Tabby',\n",
       " 'Black',\n",
       " 'White',\n",
       " 'Gold',\n",
       " 'Tortie',\n",
       " 'Black Smoke',\n",
       " 'Black',\n",
       " 'Black Brindle',\n",
       " 'Black',\n",
       " 'Brown Merle',\n",
       " 'Tan',\n",
       " 'Gray',\n",
       " 'Lynx Point',\n",
       " 'White',\n",
       " 'Brown Tiger',\n",
       " 'Liver Tick',\n",
       " 'Brown Tabby',\n",
       " 'Orange',\n",
       " 'Red',\n",
       " 'Buff',\n",
       " 'Tan',\n",
       " 'Yellow Brindle',\n",
       " 'Fawn',\n",
       " 'Tan',\n",
       " 'Black Brindle',\n",
       " 'Brown Brindle',\n",
       " 'Calico',\n",
       " 'Blue Tabby',\n",
       " 'Orange Tiger',\n",
       " 'Gold',\n",
       " 'Buff',\n",
       " 'Fawn',\n",
       " 'Blue',\n",
       " 'Black',\n",
       " 'Cream']"
      ]
     },
     "execution_count": 63,
     "metadata": {},
     "output_type": "execute_result"
    }
   ],
   "source": [
    "bog_split"
   ]
  },
  {
   "cell_type": "code",
   "execution_count": 64,
   "id": "2a3370b1",
   "metadata": {},
   "outputs": [
    {
     "data": {
      "text/plain": [
       "{'White': 70,\n",
       " 'Brown': 49,\n",
       " 'Blue': 47,\n",
       " 'Black': 47,\n",
       " 'Tan': 28,\n",
       " 'Tabby': 27,\n",
       " 'Red': 23,\n",
       " 'Cream': 20,\n",
       " 'Brindle': 19,\n",
       " 'Point': 18,\n",
       " 'Merle': 17,\n",
       " 'Gray': 14,\n",
       " 'Tick': 14,\n",
       " 'Orange': 12,\n",
       " 'Tricolor': 12,\n",
       " 'Buff': 10,\n",
       " 'Chocolate': 10,\n",
       " 'Tortie': 8,\n",
       " 'Silver': 8,\n",
       " 'Calico': 7,\n",
       " 'Fawn': 7,\n",
       " 'Gold': 7,\n",
       " 'Yellow': 6,\n",
       " 'Sable': 6,\n",
       " 'Lynx': 6,\n",
       " 'Tiger': 5,\n",
       " 'Smoke': 5,\n",
       " 'Seal': 3,\n",
       " 'Torbie': 3,\n",
       " 'Liver': 3,\n",
       " 'Apricot': 2,\n",
       " 'Flame': 1,\n",
       " 'Lilac': 1,\n",
       " 'Pink': 1}"
      ]
     },
     "execution_count": 64,
     "metadata": {},
     "output_type": "execute_result"
    }
   ],
   "source": [
    "mfu.bog(bog_split) "
   ]
  },
  {
   "cell_type": "code",
   "execution_count": 65,
   "id": "c29243d0",
   "metadata": {},
   "outputs": [],
   "source": [
    "bog_colors = pd.Series(mfu.bog(bog_split))"
   ]
  },
  {
   "cell_type": "code",
   "execution_count": 66,
   "id": "2d1cfa2f",
   "metadata": {},
   "outputs": [
    {
     "data": {
      "text/plain": [
       "White        70\n",
       "Brown        49\n",
       "Blue         47\n",
       "Black        47\n",
       "Tan          28\n",
       "Tabby        27\n",
       "Red          23\n",
       "Cream        20\n",
       "Brindle      19\n",
       "Point        18\n",
       "Merle        17\n",
       "Gray         14\n",
       "Tick         14\n",
       "Orange       12\n",
       "Tricolor     12\n",
       "Buff         10\n",
       "Chocolate    10\n",
       "dtype: int64"
      ]
     },
     "execution_count": 66,
     "metadata": {},
     "output_type": "execute_result"
    }
   ],
   "source": [
    "bog_colors.nlargest(17)"
   ]
  },
  {
   "cell_type": "code",
   "execution_count": 67,
   "id": "7591a741",
   "metadata": {},
   "outputs": [],
   "source": [
    "import regex as re"
   ]
  },
  {
   "cell_type": "code",
   "execution_count": 68,
   "id": "0e81f5a2",
   "metadata": {},
   "outputs": [],
   "source": [
    "white_patt = re.compile('White|white')\n",
    "black_patt = re.compile('Black|black')\n",
    "brown_patt = re.compile('Brown|brown')\n",
    "blue_patt = re.compile('Blue|blue')\n",
    "tan_patt = re.compile('Tan|tan')\n",
    "tabby_patt = re.compile('Tabby|tabby')\n",
    "red_patt = re.compile('Red|red')\n",
    "cream_patt = re.compile('Cream|cream')\n",
    "brindle_patt = re.compile('Brindle|brindle')\n",
    "point_patt = re.compile('Point|point')\n",
    "merle_patt = re.compile('Merle|merle')\n",
    "gray_patt = re.compile('Gray|gray')\n",
    "tick_patt = re.compile('Tick|tick')\n",
    "orange_patt = re.compile('Orange|orange')\n",
    "tricolor_patt = re.compile('Tricolor|tricolor')\n",
    "buff_patt = re.compile('Buff|buff')\n",
    "chocolate_patt = re.compile('Chocolate|chocolate')\n"
   ]
  },
  {
   "cell_type": "code",
   "execution_count": 154,
   "id": "4184e652",
   "metadata": {},
   "outputs": [
    {
     "data": {
      "text/plain": [
       "<Figure size 720x720 with 0 Axes>"
      ]
     },
     "metadata": {},
     "output_type": "display_data"
    },
    {
     "data": {
      "image/png": "[encoded data removed]",
      "text/plain": [
       "<Figure size 420.375x360 with 1 Axes>"
      ]
     },
     "metadata": {},
     "output_type": "display_data"
    }
   ],
   "source": [
    "plt.figure(figsize=(10,10))\n",
    "sns.set_style(\"whitegrid\")\n",
    "_plot = sns.catplot(data=pet_df[pet_df.Color.isin(bog_colors.nlargest(14).index)],x='Color',kind='count',hue='AnimalType')\n",
    "_plot.set_xticklabels( rotation=90, horizontalalignment='right')\n",
    "plt.savefig('./Figures/BogColors_catplot')"
   ]
  },
  {
   "cell_type": "markdown",
   "id": "68ce5001",
   "metadata": {},
   "source": [
    "### El color negro es el color de animal más presente en perreras"
   ]
  },
  {
   "cell_type": "code",
   "execution_count": 155,
   "id": "4c3fd260",
   "metadata": {},
   "outputs": [
    {
     "data": {
      "image/png": "[encoded data removed]",
      "text/plain": [
       "<Figure size 1008x576 with 2 Axes>"
      ]
     },
     "metadata": {},
     "output_type": "display_data"
    }
   ],
   "source": [
    "plt.figure(figsize=(14,8))\n",
    "sns.heatmap(pd.crosstab(pet_df.OutcomeType,pet_df.Color),cmap='Greens')\n",
    "plt.savefig('./Figures/ColorOutcome_heatmap')"
   ]
  },
  {
   "cell_type": "code",
   "execution_count": 71,
   "id": "9fe0f7a2",
   "metadata": {},
   "outputs": [],
   "source": [
    "from scipy.stats import chi2_contingency \n",
    "ColorAdoption = pd.crosstab(pet_df.OutcomeType,pet_df.Color)\n",
    "value = np.array([ColorAdoption.iloc[0][0:].values,\n",
    "                  ColorAdoption.iloc[1][0:].values,\n",
    "                  ColorAdoption.iloc[2][0:].values,\n",
    "                  ColorAdoption.iloc[3][0:].values\n",
    "                 ])"
   ]
  },
  {
   "cell_type": "code",
   "execution_count": 72,
   "id": "23faeccf",
   "metadata": {},
   "outputs": [
    {
     "name": "stdout",
     "output_type": "stream",
     "text": [
      "z-statistic is 1007.1148933487838\n",
      "p is 1.4735163988883167e-15\n",
      "degrees of freedom are 675\n"
     ]
    }
   ],
   "source": [
    "z,p,degrees = chi2_contingency(value)[0:3]\n",
    "print(f'z-statistic is {z}\\np is {p}\\ndegrees of freedom are {degrees}')"
   ]
  },
  {
   "cell_type": "code",
   "execution_count": 73,
   "id": "3feab006",
   "metadata": {},
   "outputs": [
    {
     "name": "stdout",
     "output_type": "stream",
     "text": [
      "since 1.4735163988883167e-15 < 0.05 we reject the null hypothesis that the variables are independent from each other\n"
     ]
    }
   ],
   "source": [
    "print(f'since {p} < 0.05 we reject the null hypothesis that the variables are independent from each other')"
   ]
  },
  {
   "cell_type": "markdown",
   "id": "c75133c9",
   "metadata": {},
   "source": [
    "#### el color es significativo a la hora de adoptar"
   ]
  },
  {
   "cell_type": "markdown",
   "id": "c1b242f6",
   "metadata": {},
   "source": [
    "#### según el test de chi cuadrado el color  seria una variable que afecta a la adopción"
   ]
  },
  {
   "cell_type": "code",
   "execution_count": 74,
   "id": "41ed39d2",
   "metadata": {},
   "outputs": [
    {
     "name": "stdout",
     "output_type": "stream",
     "text": [
      "<class 'pandas.core.frame.DataFrame'>\n",
      "Index: 6979 entries, A656520 to A662019\n",
      "Data columns (total 12 columns):\n",
      " #   Column              Non-Null Count  Dtype   \n",
      "---  ------              --------------  -----   \n",
      " 0   Name                6979 non-null   object  \n",
      " 1   DateTime            6979 non-null   object  \n",
      " 2   OutcomeType         6979 non-null   object  \n",
      " 3   OutcomeSubtype      6979 non-null   object  \n",
      " 4   AnimalType          6979 non-null   object  \n",
      " 5   SexuponOutcome      6979 non-null   object  \n",
      " 6   AgeuponOutcome      6979 non-null   object  \n",
      " 7   Breed               6979 non-null   object  \n",
      " 8   Color               6979 non-null   object  \n",
      " 9   AgeuponOutcome_Cat  6979 non-null   category\n",
      " 10  Sex                 6979 non-null   object  \n",
      " 11  Neutered            6979 non-null   object  \n",
      "dtypes: category(1), object(11)\n",
      "memory usage: 919.5+ KB\n"
     ]
    }
   ],
   "source": [
    "pet_df.info()"
   ]
  },
  {
   "cell_type": "markdown",
   "id": "5827a6dd",
   "metadata": {},
   "source": [
    "#### ¿Hay algun tipo de estacionalidad?"
   ]
  },
  {
   "cell_type": "code",
   "execution_count": 75,
   "id": "d5fe5039",
   "metadata": {},
   "outputs": [],
   "source": [
    "# buscaremos por mes\n",
    "month_patt = re.compile('-(\\d*)-')"
   ]
  },
  {
   "cell_type": "code",
   "execution_count": 76,
   "id": "4a01cb44",
   "metadata": {},
   "outputs": [],
   "source": [
    "pet_df['month'] = pet_df['DateTime'].apply(lambda x: month_patt.findall(x)[0])"
   ]
  },
  {
   "cell_type": "code",
   "execution_count": 77,
   "id": "ef6fa38e",
   "metadata": {},
   "outputs": [],
   "source": [
    "order_bins =['01','02','03','04','05','06','07','08','09','10','11','12']\n",
    "pet_df['month_Cat'] = pd.Categorical(pet_df['month'], order_bins)"
   ]
  },
  {
   "cell_type": "code",
   "execution_count": 78,
   "id": "e48d8560",
   "metadata": {},
   "outputs": [
    {
     "data": {
      "text/html": [
       "<div>\n",
       "<style scoped>\n",
       "    .dataframe tbody tr th:only-of-type {\n",
       "        vertical-align: middle;\n",
       "    }\n",
       "\n",
       "    .dataframe tbody tr th {\n",
       "        vertical-align: top;\n",
       "    }\n",
       "\n",
       "    .dataframe thead th {\n",
       "        text-align: right;\n",
       "    }\n",
       "</style>\n",
       "<table border=\"1\" class=\"dataframe\">\n",
       "  <thead>\n",
       "    <tr style=\"text-align: right;\">\n",
       "      <th></th>\n",
       "      <th>Name</th>\n",
       "      <th>DateTime</th>\n",
       "      <th>OutcomeType</th>\n",
       "      <th>OutcomeSubtype</th>\n",
       "      <th>AnimalType</th>\n",
       "      <th>SexuponOutcome</th>\n",
       "      <th>AgeuponOutcome</th>\n",
       "      <th>Breed</th>\n",
       "      <th>Color</th>\n",
       "      <th>AgeuponOutcome_Cat</th>\n",
       "      <th>Sex</th>\n",
       "      <th>Neutered</th>\n",
       "      <th>month</th>\n",
       "      <th>month_Cat</th>\n",
       "    </tr>\n",
       "    <tr>\n",
       "      <th>AnimalID</th>\n",
       "      <th></th>\n",
       "      <th></th>\n",
       "      <th></th>\n",
       "      <th></th>\n",
       "      <th></th>\n",
       "      <th></th>\n",
       "      <th></th>\n",
       "      <th></th>\n",
       "      <th></th>\n",
       "      <th></th>\n",
       "      <th></th>\n",
       "      <th></th>\n",
       "      <th></th>\n",
       "      <th></th>\n",
       "    </tr>\n",
       "  </thead>\n",
       "  <tbody>\n",
       "    <tr>\n",
       "      <th>A656520</th>\n",
       "      <td>Emily</td>\n",
       "      <td>2013-10-13 12:44:00</td>\n",
       "      <td>Euthanasia</td>\n",
       "      <td>Suffering</td>\n",
       "      <td>Cat</td>\n",
       "      <td>Spayed Female</td>\n",
       "      <td>&gt; 1 month and &lt; 1 year</td>\n",
       "      <td>Domestic Shorthair Mix</td>\n",
       "      <td>Cream Tabby</td>\n",
       "      <td>&gt; 1 month and &lt; 1 year</td>\n",
       "      <td>Female</td>\n",
       "      <td>True</td>\n",
       "      <td>10</td>\n",
       "      <td>10</td>\n",
       "    </tr>\n",
       "    <tr>\n",
       "      <th>A686464</th>\n",
       "      <td>Pearce</td>\n",
       "      <td>2015-01-31 12:28:00</td>\n",
       "      <td>Adoption</td>\n",
       "      <td>Foster</td>\n",
       "      <td>Dog</td>\n",
       "      <td>Neutered Male</td>\n",
       "      <td>2 years</td>\n",
       "      <td>Pit Bull Mix</td>\n",
       "      <td>Blue/White</td>\n",
       "      <td>2 years</td>\n",
       "      <td>Male</td>\n",
       "      <td>True</td>\n",
       "      <td>01</td>\n",
       "      <td>01</td>\n",
       "    </tr>\n",
       "    <tr>\n",
       "      <th>A677334</th>\n",
       "      <td>Elsa</td>\n",
       "      <td>2014-04-25 13:04:00</td>\n",
       "      <td>Transfer</td>\n",
       "      <td>Partner</td>\n",
       "      <td>Dog</td>\n",
       "      <td>Intact Female</td>\n",
       "      <td>1 month or less</td>\n",
       "      <td>Cairn Terrier/Chihuahua Shorthair</td>\n",
       "      <td>Black/Tan</td>\n",
       "      <td>1 month or less</td>\n",
       "      <td>Female</td>\n",
       "      <td>False</td>\n",
       "      <td>04</td>\n",
       "      <td>04</td>\n",
       "    </tr>\n",
       "    <tr>\n",
       "      <th>A699218</th>\n",
       "      <td>Jimmy</td>\n",
       "      <td>2015-03-28 13:11:00</td>\n",
       "      <td>Transfer</td>\n",
       "      <td>Partner</td>\n",
       "      <td>Cat</td>\n",
       "      <td>Intact Male</td>\n",
       "      <td>1 month or less</td>\n",
       "      <td>Domestic Shorthair Mix</td>\n",
       "      <td>Blue Tabby</td>\n",
       "      <td>1 month or less</td>\n",
       "      <td>Male</td>\n",
       "      <td>False</td>\n",
       "      <td>03</td>\n",
       "      <td>03</td>\n",
       "    </tr>\n",
       "    <tr>\n",
       "      <th>A684601</th>\n",
       "      <td>Rocket</td>\n",
       "      <td>2016-02-03 11:27:00</td>\n",
       "      <td>Adoption</td>\n",
       "      <td>Foster</td>\n",
       "      <td>Dog</td>\n",
       "      <td>Neutered Male</td>\n",
       "      <td>4 years</td>\n",
       "      <td>Pit Bull Mix</td>\n",
       "      <td>Brown</td>\n",
       "      <td>4 years</td>\n",
       "      <td>Male</td>\n",
       "      <td>True</td>\n",
       "      <td>02</td>\n",
       "      <td>02</td>\n",
       "    </tr>\n",
       "  </tbody>\n",
       "</table>\n",
       "</div>"
      ],
      "text/plain": [
       "            Name             DateTime OutcomeType OutcomeSubtype AnimalType  \\\n",
       "AnimalID                                                                      \n",
       "A656520    Emily  2013-10-13 12:44:00  Euthanasia      Suffering        Cat   \n",
       "A686464   Pearce  2015-01-31 12:28:00    Adoption         Foster        Dog   \n",
       "A677334     Elsa  2014-04-25 13:04:00    Transfer        Partner        Dog   \n",
       "A699218    Jimmy  2015-03-28 13:11:00    Transfer        Partner        Cat   \n",
       "A684601   Rocket  2016-02-03 11:27:00    Adoption         Foster        Dog   \n",
       "\n",
       "         SexuponOutcome          AgeuponOutcome  \\\n",
       "AnimalID                                          \n",
       "A656520   Spayed Female  > 1 month and < 1 year   \n",
       "A686464   Neutered Male                 2 years   \n",
       "A677334   Intact Female         1 month or less   \n",
       "A699218     Intact Male         1 month or less   \n",
       "A684601   Neutered Male                 4 years   \n",
       "\n",
       "                                      Breed        Color  \\\n",
       "AnimalID                                                   \n",
       "A656520              Domestic Shorthair Mix  Cream Tabby   \n",
       "A686464                        Pit Bull Mix   Blue/White   \n",
       "A677334   Cairn Terrier/Chihuahua Shorthair    Black/Tan   \n",
       "A699218              Domestic Shorthair Mix   Blue Tabby   \n",
       "A684601                        Pit Bull Mix        Brown   \n",
       "\n",
       "              AgeuponOutcome_Cat     Sex Neutered month month_Cat  \n",
       "AnimalID                                                           \n",
       "A656520   > 1 month and < 1 year  Female     True    10        10  \n",
       "A686464                  2 years    Male     True    01        01  \n",
       "A677334          1 month or less  Female    False    04        04  \n",
       "A699218          1 month or less    Male    False    03        03  \n",
       "A684601                  4 years    Male     True    02        02  "
      ]
     },
     "execution_count": 78,
     "metadata": {},
     "output_type": "execute_result"
    }
   ],
   "source": [
    "pet_df.head()"
   ]
  },
  {
   "cell_type": "code",
   "execution_count": 170,
   "id": "00136168",
   "metadata": {},
   "outputs": [
    {
     "data": {
      "image/png": "[encoded data removed]",
      "text/plain": [
       "<Figure size 446.5x360 with 1 Axes>"
      ]
     },
     "metadata": {},
     "output_type": "display_data"
    }
   ],
   "source": [
    "sns.catplot(data=pet_df[pet_df.AnimalType=='Dog'],x='month_Cat', kind='count',hue='OutcomeType').set(title='Dogs x month')\n",
    "plt.savefig('./Figures/DogsMonthOutcome_catplot')"
   ]
  },
  {
   "cell_type": "code",
   "execution_count": 171,
   "id": "7cec0b7c",
   "metadata": {},
   "outputs": [
    {
     "data": {
      "image/png": "[encoded data removed]",
      "text/plain": [
       "<Figure size 446.5x360 with 1 Axes>"
      ]
     },
     "metadata": {},
     "output_type": "display_data"
    }
   ],
   "source": [
    "\n",
    "sns.catplot(data=pet_df[pet_df.AnimalType=='Cat'],x='month_Cat', kind='count',hue='OutcomeType').set(title='Cats x month')\n",
    "plt.savefig('./Figures/CatsMonthOutcome_catplot')"
   ]
  },
  {
   "cell_type": "markdown",
   "id": "a6d3489d",
   "metadata": {},
   "source": [
    "- Dogs seem to be more adopted on december\n",
    "- Cats are also adopted on december, and also july. And a there is a spike  Transfer on october"
   ]
  },
  {
   "cell_type": "code",
   "execution_count": 80,
   "id": "0395fe17",
   "metadata": {},
   "outputs": [],
   "source": [
    "cross_month = pd.crosstab(pet_df.OutcomeType,pet_df.month_Cat)"
   ]
  },
  {
   "cell_type": "code",
   "execution_count": 159,
   "id": "21e4d457",
   "metadata": {},
   "outputs": [
    {
     "data": {
      "image/png": "[encoded data removed]",
      "text/plain": [
       "<Figure size 432x288 with 2 Axes>"
      ]
     },
     "metadata": {},
     "output_type": "display_data"
    }
   ],
   "source": [
    "sns.heatmap(cross_month,cmap='Blues')\n",
    "plt.savefig('./Figures/MonthOutcome_heatmap')"
   ]
  },
  {
   "cell_type": "code",
   "execution_count": 82,
   "id": "00982030",
   "metadata": {},
   "outputs": [],
   "source": [
    "value = np.array([cross_month.iloc[0][0:].values,\n",
    "                  cross_month.iloc[1][0:].values,\n",
    "                  cross_month.iloc[2][0:].values,\n",
    "                  cross_month.iloc[3][0:].values\n",
    "                 ])"
   ]
  },
  {
   "cell_type": "code",
   "execution_count": 83,
   "id": "54d0ceb1",
   "metadata": {},
   "outputs": [
    {
     "name": "stdout",
     "output_type": "stream",
     "text": [
      "z-statistic is 172.75274725292175\n",
      "p is 7.426280131177968e-21\n",
      "degrees of freedom are 33\n"
     ]
    }
   ],
   "source": [
    "z,p,degrees = chi2_contingency(value)[0:3]\n",
    "print(f'z-statistic is {z}\\np is {p}\\ndegrees of freedom are {degrees}')"
   ]
  },
  {
   "cell_type": "code",
   "execution_count": 84,
   "id": "e92fb0ed",
   "metadata": {},
   "outputs": [
    {
     "name": "stdout",
     "output_type": "stream",
     "text": [
      "since 7.426280131177968e-21 < 0.05 we reject the null hypothesis that the variables are independent from each other\n"
     ]
    }
   ],
   "source": [
    "print(f'since {p} < 0.05 we reject the null hypothesis that the variables are independent from each other')"
   ]
  },
  {
   "cell_type": "markdown",
   "id": "f4e876bc",
   "metadata": {},
   "source": [
    "# ¿Is it possible that puppy dogs and cats are gifted for Christmas?"
   ]
  },
  {
   "cell_type": "code",
   "execution_count": 85,
   "id": "4cf4c535",
   "metadata": {},
   "outputs": [
    {
     "data": {
      "text/html": [
       "<div>\n",
       "<style scoped>\n",
       "    .dataframe tbody tr th:only-of-type {\n",
       "        vertical-align: middle;\n",
       "    }\n",
       "\n",
       "    .dataframe tbody tr th {\n",
       "        vertical-align: top;\n",
       "    }\n",
       "\n",
       "    .dataframe thead th {\n",
       "        text-align: right;\n",
       "    }\n",
       "</style>\n",
       "<table border=\"1\" class=\"dataframe\">\n",
       "  <thead>\n",
       "    <tr style=\"text-align: right;\">\n",
       "      <th></th>\n",
       "      <th>Name</th>\n",
       "      <th>DateTime</th>\n",
       "      <th>OutcomeType</th>\n",
       "      <th>OutcomeSubtype</th>\n",
       "      <th>AnimalType</th>\n",
       "      <th>SexuponOutcome</th>\n",
       "      <th>AgeuponOutcome</th>\n",
       "      <th>Breed</th>\n",
       "      <th>Color</th>\n",
       "      <th>AgeuponOutcome_Cat</th>\n",
       "      <th>Sex</th>\n",
       "      <th>Neutered</th>\n",
       "      <th>month</th>\n",
       "      <th>month_Cat</th>\n",
       "    </tr>\n",
       "    <tr>\n",
       "      <th>AnimalID</th>\n",
       "      <th></th>\n",
       "      <th></th>\n",
       "      <th></th>\n",
       "      <th></th>\n",
       "      <th></th>\n",
       "      <th></th>\n",
       "      <th></th>\n",
       "      <th></th>\n",
       "      <th></th>\n",
       "      <th></th>\n",
       "      <th></th>\n",
       "      <th></th>\n",
       "      <th></th>\n",
       "      <th></th>\n",
       "    </tr>\n",
       "  </thead>\n",
       "  <tbody>\n",
       "    <tr>\n",
       "      <th>A668388</th>\n",
       "      <td>Lucy</td>\n",
       "      <td>2013-12-09 15:04:00</td>\n",
       "      <td>Transfer</td>\n",
       "      <td>Partner</td>\n",
       "      <td>Cat</td>\n",
       "      <td>Intact Female</td>\n",
       "      <td>&gt; 1 month and &lt; 1 year</td>\n",
       "      <td>Domestic Shorthair Mix</td>\n",
       "      <td>Brown Tabby</td>\n",
       "      <td>&gt; 1 month and &lt; 1 year</td>\n",
       "      <td>Female</td>\n",
       "      <td>False</td>\n",
       "      <td>12</td>\n",
       "      <td>12</td>\n",
       "    </tr>\n",
       "    <tr>\n",
       "      <th>A691847</th>\n",
       "      <td>Hero</td>\n",
       "      <td>2014-12-08 15:53:00</td>\n",
       "      <td>Transfer</td>\n",
       "      <td>Partner</td>\n",
       "      <td>Dog</td>\n",
       "      <td>Neutered Male</td>\n",
       "      <td>&gt; 1 month and &lt; 1 year</td>\n",
       "      <td>Pointer Mix</td>\n",
       "      <td>Black/White</td>\n",
       "      <td>&gt; 1 month and &lt; 1 year</td>\n",
       "      <td>Male</td>\n",
       "      <td>True</td>\n",
       "      <td>12</td>\n",
       "      <td>12</td>\n",
       "    </tr>\n",
       "    <tr>\n",
       "      <th>A700740</th>\n",
       "      <td>Charlie</td>\n",
       "      <td>2015-12-17 12:10:00</td>\n",
       "      <td>Adoption</td>\n",
       "      <td>Foster</td>\n",
       "      <td>Dog</td>\n",
       "      <td>Neutered Male</td>\n",
       "      <td>&gt; 1 month and &lt; 1 year</td>\n",
       "      <td>Chihuahua Shorthair</td>\n",
       "      <td>White</td>\n",
       "      <td>&gt; 1 month and &lt; 1 year</td>\n",
       "      <td>Male</td>\n",
       "      <td>True</td>\n",
       "      <td>12</td>\n",
       "      <td>12</td>\n",
       "    </tr>\n",
       "    <tr>\n",
       "      <th>A688443</th>\n",
       "      <td>Thelma</td>\n",
       "      <td>2014-12-29 15:11:00</td>\n",
       "      <td>Adoption</td>\n",
       "      <td>Foster</td>\n",
       "      <td>Cat</td>\n",
       "      <td>Spayed Female</td>\n",
       "      <td>&gt; 1 month and &lt; 1 year</td>\n",
       "      <td>Domestic Shorthair Mix</td>\n",
       "      <td>Black</td>\n",
       "      <td>&gt; 1 month and &lt; 1 year</td>\n",
       "      <td>Female</td>\n",
       "      <td>True</td>\n",
       "      <td>12</td>\n",
       "      <td>12</td>\n",
       "    </tr>\n",
       "    <tr>\n",
       "      <th>A717008</th>\n",
       "      <td>Taz</td>\n",
       "      <td>2015-12-06 15:12:00</td>\n",
       "      <td>Transfer</td>\n",
       "      <td>Partner</td>\n",
       "      <td>Dog</td>\n",
       "      <td>Neutered Male</td>\n",
       "      <td>&gt; 1 month and &lt; 1 year</td>\n",
       "      <td>Border Collie Mix</td>\n",
       "      <td>Black/White</td>\n",
       "      <td>&gt; 1 month and &lt; 1 year</td>\n",
       "      <td>Male</td>\n",
       "      <td>True</td>\n",
       "      <td>12</td>\n",
       "      <td>12</td>\n",
       "    </tr>\n",
       "  </tbody>\n",
       "</table>\n",
       "</div>"
      ],
      "text/plain": [
       "             Name             DateTime OutcomeType OutcomeSubtype AnimalType  \\\n",
       "AnimalID                                                                       \n",
       "A668388      Lucy  2013-12-09 15:04:00    Transfer        Partner        Cat   \n",
       "A691847      Hero  2014-12-08 15:53:00    Transfer        Partner        Dog   \n",
       "A700740   Charlie  2015-12-17 12:10:00    Adoption         Foster        Dog   \n",
       "A688443    Thelma  2014-12-29 15:11:00    Adoption         Foster        Cat   \n",
       "A717008       Taz  2015-12-06 15:12:00    Transfer        Partner        Dog   \n",
       "\n",
       "         SexuponOutcome          AgeuponOutcome                   Breed  \\\n",
       "AnimalID                                                                  \n",
       "A668388   Intact Female  > 1 month and < 1 year  Domestic Shorthair Mix   \n",
       "A691847   Neutered Male  > 1 month and < 1 year             Pointer Mix   \n",
       "A700740   Neutered Male  > 1 month and < 1 year     Chihuahua Shorthair   \n",
       "A688443   Spayed Female  > 1 month and < 1 year  Domestic Shorthair Mix   \n",
       "A717008   Neutered Male  > 1 month and < 1 year       Border Collie Mix   \n",
       "\n",
       "                Color      AgeuponOutcome_Cat     Sex Neutered month month_Cat  \n",
       "AnimalID                                                                        \n",
       "A668388   Brown Tabby  > 1 month and < 1 year  Female    False    12        12  \n",
       "A691847   Black/White  > 1 month and < 1 year    Male     True    12        12  \n",
       "A700740         White  > 1 month and < 1 year    Male     True    12        12  \n",
       "A688443         Black  > 1 month and < 1 year  Female     True    12        12  \n",
       "A717008   Black/White  > 1 month and < 1 year    Male     True    12        12  "
      ]
     },
     "execution_count": 85,
     "metadata": {},
     "output_type": "execute_result"
    }
   ],
   "source": [
    "pet_df[pet_df.month_Cat=='12'].head()"
   ]
  },
  {
   "cell_type": "code",
   "execution_count": 86,
   "id": "be0ccd7d",
   "metadata": {},
   "outputs": [],
   "source": [
    "pet_df_december = pet_df[pet_df.month_Cat=='12']\n",
    "pet_df_othermonths = pet_df[pet_df.month_Cat=='04']"
   ]
  },
  {
   "cell_type": "code",
   "execution_count": 161,
   "id": "a7ceddbd",
   "metadata": {},
   "outputs": [
    {
     "name": "stderr",
     "output_type": "stream",
     "text": [
      "/var/folders/34/shcpc0k13hndsp05mm2j01th0000gn/T/ipykernel_24061/2810379201.py:4: UserWarning: FixedFormatter should only be used together with FixedLocator\n",
      "  _plot.set_xticklabels(labels=['1 month or less','> 1 month and < 1 year','2 years',\n",
      "/var/folders/34/shcpc0k13hndsp05mm2j01th0000gn/T/ipykernel_24061/2810379201.py:11: UserWarning: FixedFormatter should only be used together with FixedLocator\n",
      "  _plot.set_xticklabels(labels=['1 month or less','> 1 month and < 1 year','2 years',\n"
     ]
    },
    {
     "data": {
      "image/png": "[encoded data removed]",
      "text/plain": [
       "<Figure size 720x504 with 2 Axes>"
      ]
     },
     "metadata": {},
     "output_type": "display_data"
    }
   ],
   "source": [
    "\n",
    "fig, axes = plt.subplots(1,2,figsize=(10,7))\n",
    "\n",
    "_plot = sns.histplot(data=pet_df_december[pet_df_december.OutcomeType == 'Adoption'],x='AgeuponOutcome_Cat',hue='AnimalType',ax=axes[0])\n",
    "_plot.set_xticklabels(labels=['1 month or less','> 1 month and < 1 year','2 years',\n",
    "                             '3 years','4 years','5 years',\n",
    "                             '6 years','7 years','8 years',\n",
    "                             '9 years','10 years or more'] , rotation=90, horizontalalignment='right')\n",
    "axes[0].set_title('Adoptions on month 12')\n",
    "\n",
    "_plot = sns.histplot(data=pet_df_othermonths[pet_df_othermonths.OutcomeType == 'Adoption'],x='AgeuponOutcome_Cat',hue='AnimalType',ax=axes[1])\n",
    "_plot.set_xticklabels(labels=['1 month or less','> 1 month and < 1 year','2 years',\n",
    "                             '3 years','4 years','5 years',\n",
    "                             '6 years','7 years','8 years',\n",
    "                             '9 years','10 years or more'] , rotation=90, horizontalalignment='right')\n",
    "axes[1].set_title('Adoptions on month 4')\n",
    "plt.savefig('./Figures/AdoptionsMonth12_4_histplot')"
   ]
  },
  {
   "cell_type": "markdown",
   "id": "ef4f4193",
   "metadata": {},
   "source": [
    "### In these distributions, the difference 'between > 1 month & < 1 year' and the other bins has increased slightly during month 12 if we compare it to a random month (in our example April)"
   ]
  },
  {
   "cell_type": "markdown",
   "id": "28f22dd3",
   "metadata": {},
   "source": [
    "# ¿Is it possible that black cats are transfered for protection just before Halloween?"
   ]
  },
  {
   "cell_type": "code",
   "execution_count": 88,
   "id": "d97eae49",
   "metadata": {},
   "outputs": [],
   "source": [
    "pet_df_october = pet_df[pet_df.month_Cat == '10']\n",
    "pet_df_octocats = pet_df_october[pet_df_october.AnimalType == 'Cat']\n",
    "pet_df_otherApricats = pet_df_othermonths[pet_df_othermonths.AnimalType == 'Cat']"
   ]
  },
  {
   "cell_type": "code",
   "execution_count": 89,
   "id": "8ca21de8",
   "metadata": {},
   "outputs": [],
   "source": [
    "pet_df_black = pet_df.copy()"
   ]
  },
  {
   "cell_type": "code",
   "execution_count": 90,
   "id": "4216a036",
   "metadata": {},
   "outputs": [
    {
     "data": {
      "text/plain": [
       "Black/White          715\n",
       "Black                619\n",
       "Brown Tabby          409\n",
       "Brown Tabby/White    271\n",
       "Brown/White          237\n",
       "Orange Tabby         223\n",
       "Tan/White            209\n",
       "White                198\n",
       "Blue/White           191\n",
       "White/Black          186\n",
       "Tan                  173\n",
       "Name: Color, dtype: int64"
      ]
     },
     "execution_count": 90,
     "metadata": {},
     "output_type": "execute_result"
    }
   ],
   "source": [
    "pet_df_black.Color.value_counts().nlargest(11)"
   ]
  },
  {
   "cell_type": "code",
   "execution_count": 91,
   "id": "8667ac03",
   "metadata": {},
   "outputs": [],
   "source": [
    "pet_df_black = pet_df_black[(pet_df_black.Color == 'Black') | (pet_df_black.Color == 'White') |\n",
    "            (pet_df_black.Color == 'Black/White') | (pet_df_black.Color == 'Brown Tabby') |\n",
    "            (pet_df_black.Color == 'Brown Tabby/White') | (pet_df_black.Color == 'Brown/White')|\n",
    "            (pet_df_black.Color == 'Orange Tabby')| (pet_df_black.Color == 'Tan/White')|\n",
    "            (pet_df_black.Color == 'Blue/White')|(pet_df_black.Color == 'White/Black')|\n",
    "            (pet_df_black.Color == 'Tan')]                     "
   ]
  },
  {
   "cell_type": "code",
   "execution_count": 129,
   "id": "1a55a870",
   "metadata": {},
   "outputs": [],
   "source": [
    "pet_df_black = pet_df_black[pet_df_black.AnimalType=='Cat']"
   ]
  },
  {
   "cell_type": "code",
   "execution_count": 164,
   "id": "e155bb34",
   "metadata": {},
   "outputs": [
    {
     "data": {
      "image/png": "[encoded data removed]",
      "text/plain": [
       "<Figure size 1080x576 with 1 Axes>"
      ]
     },
     "metadata": {},
     "output_type": "display_data"
    }
   ],
   "source": [
    "plt.figure(figsize=(15,8))\n",
    "sns.countplot(data=pet_df_black[(pet_df_black['OutcomeType'] == 'Adoption')  \n",
    "                                #|(pet_df_black['OutcomeType'] == 'Transfer')\n",
    "                               ]\n",
    "              ,\n",
    "              x='month_Cat',hue='Color')\n",
    "plt.title('Adoptions of blacks and 10 top colors per month')\n",
    "plt.savefig('./Figures/TopColorsMonth_countplot')"
   ]
  },
  {
   "cell_type": "markdown",
   "id": "24fa9808",
   "metadata": {},
   "source": [
    "### Adoptions of black cats are prominent in october.."
   ]
  },
  {
   "cell_type": "markdown",
   "id": "49a9e724",
   "metadata": {},
   "source": [
    "### However transfers and adoption had also an important increase:"
   ]
  },
  {
   "cell_type": "code",
   "execution_count": 165,
   "id": "974d233d",
   "metadata": {},
   "outputs": [
    {
     "data": {
      "image/png": "[encoded data removed]",
      "text/plain": [
       "<Figure size 1080x576 with 1 Axes>"
      ]
     },
     "metadata": {},
     "output_type": "display_data"
    }
   ],
   "source": [
    "plt.figure(figsize=(15,8))\n",
    "sns.countplot(data=pet_df_black[(pet_df_black['OutcomeType'] == 'Transfer')  \n",
    "                                #|(pet_df_black['OutcomeType'] == 'Adoption')\n",
    "                               ]\n",
    "              ,\n",
    "              x='month_Cat',hue='Color')\n",
    "plt.title('Transfer of blacks and 10 top colors per month')\n",
    "plt.savefig('./Figures/TransferMonth12_countplot')"
   ]
  },
  {
   "cell_type": "code",
   "execution_count": 93,
   "id": "b2f34f67",
   "metadata": {},
   "outputs": [
    {
     "name": "stderr",
     "output_type": "stream",
     "text": [
      "/var/folders/34/shcpc0k13hndsp05mm2j01th0000gn/T/ipykernel_24061/3297135781.py:4: UserWarning: FixedFormatter should only be used together with FixedLocator\n",
      "  _plot.set_xticklabels(labels=['1 month or less','> 1 month and < 1 year','2 years',\n",
      "/var/folders/34/shcpc0k13hndsp05mm2j01th0000gn/T/ipykernel_24061/3297135781.py:12: UserWarning: FixedFormatter should only be used together with FixedLocator\n",
      "  _plot.set_xticklabels(labels=['1 month or less','> 1 month and < 1 year','2 years',\n"
     ]
    },
    {
     "data": {
      "text/plain": [
       "(0.0, 20.0)"
      ]
     },
     "execution_count": 93,
     "metadata": {},
     "output_type": "execute_result"
    },
    {
     "data": {
      "image/png": "[encoded data removed]",
      "text/plain": [
       "<Figure size 720x504 with 2 Axes>"
      ]
     },
     "metadata": {},
     "output_type": "display_data"
    }
   ],
   "source": [
    "fig, axes = plt.subplots(1,2,figsize=(10,7))\n",
    "\n",
    "_plot = sns.histplot(data=pet_df_octocats[pet_df_octocats.Color == 'Black'],x='AgeuponOutcome_Cat',hue='OutcomeType',ax=axes[0])\n",
    "_plot.set_xticklabels(labels=['1 month or less','> 1 month and < 1 year','2 years',\n",
    "                             '3 years','4 years','5 years',\n",
    "                             '6 years','7 years','8 years',\n",
    "                             '9 years','10 years or more'] , rotation=90, horizontalalignment='right')\n",
    "axes[0].set_title(f'Outcomes on month \"10\": ({len(pet_df_octocats.Color ==\"Black\")})')\n",
    "axes[0].set_ylim(0,20)\n",
    "\n",
    "_plot = sns.histplot(data=pet_df_otherApricats[pet_df_otherApricats.Color == 'Black'],x='AgeuponOutcome_Cat',hue='OutcomeType',ax=axes[1])\n",
    "_plot.set_xticklabels(labels=['1 month or less','> 1 month and < 1 year','2 years',\n",
    "                             '3 years','4 years','5 years',\n",
    "                             '6 years','7 years','8 years',\n",
    "                             '9 years','10 years or more'] , rotation=90, horizontalalignment='right')\n",
    "axes[1].set_title(f'Outcomes on month \"04\": ({len(pet_df_otherApricats.Color ==\"Black\")})')\n",
    "axes[1].set_ylim(0,20)\n"
   ]
  },
  {
   "cell_type": "markdown",
   "id": "79e49d35",
   "metadata": {},
   "source": [
    "### Transfers and adoptions of black (specially transfers) cats are higher on october"
   ]
  },
  {
   "cell_type": "markdown",
   "id": "7fac1440",
   "metadata": {},
   "source": [
    "## Regression to predict adoption"
   ]
  },
  {
   "cell_type": "code",
   "execution_count": 94,
   "id": "3eacf928",
   "metadata": {},
   "outputs": [],
   "source": [
    "from sklearn.linear_model import LinearRegression\n",
    "from sklearn.feature_selection import RFE\n",
    "from sklearn.preprocessing import LabelEncoder\n",
    "from sklearn.linear_model import LogisticRegression"
   ]
  },
  {
   "cell_type": "code",
   "execution_count": 95,
   "id": "43c2ec67",
   "metadata": {},
   "outputs": [],
   "source": [
    "#model = LinearRegression()"
   ]
  },
  {
   "cell_type": "code",
   "execution_count": 96,
   "id": "1ae4872b",
   "metadata": {},
   "outputs": [
    {
     "data": {
      "text/plain": [
       "'\\nOutcomeType_enc = LabelEncoder()\\nAnimalType_enc = LabelEncoder()\\nBreed_enc = LabelEncoder()\\nColor_enc = LabelEncoder()\\nAgeupon_enc = LabelEncoder()\\nSex_enc = LabelEncoder()\\nNeutered_enc = LabelEncoder()\\n'"
      ]
     },
     "execution_count": 96,
     "metadata": {},
     "output_type": "execute_result"
    }
   ],
   "source": [
    "'''\n",
    "OutcomeType_enc = LabelEncoder()\n",
    "AnimalType_enc = LabelEncoder()\n",
    "Breed_enc = LabelEncoder()\n",
    "Color_enc = LabelEncoder()\n",
    "Ageupon_enc = LabelEncoder()\n",
    "Sex_enc = LabelEncoder()\n",
    "Neutered_enc = LabelEncoder()\n",
    "'''"
   ]
  },
  {
   "cell_type": "code",
   "execution_count": 97,
   "id": "24708233",
   "metadata": {},
   "outputs": [],
   "source": [
    "pet_df_origin = pet_df.copy()"
   ]
  },
  {
   "cell_type": "code",
   "execution_count": 98,
   "id": "a831f2f4",
   "metadata": {},
   "outputs": [
    {
     "data": {
      "text/plain": [
       "\"\\npet_df['OutcomeType_enc'] = OutcomeType_enc.fit_transform(pet_df.OutcomeType)\\npet_df['AnimalType_enc'] = AnimalType_enc.fit_transform(pet_df.AnimalType)\\npet_df['Breed_enc'] = Breed_enc.fit_transform(pet_df.Breed)\\npet_df['Color_enc'] = Color_enc.fit_transform(pet_df.Color)\\npet_df['AgeuponOutcome_Cat_enc'] = Ageupon_enc.fit_transform(pet_df.AgeuponOutcome_Cat)\\npet_df['Sex_enc'] = Sex_enc.fit_transform(pet_df.Sex)\\npet_df['Neutered_enc'] = Neutered_enc.fit_transform(pet_df.Neutered)\\n\""
      ]
     },
     "execution_count": 98,
     "metadata": {},
     "output_type": "execute_result"
    }
   ],
   "source": [
    "'''\n",
    "pet_df['OutcomeType_enc'] = OutcomeType_enc.fit_transform(pet_df.OutcomeType)\n",
    "pet_df['AnimalType_enc'] = AnimalType_enc.fit_transform(pet_df.AnimalType)\n",
    "pet_df['Breed_enc'] = Breed_enc.fit_transform(pet_df.Breed)\n",
    "pet_df['Color_enc'] = Color_enc.fit_transform(pet_df.Color)\n",
    "pet_df['AgeuponOutcome_Cat_enc'] = Ageupon_enc.fit_transform(pet_df.AgeuponOutcome_Cat)\n",
    "pet_df['Sex_enc'] = Sex_enc.fit_transform(pet_df.Sex)\n",
    "pet_df['Neutered_enc'] = Neutered_enc.fit_transform(pet_df.Neutered)\n",
    "'''"
   ]
  },
  {
   "cell_type": "code",
   "execution_count": 99,
   "id": "c7372bc3",
   "metadata": {},
   "outputs": [
    {
     "data": {
      "text/plain": [
       "\"\\n#select target\\n# we will focus on only adoption\\npet_df['Adopted'] = pet_df['OutcomeType'].apply(lambda x: 1 if x=='Adoption' else 0)\\nX = pet_df['Adopted']\\n\""
      ]
     },
     "execution_count": 99,
     "metadata": {},
     "output_type": "execute_result"
    }
   ],
   "source": [
    "'''\n",
    "#select target\n",
    "# we will focus on only adoption\n",
    "pet_df['Adopted'] = pet_df['OutcomeType'].apply(lambda x: 1 if x=='Adoption' else 0)\n",
    "X = pet_df['Adopted']\n",
    "'''"
   ]
  },
  {
   "cell_type": "code",
   "execution_count": 100,
   "id": "a925e492",
   "metadata": {},
   "outputs": [
    {
     "data": {
      "text/plain": [
       "\"\\n#select parameters\\ny = pet_df[['AnimalType_enc','Breed_enc','Color_enc','AgeuponOutcome_Cat_enc','Sex_enc','Neutered_enc']]\\n\""
      ]
     },
     "execution_count": 100,
     "metadata": {},
     "output_type": "execute_result"
    }
   ],
   "source": [
    "'''\n",
    "#select parameters\n",
    "y = pet_df[['AnimalType_enc','Breed_enc','Color_enc','AgeuponOutcome_Cat_enc','Sex_enc','Neutered_enc']]\n",
    "'''"
   ]
  },
  {
   "cell_type": "code",
   "execution_count": 101,
   "id": "fc303f05",
   "metadata": {},
   "outputs": [
    {
     "data": {
      "text/plain": [
       "'\\n#train and test\\nfrom sklearn.model_selection import train_test_split\\nX_train, X_test, y_train, y_test = train_test_split(y,X,test_size = 0.1)\\n'"
      ]
     },
     "execution_count": 101,
     "metadata": {},
     "output_type": "execute_result"
    }
   ],
   "source": [
    "'''\n",
    "#train and test\n",
    "from sklearn.model_selection import train_test_split\n",
    "X_train, X_test, y_train, y_test = train_test_split(y,X,test_size = 0.1)\n",
    "'''"
   ]
  },
  {
   "cell_type": "code",
   "execution_count": 102,
   "id": "58f898ac",
   "metadata": {},
   "outputs": [],
   "source": [
    "#X_train.head()"
   ]
  },
  {
   "cell_type": "code",
   "execution_count": 103,
   "id": "83a6f148",
   "metadata": {},
   "outputs": [],
   "source": [
    "#model.fit(X_train,y_train)"
   ]
  },
  {
   "cell_type": "code",
   "execution_count": 104,
   "id": "0a73f92a",
   "metadata": {},
   "outputs": [],
   "source": [
    "#model.score(X_test,y_test) "
   ]
  },
  {
   "cell_type": "code",
   "execution_count": 105,
   "id": "2d6d6841",
   "metadata": {},
   "outputs": [],
   "source": [
    "#y_pred = model.predict(X_test)"
   ]
  },
  {
   "cell_type": "code",
   "execution_count": 106,
   "id": "cd5647ad",
   "metadata": {},
   "outputs": [
    {
     "data": {
      "text/plain": [
       "\"\\naciertos = 0\\nfor i,j in zip(y_pred,y_test):\\n    if round(i) == j:\\n        aciertos += 1\\nprint(round(aciertos/len(y_test) * 100,3), '%')\\n\""
      ]
     },
     "execution_count": 106,
     "metadata": {},
     "output_type": "execute_result"
    }
   ],
   "source": [
    "'''\n",
    "aciertos = 0\n",
    "for i,j in zip(y_pred,y_test):\n",
    "    if round(i) == j:\n",
    "        aciertos += 1\n",
    "print(round(aciertos/len(y_test) * 100,3), '%')\n",
    "'''"
   ]
  },
  {
   "cell_type": "code",
   "execution_count": 107,
   "id": "9660dc73",
   "metadata": {},
   "outputs": [],
   "source": [
    "#X_test.head()"
   ]
  },
  {
   "cell_type": "code",
   "execution_count": 108,
   "id": "a3632e71",
   "metadata": {},
   "outputs": [],
   "source": [
    "#pd.Series([1,189,59,9,1,1],index=['AnimalType_enc','Breed_enc','Color_enc','AgeuponOutcome_Cat_enc',\n",
    "#                                 'Sex_enc','Neutered_enc'])"
   ]
  },
  {
   "cell_type": "code",
   "execution_count": 109,
   "id": "2f3a2dda",
   "metadata": {},
   "outputs": [
    {
     "data": {
      "text/plain": [
       "\"\\ndef pred_test(animalTy,Breed,Color,Age,Sex,Neut):\\n    pet_df_plus = pet_df_origin.copy()\\n    pet_df_plus.loc[len(pet_df_plus.index)] = ['testanimal','2013-10-13 12:44:00',\\n                                               'Euthanasia','Suffering',\\n                                               animalTy,'Spayed Female',\\n                                               '3 years',Breed,Color,Age,Sex,Neut]\\n    \\n    \\n    pet_df_plus['OutcomeType_enc'] = OutcomeType_enc.fit_transform(pet_df_plus.OutcomeType)\\n    pet_df_plus['AnimalType_enc'] = AnimalType_enc.fit_transform(pet_df_plus.AnimalType)\\n    pet_df_plus['Breed_enc'] = Breed_enc.fit_transform(pet_df_plus.Breed)\\n    pet_df_plus['Color_enc'] = Color_enc.fit_transform(pet_df_plus.Color)\\n    pet_df_plus['AgeuponOutcome_Cat_enc'] = Ageupon_enc.fit_transform(pet_df_plus.AgeuponOutcome_Cat)\\n    pet_df_plus['Sex_enc'] = Sex_enc.fit_transform(pet_df_plus.Sex)\\n    pet_df_plus['Neutered_enc'] = Neutered_enc.fit_transform(pet_df_plus.Neutered)\\n    \\n    #select target\\n    # we will focus on only adoption\\n    pet_df_plus['Adopted'] = pet_df_plus['OutcomeType'].apply(lambda x: 1 if x=='Adoption' else 0)\\n    X = pet_df_plus['Adopted']\\n    \\n    #select parameters\\n    y = pet_df_plus[['AnimalType_enc','Breed_enc','Color_enc','AgeuponOutcome_Cat_enc','Sex_enc','Neutered_enc']]\\n    \\n    X_train, X_test, y_train, y_test = train_test_split(y,X,test_size = 0.1)\\n    \\n    \\n    model.fit(X_train,y_train)\\n    y_pred = model.predict(X_test)\\n    \\n    return y_pred[-1], y_test[-1]\\n\""
      ]
     },
     "execution_count": 109,
     "metadata": {},
     "output_type": "execute_result"
    }
   ],
   "source": [
    "'''\n",
    "def pred_test(animalTy,Breed,Color,Age,Sex,Neut):\n",
    "    pet_df_plus = pet_df_origin.copy()\n",
    "    pet_df_plus.loc[len(pet_df_plus.index)] = ['testanimal','2013-10-13 12:44:00',\n",
    "                                               'Euthanasia','Suffering',\n",
    "                                               animalTy,'Spayed Female',\n",
    "                                               '3 years',Breed,Color,Age,Sex,Neut]\n",
    "    \n",
    "    \n",
    "    pet_df_plus['OutcomeType_enc'] = OutcomeType_enc.fit_transform(pet_df_plus.OutcomeType)\n",
    "    pet_df_plus['AnimalType_enc'] = AnimalType_enc.fit_transform(pet_df_plus.AnimalType)\n",
    "    pet_df_plus['Breed_enc'] = Breed_enc.fit_transform(pet_df_plus.Breed)\n",
    "    pet_df_plus['Color_enc'] = Color_enc.fit_transform(pet_df_plus.Color)\n",
    "    pet_df_plus['AgeuponOutcome_Cat_enc'] = Ageupon_enc.fit_transform(pet_df_plus.AgeuponOutcome_Cat)\n",
    "    pet_df_plus['Sex_enc'] = Sex_enc.fit_transform(pet_df_plus.Sex)\n",
    "    pet_df_plus['Neutered_enc'] = Neutered_enc.fit_transform(pet_df_plus.Neutered)\n",
    "    \n",
    "    #select target\n",
    "    # we will focus on only adoption\n",
    "    pet_df_plus['Adopted'] = pet_df_plus['OutcomeType'].apply(lambda x: 1 if x=='Adoption' else 0)\n",
    "    X = pet_df_plus['Adopted']\n",
    "    \n",
    "    #select parameters\n",
    "    y = pet_df_plus[['AnimalType_enc','Breed_enc','Color_enc','AgeuponOutcome_Cat_enc','Sex_enc','Neutered_enc']]\n",
    "    \n",
    "    X_train, X_test, y_train, y_test = train_test_split(y,X,test_size = 0.1)\n",
    "    \n",
    "    \n",
    "    model.fit(X_train,y_train)\n",
    "    y_pred = model.predict(X_test)\n",
    "    \n",
    "    return y_pred[-1], y_test[-1]\n",
    "'''  "
   ]
  },
  {
   "cell_type": "code",
   "execution_count": 110,
   "id": "ced8b6cf",
   "metadata": {},
   "outputs": [],
   "source": [
    "#pred_test('Dog','Doberman Pinsch Mix','Black','10 years or more','Female',False)"
   ]
  },
  {
   "cell_type": "markdown",
   "id": "8120c0d2",
   "metadata": {},
   "source": [
    "### Logistic regression"
   ]
  },
  {
   "cell_type": "code",
   "execution_count": 298,
   "id": "64725eb8",
   "metadata": {},
   "outputs": [],
   "source": [
    "model = LogisticRegression()"
   ]
  },
  {
   "cell_type": "code",
   "execution_count": 299,
   "id": "68b3fe07",
   "metadata": {},
   "outputs": [],
   "source": [
    "from category_encoders import TargetEncoder\n",
    "from category_encoders import CountEncoder\n",
    "from sklearn.model_selection import train_test_split"
   ]
  },
  {
   "cell_type": "code",
   "execution_count": 300,
   "id": "f19b9c3a",
   "metadata": {},
   "outputs": [],
   "source": [
    "pet_df_origin['Adoption'] = pet_df['OutcomeType'].apply(lambda x: 1 if (x=='Adoption') else 0)"
   ]
  },
  {
   "cell_type": "code",
   "execution_count": 301,
   "id": "57209d3e",
   "metadata": {},
   "outputs": [
    {
     "data": {
      "text/plain": [
       "\"\\nencoder = TargetEncoder(cols=pet_df_origin[['Adoption','AnimalType',\\n                                           'Breed','Color','AgeuponOutcome_Cat',\\n                                           'Sex','Neutered']])\\n\""
      ]
     },
     "execution_count": 301,
     "metadata": {},
     "output_type": "execute_result"
    }
   ],
   "source": [
    "'''\n",
    "encoder = TargetEncoder(cols=pet_df_origin[['Adoption','AnimalType',\n",
    "                                           'Breed','Color','AgeuponOutcome_Cat',\n",
    "                                           'Sex','Neutered']])\n",
    "'''"
   ]
  },
  {
   "cell_type": "code",
   "execution_count": 302,
   "id": "a0fd0297",
   "metadata": {},
   "outputs": [],
   "source": [
    "encoder = CountEncoder(cols=pet_df_origin[['AnimalType',\n",
    "                                           'Breed','Color','AgeuponOutcome_Cat',\n",
    "                                           'Sex','Neutered','month_Cat']],normalize=True)"
   ]
  },
  {
   "cell_type": "code",
   "execution_count": 303,
   "id": "a827a852",
   "metadata": {},
   "outputs": [],
   "source": [
    "y = pet_df_origin.Adoption"
   ]
  },
  {
   "cell_type": "code",
   "execution_count": 304,
   "id": "0cceaf73",
   "metadata": {},
   "outputs": [
    {
     "data": {
      "text/plain": [
       "AnimalID\n",
       "A656520    0\n",
       "A686464    1\n",
       "A677334    0\n",
       "A699218    0\n",
       "A684601    1\n",
       "          ..\n",
       "A666920    0\n",
       "A692622    0\n",
       "A666284    0\n",
       "A697158    1\n",
       "A662019    1\n",
       "Name: Adoption, Length: 6979, dtype: int64"
      ]
     },
     "execution_count": 304,
     "metadata": {},
     "output_type": "execute_result"
    }
   ],
   "source": [
    "y"
   ]
  },
  {
   "cell_type": "code",
   "execution_count": 305,
   "id": "e0698d4c",
   "metadata": {},
   "outputs": [],
   "source": [
    "X = pet_df_origin[['AnimalType',\n",
    "                   'Breed','Color','AgeuponOutcome_Cat',\n",
    "                   'Sex','Neutered','month_Cat']]"
   ]
  },
  {
   "cell_type": "code",
   "execution_count": 306,
   "id": "0987c264",
   "metadata": {},
   "outputs": [
    {
     "data": {
      "text/html": [
       "<div>\n",
       "<style scoped>\n",
       "    .dataframe tbody tr th:only-of-type {\n",
       "        vertical-align: middle;\n",
       "    }\n",
       "\n",
       "    .dataframe tbody tr th {\n",
       "        vertical-align: top;\n",
       "    }\n",
       "\n",
       "    .dataframe thead th {\n",
       "        text-align: right;\n",
       "    }\n",
       "</style>\n",
       "<table border=\"1\" class=\"dataframe\">\n",
       "  <thead>\n",
       "    <tr style=\"text-align: right;\">\n",
       "      <th></th>\n",
       "      <th>AnimalType</th>\n",
       "      <th>Breed</th>\n",
       "      <th>Color</th>\n",
       "      <th>AgeuponOutcome_Cat</th>\n",
       "      <th>Sex</th>\n",
       "      <th>Neutered</th>\n",
       "      <th>month_Cat</th>\n",
       "    </tr>\n",
       "    <tr>\n",
       "      <th>AnimalID</th>\n",
       "      <th></th>\n",
       "      <th></th>\n",
       "      <th></th>\n",
       "      <th></th>\n",
       "      <th></th>\n",
       "      <th></th>\n",
       "      <th></th>\n",
       "    </tr>\n",
       "  </thead>\n",
       "  <tbody>\n",
       "    <tr>\n",
       "      <th>A656520</th>\n",
       "      <td>Cat</td>\n",
       "      <td>Domestic Shorthair Mix</td>\n",
       "      <td>Cream Tabby</td>\n",
       "      <td>&gt; 1 month and &lt; 1 year</td>\n",
       "      <td>Female</td>\n",
       "      <td>True</td>\n",
       "      <td>10</td>\n",
       "    </tr>\n",
       "    <tr>\n",
       "      <th>A686464</th>\n",
       "      <td>Dog</td>\n",
       "      <td>Pit Bull Mix</td>\n",
       "      <td>Blue/White</td>\n",
       "      <td>2 years</td>\n",
       "      <td>Male</td>\n",
       "      <td>True</td>\n",
       "      <td>01</td>\n",
       "    </tr>\n",
       "    <tr>\n",
       "      <th>A677334</th>\n",
       "      <td>Dog</td>\n",
       "      <td>Cairn Terrier/Chihuahua Shorthair</td>\n",
       "      <td>Black/Tan</td>\n",
       "      <td>1 month or less</td>\n",
       "      <td>Female</td>\n",
       "      <td>False</td>\n",
       "      <td>04</td>\n",
       "    </tr>\n",
       "    <tr>\n",
       "      <th>A699218</th>\n",
       "      <td>Cat</td>\n",
       "      <td>Domestic Shorthair Mix</td>\n",
       "      <td>Blue Tabby</td>\n",
       "      <td>1 month or less</td>\n",
       "      <td>Male</td>\n",
       "      <td>False</td>\n",
       "      <td>03</td>\n",
       "    </tr>\n",
       "    <tr>\n",
       "      <th>A684601</th>\n",
       "      <td>Dog</td>\n",
       "      <td>Pit Bull Mix</td>\n",
       "      <td>Brown</td>\n",
       "      <td>4 years</td>\n",
       "      <td>Male</td>\n",
       "      <td>True</td>\n",
       "      <td>02</td>\n",
       "    </tr>\n",
       "    <tr>\n",
       "      <th>...</th>\n",
       "      <td>...</td>\n",
       "      <td>...</td>\n",
       "      <td>...</td>\n",
       "      <td>...</td>\n",
       "      <td>...</td>\n",
       "      <td>...</td>\n",
       "      <td>...</td>\n",
       "    </tr>\n",
       "    <tr>\n",
       "      <th>A666920</th>\n",
       "      <td>Dog</td>\n",
       "      <td>Chihuahua Shorthair Mix</td>\n",
       "      <td>White/Brown</td>\n",
       "      <td>2 years</td>\n",
       "      <td>Male</td>\n",
       "      <td>True</td>\n",
       "      <td>11</td>\n",
       "    </tr>\n",
       "    <tr>\n",
       "      <th>A692622</th>\n",
       "      <td>Dog</td>\n",
       "      <td>Chihuahua Shorthair/Yorkshire Terrier</td>\n",
       "      <td>Brown/Black</td>\n",
       "      <td>1 month or less</td>\n",
       "      <td>Female</td>\n",
       "      <td>False</td>\n",
       "      <td>11</td>\n",
       "    </tr>\n",
       "    <tr>\n",
       "      <th>A666284</th>\n",
       "      <td>Dog</td>\n",
       "      <td>Cocker Spaniel/Dachshund</td>\n",
       "      <td>Buff</td>\n",
       "      <td>&gt; 1 month and &lt; 1 year</td>\n",
       "      <td>Female</td>\n",
       "      <td>False</td>\n",
       "      <td>10</td>\n",
       "    </tr>\n",
       "    <tr>\n",
       "      <th>A697158</th>\n",
       "      <td>Dog</td>\n",
       "      <td>Newfoundland Mix</td>\n",
       "      <td>White/Black</td>\n",
       "      <td>&gt; 1 month and &lt; 1 year</td>\n",
       "      <td>Male</td>\n",
       "      <td>True</td>\n",
       "      <td>05</td>\n",
       "    </tr>\n",
       "    <tr>\n",
       "      <th>A662019</th>\n",
       "      <td>Cat</td>\n",
       "      <td>Domestic Shorthair Mix</td>\n",
       "      <td>Black</td>\n",
       "      <td>5 years</td>\n",
       "      <td>Female</td>\n",
       "      <td>True</td>\n",
       "      <td>07</td>\n",
       "    </tr>\n",
       "  </tbody>\n",
       "</table>\n",
       "<p>6979 rows × 7 columns</p>\n",
       "</div>"
      ],
      "text/plain": [
       "         AnimalType                                  Breed        Color  \\\n",
       "AnimalID                                                                  \n",
       "A656520         Cat                 Domestic Shorthair Mix  Cream Tabby   \n",
       "A686464         Dog                           Pit Bull Mix   Blue/White   \n",
       "A677334         Dog      Cairn Terrier/Chihuahua Shorthair    Black/Tan   \n",
       "A699218         Cat                 Domestic Shorthair Mix   Blue Tabby   \n",
       "A684601         Dog                           Pit Bull Mix        Brown   \n",
       "...             ...                                    ...          ...   \n",
       "A666920         Dog                Chihuahua Shorthair Mix  White/Brown   \n",
       "A692622         Dog  Chihuahua Shorthair/Yorkshire Terrier  Brown/Black   \n",
       "A666284         Dog               Cocker Spaniel/Dachshund         Buff   \n",
       "A697158         Dog                       Newfoundland Mix  White/Black   \n",
       "A662019         Cat                 Domestic Shorthair Mix        Black   \n",
       "\n",
       "              AgeuponOutcome_Cat     Sex Neutered month_Cat  \n",
       "AnimalID                                                     \n",
       "A656520   > 1 month and < 1 year  Female     True        10  \n",
       "A686464                  2 years    Male     True        01  \n",
       "A677334          1 month or less  Female    False        04  \n",
       "A699218          1 month or less    Male    False        03  \n",
       "A684601                  4 years    Male     True        02  \n",
       "...                          ...     ...      ...       ...  \n",
       "A666920                  2 years    Male     True        11  \n",
       "A692622          1 month or less  Female    False        11  \n",
       "A666284   > 1 month and < 1 year  Female    False        10  \n",
       "A697158   > 1 month and < 1 year    Male     True        05  \n",
       "A662019                  5 years  Female     True        07  \n",
       "\n",
       "[6979 rows x 7 columns]"
      ]
     },
     "execution_count": 306,
     "metadata": {},
     "output_type": "execute_result"
    }
   ],
   "source": [
    "X"
   ]
  },
  {
   "cell_type": "code",
   "execution_count": 307,
   "id": "89035b60",
   "metadata": {},
   "outputs": [],
   "source": [
    "X_enc = encoder.fit_transform(X, y)"
   ]
  },
  {
   "cell_type": "code",
   "execution_count": 308,
   "id": "78314ef0",
   "metadata": {},
   "outputs": [],
   "source": [
    "X_train, X_test, y_train, y_test = train_test_split(X_enc,y,test_size = 0.1, stratify=y)"
   ]
  },
  {
   "cell_type": "code",
   "execution_count": 309,
   "id": "cf22a946",
   "metadata": {},
   "outputs": [],
   "source": [
    "model = LogisticRegression()"
   ]
  },
  {
   "cell_type": "code",
   "execution_count": 310,
   "id": "a222a0e0",
   "metadata": {},
   "outputs": [
    {
     "data": {
      "text/plain": [
       "LogisticRegression()"
      ]
     },
     "execution_count": 310,
     "metadata": {},
     "output_type": "execute_result"
    }
   ],
   "source": [
    "model.fit(X_train,y_train)"
   ]
  },
  {
   "cell_type": "code",
   "execution_count": 311,
   "id": "d290485f",
   "metadata": {},
   "outputs": [
    {
     "data": {
      "text/plain": [
       "0.8008595988538681"
      ]
     },
     "execution_count": 311,
     "metadata": {},
     "output_type": "execute_result"
    }
   ],
   "source": [
    "model.score(X_test,y_test)"
   ]
  },
  {
   "cell_type": "code",
   "execution_count": 312,
   "id": "29215882",
   "metadata": {},
   "outputs": [],
   "source": [
    "y_pred = model.predict(X_test)"
   ]
  },
  {
   "cell_type": "code",
   "execution_count": 313,
   "id": "848df3fe",
   "metadata": {},
   "outputs": [],
   "source": [
    "from sklearn.metrics import classification_report"
   ]
  },
  {
   "cell_type": "code",
   "execution_count": 314,
   "id": "d127b2ed",
   "metadata": {},
   "outputs": [
    {
     "name": "stdout",
     "output_type": "stream",
     "text": [
      "              precision    recall  f1-score   support\n",
      "\n",
      "           0       0.83      0.93      0.88       531\n",
      "           1       0.63      0.40      0.49       167\n",
      "\n",
      "    accuracy                           0.80       698\n",
      "   macro avg       0.73      0.66      0.68       698\n",
      "weighted avg       0.78      0.80      0.78       698\n",
      "\n"
     ]
    }
   ],
   "source": [
    "print(classification_report(y_test,y_pred))"
   ]
  },
  {
   "cell_type": "code",
   "execution_count": null,
   "id": "35e3a527",
   "metadata": {},
   "outputs": [],
   "source": []
  },
  {
   "cell_type": "code",
   "execution_count": null,
   "id": "362b2d98",
   "metadata": {},
   "outputs": [],
   "source": []
  },
  {
   "cell_type": "code",
   "execution_count": null,
   "id": "557a960d",
   "metadata": {},
   "outputs": [],
   "source": []
  }
 ],
 "metadata": {
  "kernelspec": {
   "display_name": "Python 3 (ipykernel)",
   "language": "python",
   "name": "python3"
  },
  "language_info": {
   "codemirror_mode": {
    "name": "ipython",
    "version": 3
   },
   "file_extension": ".py",
   "mimetype": "text/x-python",
   "name": "python",
   "nbconvert_exporter": "python",
   "pygments_lexer": "ipython3",
   "version": "3.9.7"
  }
 },
 "nbformat": 4,
 "nbformat_minor": 5
}
